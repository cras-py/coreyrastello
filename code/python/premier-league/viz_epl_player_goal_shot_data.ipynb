{
 "cells": [
  {
   "cell_type": "code",
   "execution_count": 1,
   "metadata": {},
   "outputs": [],
   "source": [
    "import pandas as pd\n",
    "import numpy as np\n",
    "import glob\n",
    "from functools import reduce\n",
    "import ipywidgets \n",
    "import seaborn as sns\n",
    "import matplotlib.pyplot as plt\n",
    "import plotly.express as px\n",
    "import plotly\n",
    "from PIL import Image\n",
    "\n",
    "def clean_cols(df):\n",
    "    for i, columns_old in enumerate(df.columns.levels):\n",
    "        columns_new = np.where(columns_old.str.contains('Unnamed'), '', columns_old)\n",
    "        df.rename(columns=dict(zip(columns_old, columns_new)), level=i, inplace=True)\n",
    "\n",
    "\n",
    "dir = \"C:\\\\Users\\\\Corey\\\\\"\n",
    "doc_dir = \"C:\\\\Users\\\\Corey\\\\coreyrastello\\\\docs\\\\\""
   ]
  },
  {
   "cell_type": "code",
   "execution_count": 2,
   "metadata": {},
   "outputs": [],
   "source": [
    "#read it into a dataframe, use the right number of headers and index cols\n",
    "\n",
    "df = pd.read_csv(rf\"{dir}coreyrastello\\data\\premier-league\\AllSeasons\\NonMatchData\\epl_player_season_stats_goal_shot_creation_AllSeasons_Season.csv\", header=[0,1], index_col=[0,1,2,3])\n",
    "sch = pd.read_csv(rf\"{dir}coreyrastello\\data\\premier-league\\AllSeasons\\NonMatchData\\epl_schedule_AllSeasons_Season.csv\", index_col='game_id')\n",
    "clean_cols(df)\n"
   ]
  },
  {
   "cell_type": "code",
   "execution_count": 3,
   "metadata": {},
   "outputs": [
    {
     "data": {
      "text/html": [
       "<div>\n",
       "<style scoped>\n",
       "    .dataframe tbody tr th:only-of-type {\n",
       "        vertical-align: middle;\n",
       "    }\n",
       "\n",
       "    .dataframe tbody tr th {\n",
       "        vertical-align: top;\n",
       "    }\n",
       "\n",
       "    .dataframe thead tr th {\n",
       "        text-align: left;\n",
       "    }\n",
       "\n",
       "    .dataframe thead tr:last-of-type th {\n",
       "        text-align: right;\n",
       "    }\n",
       "</style>\n",
       "<table border=\"1\" class=\"dataframe\">\n",
       "  <thead>\n",
       "    <tr>\n",
       "      <th></th>\n",
       "      <th></th>\n",
       "      <th></th>\n",
       "      <th></th>\n",
       "      <th>nation</th>\n",
       "      <th>pos</th>\n",
       "      <th>age</th>\n",
       "      <th>born</th>\n",
       "      <th>90s</th>\n",
       "      <th colspan=\"2\" halign=\"left\">SCA</th>\n",
       "      <th colspan=\"6\" halign=\"left\">SCA Types</th>\n",
       "      <th colspan=\"2\" halign=\"left\">GCA</th>\n",
       "      <th colspan=\"6\" halign=\"left\">GCA Types</th>\n",
       "    </tr>\n",
       "    <tr>\n",
       "      <th></th>\n",
       "      <th></th>\n",
       "      <th></th>\n",
       "      <th></th>\n",
       "      <th></th>\n",
       "      <th></th>\n",
       "      <th></th>\n",
       "      <th></th>\n",
       "      <th></th>\n",
       "      <th>SCA</th>\n",
       "      <th>SCA90</th>\n",
       "      <th>PassLive</th>\n",
       "      <th>PassDead</th>\n",
       "      <th>TO</th>\n",
       "      <th>...</th>\n",
       "      <th>Fld</th>\n",
       "      <th>Def</th>\n",
       "      <th>GCA</th>\n",
       "      <th>GCA90</th>\n",
       "      <th>PassLive</th>\n",
       "      <th>PassDead</th>\n",
       "      <th>TO</th>\n",
       "      <th>Sh</th>\n",
       "      <th>Fld</th>\n",
       "      <th>Def</th>\n",
       "    </tr>\n",
       "    <tr>\n",
       "      <th>league</th>\n",
       "      <th>season</th>\n",
       "      <th>team</th>\n",
       "      <th>player</th>\n",
       "      <th></th>\n",
       "      <th></th>\n",
       "      <th></th>\n",
       "      <th></th>\n",
       "      <th></th>\n",
       "      <th></th>\n",
       "      <th></th>\n",
       "      <th></th>\n",
       "      <th></th>\n",
       "      <th></th>\n",
       "      <th></th>\n",
       "      <th></th>\n",
       "      <th></th>\n",
       "      <th></th>\n",
       "      <th></th>\n",
       "      <th></th>\n",
       "      <th></th>\n",
       "      <th></th>\n",
       "      <th></th>\n",
       "      <th></th>\n",
       "      <th></th>\n",
       "    </tr>\n",
       "  </thead>\n",
       "  <tbody>\n",
       "    <tr>\n",
       "      <th rowspan=\"5\" valign=\"top\">ENG-Premier League</th>\n",
       "      <th rowspan=\"5\" valign=\"top\">1819</th>\n",
       "      <th rowspan=\"5\" valign=\"top\">Arsenal</th>\n",
       "      <th>Aaron Ramsey</th>\n",
       "      <td>WAL</td>\n",
       "      <td>MF</td>\n",
       "      <td>27</td>\n",
       "      <td>1990</td>\n",
       "      <td>14.8</td>\n",
       "      <td>48</td>\n",
       "      <td>3.25</td>\n",
       "      <td>41</td>\n",
       "      <td>0</td>\n",
       "      <td>3</td>\n",
       "      <td>...</td>\n",
       "      <td>0</td>\n",
       "      <td>1</td>\n",
       "      <td>10</td>\n",
       "      <td>0.68</td>\n",
       "      <td>9</td>\n",
       "      <td>0</td>\n",
       "      <td>1</td>\n",
       "      <td>0</td>\n",
       "      <td>0</td>\n",
       "      <td>0</td>\n",
       "    </tr>\n",
       "    <tr>\n",
       "      <th>Ainsley Maitland-Niles</th>\n",
       "      <td>ENG</td>\n",
       "      <td>DF</td>\n",
       "      <td>20</td>\n",
       "      <td>1997</td>\n",
       "      <td>11.0</td>\n",
       "      <td>19</td>\n",
       "      <td>1.73</td>\n",
       "      <td>16</td>\n",
       "      <td>1</td>\n",
       "      <td>1</td>\n",
       "      <td>...</td>\n",
       "      <td>0</td>\n",
       "      <td>0</td>\n",
       "      <td>2</td>\n",
       "      <td>0.18</td>\n",
       "      <td>2</td>\n",
       "      <td>0</td>\n",
       "      <td>0</td>\n",
       "      <td>0</td>\n",
       "      <td>0</td>\n",
       "      <td>0</td>\n",
       "    </tr>\n",
       "    <tr>\n",
       "      <th>Alex Iwobi</th>\n",
       "      <td>NGA</td>\n",
       "      <td>FW,MF</td>\n",
       "      <td>22</td>\n",
       "      <td>1996</td>\n",
       "      <td>21.9</td>\n",
       "      <td>84</td>\n",
       "      <td>3.84</td>\n",
       "      <td>77</td>\n",
       "      <td>1</td>\n",
       "      <td>3</td>\n",
       "      <td>...</td>\n",
       "      <td>0</td>\n",
       "      <td>0</td>\n",
       "      <td>11</td>\n",
       "      <td>0.50</td>\n",
       "      <td>11</td>\n",
       "      <td>0</td>\n",
       "      <td>0</td>\n",
       "      <td>0</td>\n",
       "      <td>0</td>\n",
       "      <td>0</td>\n",
       "    </tr>\n",
       "    <tr>\n",
       "      <th>Alexandre Lacazette</th>\n",
       "      <td>FRA</td>\n",
       "      <td>FW</td>\n",
       "      <td>27</td>\n",
       "      <td>1991</td>\n",
       "      <td>27.8</td>\n",
       "      <td>84</td>\n",
       "      <td>3.02</td>\n",
       "      <td>55</td>\n",
       "      <td>0</td>\n",
       "      <td>16</td>\n",
       "      <td>...</td>\n",
       "      <td>5</td>\n",
       "      <td>2</td>\n",
       "      <td>15</td>\n",
       "      <td>0.54</td>\n",
       "      <td>10</td>\n",
       "      <td>0</td>\n",
       "      <td>3</td>\n",
       "      <td>1</td>\n",
       "      <td>1</td>\n",
       "      <td>0</td>\n",
       "    </tr>\n",
       "    <tr>\n",
       "      <th>Bernd Leno</th>\n",
       "      <td>GER</td>\n",
       "      <td>GK</td>\n",
       "      <td>26</td>\n",
       "      <td>1992</td>\n",
       "      <td>31.5</td>\n",
       "      <td>0</td>\n",
       "      <td>0.00</td>\n",
       "      <td>0</td>\n",
       "      <td>0</td>\n",
       "      <td>0</td>\n",
       "      <td>...</td>\n",
       "      <td>0</td>\n",
       "      <td>0</td>\n",
       "      <td>0</td>\n",
       "      <td>0.00</td>\n",
       "      <td>0</td>\n",
       "      <td>0</td>\n",
       "      <td>0</td>\n",
       "      <td>0</td>\n",
       "      <td>0</td>\n",
       "      <td>0</td>\n",
       "    </tr>\n",
       "  </tbody>\n",
       "</table>\n",
       "<p>5 rows × 21 columns</p>\n",
       "</div>"
      ],
      "text/plain": [
       "                                                         nation    pos age  \\\n",
       "                                                                             \n",
       "league             season team    player                                     \n",
       "ENG-Premier League 1819   Arsenal Aaron Ramsey              WAL     MF  27   \n",
       "                                  Ainsley Maitland-Niles    ENG     DF  20   \n",
       "                                  Alex Iwobi                NGA  FW,MF  22   \n",
       "                                  Alexandre Lacazette       FRA     FW  27   \n",
       "                                  Bernd Leno                GER     GK  26   \n",
       "\n",
       "                                                          born   90s SCA  \\\n",
       "                                                                     SCA   \n",
       "league             season team    player                                   \n",
       "ENG-Premier League 1819   Arsenal Aaron Ramsey            1990  14.8  48   \n",
       "                                  Ainsley Maitland-Niles  1997  11.0  19   \n",
       "                                  Alex Iwobi              1996  21.9  84   \n",
       "                                  Alexandre Lacazette     1991  27.8  84   \n",
       "                                  Bernd Leno              1992  31.5   0   \n",
       "\n",
       "                                                               SCA Types  \\\n",
       "                                                         SCA90  PassLive   \n",
       "league             season team    player                                   \n",
       "ENG-Premier League 1819   Arsenal Aaron Ramsey            3.25        41   \n",
       "                                  Ainsley Maitland-Niles  1.73        16   \n",
       "                                  Alex Iwobi              3.84        77   \n",
       "                                  Alexandre Lacazette     3.02        55   \n",
       "                                  Bernd Leno              0.00         0   \n",
       "\n",
       "                                                                       ...  \\\n",
       "                                                         PassDead  TO  ...   \n",
       "league             season team    player                               ...   \n",
       "ENG-Premier League 1819   Arsenal Aaron Ramsey                  0   3  ...   \n",
       "                                  Ainsley Maitland-Niles        1   1  ...   \n",
       "                                  Alex Iwobi                    1   3  ...   \n",
       "                                  Alexandre Lacazette           0  16  ...   \n",
       "                                  Bernd Leno                    0   0  ...   \n",
       "\n",
       "                                                                 GCA        \\\n",
       "                                                         Fld Def GCA GCA90   \n",
       "league             season team    player                                     \n",
       "ENG-Premier League 1819   Arsenal Aaron Ramsey             0   1  10  0.68   \n",
       "                                  Ainsley Maitland-Niles   0   0   2  0.18   \n",
       "                                  Alex Iwobi               0   0  11  0.50   \n",
       "                                  Alexandre Lacazette      5   2  15  0.54   \n",
       "                                  Bernd Leno               0   0   0  0.00   \n",
       "\n",
       "                                                         GCA Types           \\\n",
       "                                                          PassLive PassDead   \n",
       "league             season team    player                                      \n",
       "ENG-Premier League 1819   Arsenal Aaron Ramsey                   9        0   \n",
       "                                  Ainsley Maitland-Niles         2        0   \n",
       "                                  Alex Iwobi                    11        0   \n",
       "                                  Alexandre Lacazette           10        0   \n",
       "                                  Bernd Leno                     0        0   \n",
       "\n",
       "                                                                        \n",
       "                                                         TO Sh Fld Def  \n",
       "league             season team    player                                \n",
       "ENG-Premier League 1819   Arsenal Aaron Ramsey            1  0   0   0  \n",
       "                                  Ainsley Maitland-Niles  0  0   0   0  \n",
       "                                  Alex Iwobi              0  0   0   0  \n",
       "                                  Alexandre Lacazette     3  1   1   0  \n",
       "                                  Bernd Leno              0  0   0   0  \n",
       "\n",
       "[5 rows x 21 columns]"
      ]
     },
     "execution_count": 3,
     "metadata": {},
     "output_type": "execute_result"
    }
   ],
   "source": [
    "df.head()"
   ]
  },
  {
   "cell_type": "code",
   "execution_count": 4,
   "metadata": {},
   "outputs": [],
   "source": [
    "df = df.reset_index()"
   ]
  },
  {
   "cell_type": "code",
   "execution_count": 5,
   "metadata": {},
   "outputs": [
    {
     "data": {
      "text/plain": [
       "array(['FW', 'MF', 'FW,MF', 'MF,FW'], dtype=object)"
      ]
     },
     "execution_count": 5,
     "metadata": {},
     "output_type": "execute_result"
    }
   ],
   "source": [
    "df = df.loc[df['90s'] > 10]\n",
    "df = df.loc[df['pos'].isin(['FW','MF','MF,FW','FW,MF'])]\n",
    "df = df.loc[df['season'].isin([1920,2021,2122,2223,2324,2425])]\n",
    "df.pos.unique()\n"
   ]
  },
  {
   "cell_type": "code",
   "execution_count": 7,
   "metadata": {},
   "outputs": [
    {
     "data": {
      "application/vnd.plotly.v1+json": {
       "config": {
        "plotlyServerURL": "https://plot.ly"
       },
       "data": [
        {
         "customdata": [
          [
           "Alexandre Lacazette",
           "FRA"
          ],
          [
           "Dani Ceballos",
           "ESP"
          ],
          [
           "Granit Xhaka",
           "SUI"
          ],
          [
           "Lucas Torreira",
           "URU"
          ],
          [
           "Mattéo Guendouzi",
           "FRA"
          ],
          [
           "Mesut Özil",
           "GER"
          ],
          [
           "Nicolas Pépé",
           "CIV"
          ],
          [
           "Pierre-Emerick Aubameyang",
           "GAB"
          ]
         ],
         "hovertemplate": "Team=Arsenal<br>animation_frame=1920<br><b>SCA90</b>=%{x}<br><b>GCA90</b>=%{y}<br>text=%{text}<br>Player=%{customdata[0]}<br>Nation=%{customdata[1]}<extra></extra>",
         "ids": [
          "Alexandre Lacazette",
          "Dani Ceballos",
          "Granit Xhaka",
          "Lucas Torreira",
          "Mattéo Guendouzi",
          "Mesut Özil",
          "Nicolas Pépé",
          "Pierre-Emerick Aubameyang"
         ],
         "legendgroup": "Arsenal",
         "marker": {
          "color": "#636efa",
          "symbol": "circle"
         },
         "mode": "markers+text",
         "name": "Arsenal",
         "orientation": "v",
         "showlegend": true,
         "text": [
          "Alexandre Lacazette",
          "Dani Ceballos",
          "Granit Xhaka",
          "Lucas Torreira",
          "Mattéo Guendouzi",
          "Mesut Özil",
          "Nicolas Pépé",
          "Pierre-Emerick Aubameyang"
         ],
         "textposition": "bottom center",
         "type": "scatter",
         "x": [
          3.27,
          2.98,
          1.53,
          2.02,
          2.06,
          4.69,
          3.22,
          1.98
         ],
         "xaxis": "x",
         "y": [
          0.58,
          0.37,
          0.1,
          0.12,
          0.1,
          0.5,
          0.4,
          0.34
         ],
         "yaxis": "y"
        },
        {
         "customdata": [
          [
           "Anwar El Ghazi",
           "NED"
          ],
          [
           "Conor Hourihane",
           "IRL"
          ],
          [
           "Douglas Luiz",
           "BRA"
          ],
          [
           "Jack Grealish",
           "ENG"
          ],
          [
           "John McGinn",
           "SCO"
          ],
          [
           "Marvelous Nakamba",
           "ZIM"
          ],
          [
           "Mbwana Samatta",
           "TAN"
          ],
          [
           "Trézéguet",
           "EGY"
          ],
          [
           "Wesley Moraes",
           "BRA"
          ]
         ],
         "hovertemplate": "Team=Aston Villa<br>animation_frame=1920<br><b>SCA90</b>=%{x}<br><b>GCA90</b>=%{y}<br>text=%{text}<br>Player=%{customdata[0]}<br>Nation=%{customdata[1]}<extra></extra>",
         "ids": [
          "Anwar El Ghazi",
          "Conor Hourihane",
          "Douglas Luiz",
          "Jack Grealish",
          "John McGinn",
          "Marvelous Nakamba",
          "Mbwana Samatta",
          "Trézéguet",
          "Wesley Moraes"
         ],
         "legendgroup": "Aston Villa",
         "marker": {
          "color": "#EF553B",
          "symbol": "circle"
         },
         "mode": "markers+text",
         "name": "Aston Villa",
         "orientation": "v",
         "showlegend": true,
         "text": [
          "Anwar El Ghazi",
          "Conor Hourihane",
          "Douglas Luiz",
          "Jack Grealish",
          "John McGinn",
          "Marvelous Nakamba",
          "Mbwana Samatta",
          "Trézéguet",
          "Wesley Moraes"
         ],
         "textposition": "bottom center",
         "type": "scatter",
         "x": [
          2.55,
          3.64,
          1.86,
          5.51,
          3.58,
          1.13,
          1.62,
          2.54,
          1.62
         ],
         "xaxis": "x",
         "y": [
          0.26,
          0.41,
          0.1,
          0.5,
          0.35,
          0.05,
          0,
          0.18,
          0.15
         ],
         "yaxis": "y"
        },
        {
         "customdata": [
          [
           "Callum Wilson",
           "ENG"
          ],
          [
           "Dan Gosling",
           "ENG"
          ],
          [
           "Dominic Solanke",
           "ENG"
          ],
          [
           "Harry Wilson",
           "WAL"
          ],
          [
           "Jefferson Lerma",
           "COL"
          ],
          [
           "Joshua King",
           "NOR"
          ],
          [
           "Lewis Cook",
           "ENG"
          ],
          [
           "Philip Billing",
           "DEN"
          ],
          [
           "Ryan Fraser",
           "SCO"
          ]
         ],
         "hovertemplate": "Team=Bournemouth<br>animation_frame=1920<br><b>SCA90</b>=%{x}<br><b>GCA90</b>=%{y}<br>text=%{text}<br>Player=%{customdata[0]}<br>Nation=%{customdata[1]}<extra></extra>",
         "ids": [
          "Callum Wilson",
          "Dan Gosling",
          "Dominic Solanke",
          "Harry Wilson",
          "Jefferson Lerma",
          "Joshua King",
          "Lewis Cook",
          "Philip Billing",
          "Ryan Fraser"
         ],
         "legendgroup": "Bournemouth",
         "marker": {
          "color": "#00cc96",
          "symbol": "circle"
         },
         "mode": "markers+text",
         "name": "Bournemouth",
         "orientation": "v",
         "showlegend": true,
         "text": [
          "Callum Wilson",
          "Dan Gosling",
          "Dominic Solanke",
          "Harry Wilson",
          "Jefferson Lerma",
          "Joshua King",
          "Lewis Cook",
          "Philip Billing",
          "Ryan Fraser"
         ],
         "textposition": "bottom center",
         "type": "scatter",
         "x": [
          1.86,
          1.71,
          2.34,
          2.68,
          1.53,
          2.73,
          2.73,
          1.78,
          3.57
         ],
         "xaxis": "x",
         "y": [
          0.28,
          0.14,
          0.27,
          0.22,
          0.1,
          0.36,
          0.13,
          0.11,
          0.35
         ],
         "yaxis": "y"
        },
        {
         "customdata": [
          [
           "Aaron Connolly",
           "IRL"
          ],
          [
           "Aaron Mooy",
           "AUS"
          ],
          [
           "Dale Stephens",
           "ENG"
          ],
          [
           "Davy Pröpper",
           "NED"
          ],
          [
           "Leandro Trossard",
           "BEL"
          ],
          [
           "Neal Maupay",
           "FRA"
          ],
          [
           "Pascal Groß",
           "GER"
          ],
          [
           "Solly March",
           "ENG"
          ],
          [
           "Yves Bissouma",
           "MLI"
          ]
         ],
         "hovertemplate": "Team=Brighton<br>animation_frame=1920<br><b>SCA90</b>=%{x}<br><b>GCA90</b>=%{y}<br>text=%{text}<br>Player=%{customdata[0]}<br>Nation=%{customdata[1]}<extra></extra>",
         "ids": [
          "Aaron Connolly",
          "Aaron Mooy",
          "Dale Stephens",
          "Davy Pröpper",
          "Leandro Trossard",
          "Neal Maupay",
          "Pascal Groß",
          "Solly March",
          "Yves Bissouma"
         ],
         "legendgroup": "Brighton",
         "marker": {
          "color": "#ab63fa",
          "symbol": "circle"
         },
         "mode": "markers+text",
         "name": "Brighton",
         "orientation": "v",
         "showlegend": true,
         "text": [
          "Aaron Connolly",
          "Aaron Mooy",
          "Dale Stephens",
          "Davy Pröpper",
          "Leandro Trossard",
          "Neal Maupay",
          "Pascal Groß",
          "Solly March",
          "Yves Bissouma"
         ],
         "textposition": "bottom center",
         "type": "scatter",
         "x": [
          1.93,
          3.37,
          1.78,
          2.13,
          4.03,
          2.38,
          5.11,
          3.07,
          1.07
         ],
         "xaxis": "x",
         "y": [
          0.36,
          0.3,
          0.11,
          0.13,
          0.4,
          0.23,
          0.4,
          0.31,
          0.07
         ],
         "yaxis": "y"
        },
        {
         "customdata": [
          [
           "Ashley Barnes",
           "ENG"
          ],
          [
           "Ashley Westwood",
           "ENG"
          ],
          [
           "Chris Wood",
           "NZL"
          ],
          [
           "Dwight McNeil",
           "ENG"
          ],
          [
           "Jack Cork",
           "ENG"
          ],
          [
           "Jay Rodriguez",
           "ENG"
          ],
          [
           "Jeff Hendrick",
           "IRL"
          ]
         ],
         "hovertemplate": "Team=Burnley<br>animation_frame=1920<br><b>SCA90</b>=%{x}<br><b>GCA90</b>=%{y}<br>text=%{text}<br>Player=%{customdata[0]}<br>Nation=%{customdata[1]}<extra></extra>",
         "ids": [
          "Ashley Barnes",
          "Ashley Westwood",
          "Chris Wood",
          "Dwight McNeil",
          "Jack Cork",
          "Jay Rodriguez",
          "Jeff Hendrick"
         ],
         "legendgroup": "Burnley",
         "marker": {
          "color": "#FFA15A",
          "symbol": "circle"
         },
         "mode": "markers+text",
         "name": "Burnley",
         "orientation": "v",
         "showlegend": true,
         "text": [
          "Ashley Barnes",
          "Ashley Westwood",
          "Chris Wood",
          "Dwight McNeil",
          "Jack Cork",
          "Jay Rodriguez",
          "Jeff Hendrick"
         ],
         "textposition": "bottom center",
         "type": "scatter",
         "x": [
          1.6,
          3.03,
          1.96,
          3.13,
          1.07,
          1.43,
          1.77
         ],
         "xaxis": "x",
         "y": [
          0.2,
          0.23,
          0.15,
          0.38,
          0.1,
          0.27,
          0.14
         ],
         "yaxis": "y"
        },
        {
         "customdata": [
          [
           "Christian Pulisic",
           "USA"
          ],
          [
           "Jorginho",
           "ITA"
          ],
          [
           "Mason Mount",
           "ENG"
          ],
          [
           "Mateo Kovačić",
           "CRO"
          ],
          [
           "N'Golo Kanté",
           "FRA"
          ],
          [
           "Olivier Giroud",
           "FRA"
          ],
          [
           "Ross Barkley",
           "ENG"
          ],
          [
           "Tammy Abraham",
           "ENG"
          ],
          [
           "Willian",
           "BRA"
          ]
         ],
         "hovertemplate": "Team=Chelsea<br>animation_frame=1920<br><b>SCA90</b>=%{x}<br><b>GCA90</b>=%{y}<br>text=%{text}<br>Player=%{customdata[0]}<br>Nation=%{customdata[1]}<extra></extra>",
         "ids": [
          "Christian Pulisic",
          "Jorginho",
          "Mason Mount",
          "Mateo Kovačić",
          "N'Golo Kanté",
          "Olivier Giroud",
          "Ross Barkley",
          "Tammy Abraham",
          "Willian"
         ],
         "legendgroup": "Chelsea",
         "marker": {
          "color": "#19d3f3",
          "symbol": "circle"
         },
         "mode": "markers+text",
         "name": "Chelsea",
         "orientation": "v",
         "showlegend": true,
         "text": [
          "Christian Pulisic",
          "Jorginho",
          "Mason Mount",
          "Mateo Kovačić",
          "N'Golo Kanté",
          "Olivier Giroud",
          "Ross Barkley",
          "Tammy Abraham",
          "Willian"
         ],
         "textposition": "bottom center",
         "type": "scatter",
         "x": [
          4.55,
          3.06,
          3.99,
          3.39,
          3.17,
          2.17,
          4.24,
          2.32,
          5.78
         ],
         "xaxis": "x",
         "y": [
          0.84,
          0.3,
          0.57,
          0.35,
          0.1,
          0.36,
          0.49,
          0.37,
          0.52
         ],
         "yaxis": "y"
        },
        {
         "customdata": [
          [
           "Andros Townsend",
           "ENG"
          ],
          [
           "Christian Benteke",
           "BEL"
          ],
          [
           "James McArthur",
           "SCO"
          ],
          [
           "James McCarthy",
           "IRL"
          ],
          [
           "Jeffrey Schlupp",
           "GHA"
          ],
          [
           "Jordan Ayew",
           "GHA"
          ],
          [
           "Luka Milivojević",
           "SRB"
          ],
          [
           "Wilfried Zaha",
           "CIV"
          ]
         ],
         "hovertemplate": "Team=Crystal Palace<br>animation_frame=1920<br><b>SCA90</b>=%{x}<br><b>GCA90</b>=%{y}<br>text=%{text}<br>Player=%{customdata[0]}<br>Nation=%{customdata[1]}<extra></extra>",
         "ids": [
          "Andros Townsend",
          "Christian Benteke",
          "James McArthur",
          "James McCarthy",
          "Jeffrey Schlupp",
          "Jordan Ayew",
          "Luka Milivojević",
          "Wilfried Zaha"
         ],
         "legendgroup": "Crystal Palace",
         "marker": {
          "color": "#FF6692",
          "symbol": "circle"
         },
         "mode": "markers+text",
         "name": "Crystal Palace",
         "orientation": "v",
         "showlegend": true,
         "text": [
          "Andros Townsend",
          "Christian Benteke",
          "James McArthur",
          "James McCarthy",
          "Jeffrey Schlupp",
          "Jordan Ayew",
          "Luka Milivojević",
          "Wilfried Zaha"
         ],
         "textposition": "bottom center",
         "type": "scatter",
         "x": [
          2.23,
          3,
          2.04,
          1.66,
          1.74,
          2.32,
          2.11,
          3.51
         ],
         "xaxis": "x",
         "y": [
          0.14,
          0.43,
          0.23,
          0.05,
          0.17,
          0.23,
          0.14,
          0.25
         ],
         "yaxis": "y"
        },
        {
         "customdata": [
          [
           "Alex Iwobi",
           "NGA"
          ],
          [
           "André Gomes",
           "POR"
          ],
          [
           "Bernard",
           "BRA"
          ],
          [
           "Dominic Calvert-Lewin",
           "ENG"
          ],
          [
           "Fabian Delph",
           "ENG"
          ],
          [
           "Gylfi Sigurðsson",
           "ISL"
          ],
          [
           "Morgan Schneiderlin",
           "FRA"
          ],
          [
           "Richarlison",
           "BRA"
          ],
          [
           "Theo Walcott",
           "ENG"
          ],
          [
           "Tom Davies",
           "ENG"
          ]
         ],
         "hovertemplate": "Team=Everton<br>animation_frame=1920<br><b>SCA90</b>=%{x}<br><b>GCA90</b>=%{y}<br>text=%{text}<br>Player=%{customdata[0]}<br>Nation=%{customdata[1]}<extra></extra>",
         "ids": [
          "Alex Iwobi",
          "André Gomes",
          "Bernard",
          "Dominic Calvert-Lewin",
          "Fabian Delph",
          "Gylfi Sigurðsson",
          "Morgan Schneiderlin",
          "Richarlison",
          "Theo Walcott",
          "Tom Davies"
         ],
         "legendgroup": "Everton",
         "marker": {
          "color": "#B6E880",
          "symbol": "circle"
         },
         "mode": "markers+text",
         "name": "Everton",
         "orientation": "v",
         "showlegend": true,
         "text": [
          "Alex Iwobi",
          "André Gomes",
          "Bernard",
          "Dominic Calvert-Lewin",
          "Fabian Delph",
          "Gylfi Sigurðsson",
          "Morgan Schneiderlin",
          "Richarlison",
          "Theo Walcott",
          "Tom Davies"
         ],
         "textposition": "bottom center",
         "type": "scatter",
         "x": [
          3.05,
          1.91,
          3.58,
          1.92,
          1.89,
          3.2,
          1.53,
          2.73,
          2.87,
          1.33
         ],
         "xaxis": "x",
         "y": [
          0.11,
          0.12,
          0.28,
          0.07,
          0.15,
          0.25,
          0,
          0.26,
          0.56,
          0
         ],
         "yaxis": "y"
        },
        {
         "customdata": [
          [
           "Ayoze Pérez",
           "ESP"
          ],
          [
           "Dennis Praet",
           "BEL"
          ],
          [
           "Harvey Barnes",
           "ENG"
          ],
          [
           "James Maddison",
           "ENG"
          ],
          [
           "Jamie Vardy",
           "ENG"
          ],
          [
           "Kelechi Iheanacho",
           "NGA"
          ],
          [
           "Wilfred Ndidi",
           "NGA"
          ],
          [
           "Youri Tielemans",
           "BEL"
          ]
         ],
         "hovertemplate": "Team=Leicester City<br>animation_frame=1920<br><b>SCA90</b>=%{x}<br><b>GCA90</b>=%{y}<br>text=%{text}<br>Player=%{customdata[0]}<br>Nation=%{customdata[1]}<extra></extra>",
         "ids": [
          "Ayoze Pérez",
          "Dennis Praet",
          "Harvey Barnes",
          "James Maddison",
          "Jamie Vardy",
          "Kelechi Iheanacho",
          "Wilfred Ndidi",
          "Youri Tielemans"
         ],
         "legendgroup": "Leicester City",
         "marker": {
          "color": "#FF97FF",
          "symbol": "circle"
         },
         "mode": "markers+text",
         "name": "Leicester City",
         "orientation": "v",
         "showlegend": true,
         "text": [
          "Ayoze Pérez",
          "Dennis Praet",
          "Harvey Barnes",
          "James Maddison",
          "Jamie Vardy",
          "Kelechi Iheanacho",
          "Wilfred Ndidi",
          "Youri Tielemans"
         ],
         "textposition": "bottom center",
         "type": "scatter",
         "x": [
          3.37,
          1.98,
          3.76,
          5.83,
          2.08,
          3.47,
          1.55,
          3.5
         ],
         "xaxis": "x",
         "y": [
          0.67,
          0.32,
          0.69,
          0.34,
          0.36,
          0.47,
          0.1,
          0.32
         ],
         "yaxis": "y"
        },
        {
         "customdata": [
          [
           "Alex Oxlade-Chamberlain",
           "ENG"
          ],
          [
           "Fabinho",
           "BRA"
          ],
          [
           "Georginio Wijnaldum",
           "NED"
          ],
          [
           "Jordan Henderson",
           "ENG"
          ],
          [
           "Mohamed Salah",
           "EGY"
          ],
          [
           "Roberto Firmino",
           "BRA"
          ],
          [
           "Sadio Mané",
           "SEN"
          ]
         ],
         "hovertemplate": "Team=Liverpool<br>animation_frame=1920<br><b>SCA90</b>=%{x}<br><b>GCA90</b>=%{y}<br>text=%{text}<br>Player=%{customdata[0]}<br>Nation=%{customdata[1]}<extra></extra>",
         "ids": [
          "Alex Oxlade-Chamberlain",
          "Fabinho",
          "Georginio Wijnaldum",
          "Jordan Henderson",
          "Mohamed Salah",
          "Roberto Firmino",
          "Sadio Mané"
         ],
         "legendgroup": "Liverpool",
         "marker": {
          "color": "#FECB52",
          "symbol": "circle"
         },
         "mode": "markers+text",
         "name": "Liverpool",
         "orientation": "v",
         "showlegend": true,
         "text": [
          "Alex Oxlade-Chamberlain",
          "Fabinho",
          "Georginio Wijnaldum",
          "Jordan Henderson",
          "Mohamed Salah",
          "Roberto Firmino",
          "Sadio Mané"
         ],
         "textposition": "bottom center",
         "type": "scatter",
         "x": [
          3.09,
          2.16,
          1.69,
          2.13,
          4.26,
          3.43,
          3.73
         ],
         "xaxis": "x",
         "y": [
          0.36,
          0.22,
          0.12,
          0.24,
          0.47,
          0.6,
          0.52
         ],
         "yaxis": "y"
        },
        {
         "customdata": [
          [
           "Bernardo Silva",
           "POR"
          ],
          [
           "David Silva",
           "ESP"
          ],
          [
           "Gabriel Jesus",
           "BRA"
          ],
          [
           "Kevin De Bruyne",
           "BEL"
          ],
          [
           "Raheem Sterling",
           "ENG"
          ],
          [
           "Riyad Mahrez",
           "ALG"
          ],
          [
           "Rodri",
           "ESP"
          ],
          [
           "Sergio Agüero",
           "ARG"
          ],
          [
           "İlkay Gündoğan",
           "GER"
          ]
         ],
         "hovertemplate": "Team=Manchester City<br>animation_frame=1920<br><b>SCA90</b>=%{x}<br><b>GCA90</b>=%{y}<br>text=%{text}<br>Player=%{customdata[0]}<br>Nation=%{customdata[1]}<extra></extra>",
         "ids": [
          "Bernardo Silva",
          "David Silva",
          "Gabriel Jesus",
          "Kevin De Bruyne",
          "Raheem Sterling",
          "Riyad Mahrez",
          "Rodri",
          "Sergio Agüero",
          "İlkay Gündoğan"
         ],
         "legendgroup": "Manchester City",
         "marker": {
          "color": "#636efa",
          "symbol": "circle"
         },
         "mode": "markers+text",
         "name": "Manchester City",
         "orientation": "v",
         "showlegend": true,
         "text": [
          "Bernardo Silva",
          "David Silva",
          "Gabriel Jesus",
          "Kevin De Bruyne",
          "Raheem Sterling",
          "Riyad Mahrez",
          "Rodri",
          "Sergio Agüero",
          "İlkay Gündoğan"
         ],
         "textposition": "bottom center",
         "type": "scatter",
         "x": [
          4.87,
          5.87,
          3.24,
          7.51,
          4.24,
          6.86,
          2.72,
          3.53,
          3.52
         ],
         "xaxis": "x",
         "y": [
          0.62,
          0.94,
          0.49,
          1.03,
          0.41,
          1.39,
          0.14,
          0.43,
          0.13
         ],
         "yaxis": "y"
        },
        {
         "customdata": [
          [
           "Andreas Pereira",
           "BRA"
          ],
          [
           "Anthony Martial",
           "FRA"
          ],
          [
           "Bruno Fernandes",
           "POR"
          ],
          [
           "Daniel James",
           "WAL"
          ],
          [
           "Fred",
           "BRA"
          ],
          [
           "Jesse Lingard",
           "ENG"
          ],
          [
           "Marcus Rashford",
           "ENG"
          ],
          [
           "Mason Greenwood",
           "ENG"
          ],
          [
           "Nemanja Matić",
           "SRB"
          ],
          [
           "Paul Pogba",
           "FRA"
          ],
          [
           "Scott McTominay",
           "SCO"
          ]
         ],
         "hovertemplate": "Team=Manchester Utd<br>animation_frame=1920<br><b>SCA90</b>=%{x}<br><b>GCA90</b>=%{y}<br>text=%{text}<br>Player=%{customdata[0]}<br>Nation=%{customdata[1]}<extra></extra>",
         "ids": [
          "Andreas Pereira",
          "Anthony Martial",
          "Bruno Fernandes",
          "Daniel James",
          "Fred",
          "Jesse Lingard",
          "Marcus Rashford",
          "Mason Greenwood",
          "Nemanja Matić",
          "Paul Pogba",
          "Scott McTominay"
         ],
         "legendgroup": "Manchester Utd",
         "marker": {
          "color": "#EF553B",
          "symbol": "circle"
         },
         "mode": "markers+text",
         "name": "Manchester Utd",
         "orientation": "v",
         "showlegend": true,
         "text": [
          "Andreas Pereira",
          "Anthony Martial",
          "Bruno Fernandes",
          "Daniel James",
          "Fred",
          "Jesse Lingard",
          "Marcus Rashford",
          "Mason Greenwood",
          "Nemanja Matić",
          "Paul Pogba",
          "Scott McTominay"
         ],
         "textposition": "bottom center",
         "type": "scatter",
         "x": [
          3.82,
          3.43,
          4.02,
          2.79,
          3.87,
          3.95,
          3.23,
          2.73,
          2.68,
          4.56,
          2.34
         ],
         "xaxis": "x",
         "y": [
          0.49,
          0.69,
          0.91,
          0.35,
          0.12,
          0.48,
          0.65,
          0.41,
          0.23,
          0.52,
          0.15
         ],
         "yaxis": "y"
        },
        {
         "customdata": [
          [
           "Allan Saint-Maximin",
           "FRA"
          ],
          [
           "Isaac Hayden",
           "ENG"
          ],
          [
           "Joelinton",
           "BRA"
          ],
          [
           "Jonjo Shelvey",
           "ENG"
          ],
          [
           "Miguel Almirón",
           "PAR"
          ],
          [
           "Sean Longstaff",
           "ENG"
          ]
         ],
         "hovertemplate": "Team=Newcastle Utd<br>animation_frame=1920<br><b>SCA90</b>=%{x}<br><b>GCA90</b>=%{y}<br>text=%{text}<br>Player=%{customdata[0]}<br>Nation=%{customdata[1]}<extra></extra>",
         "ids": [
          "Allan Saint-Maximin",
          "Isaac Hayden",
          "Joelinton",
          "Jonjo Shelvey",
          "Miguel Almirón",
          "Sean Longstaff"
         ],
         "legendgroup": "Newcastle Utd",
         "marker": {
          "color": "#00cc96",
          "symbol": "circle"
         },
         "mode": "markers+text",
         "name": "Newcastle Utd",
         "orientation": "v",
         "showlegend": true,
         "text": [
          "Allan Saint-Maximin",
          "Isaac Hayden",
          "Joelinton",
          "Jonjo Shelvey",
          "Miguel Almirón",
          "Sean Longstaff"
         ],
         "textposition": "bottom center",
         "type": "scatter",
         "x": [
          4.25,
          1.34,
          2.38,
          3.48,
          2.47,
          2.35
         ],
         "xaxis": "x",
         "y": [
          0.44,
          0.12,
          0.17,
          0.25,
          0.09,
          0.2
         ],
         "yaxis": "y"
        },
        {
         "customdata": [
          [
           "Emi Buendía",
           "ARG"
          ],
          [
           "Kenny McLean",
           "SCO"
          ],
          [
           "Marco Stiepermann",
           "GER"
          ],
          [
           "Onel Hernández",
           "CUB"
          ],
          [
           "Teemu Pukki",
           "FIN"
          ],
          [
           "Todd Cantwell",
           "ENG"
          ],
          [
           "Tom Trybull",
           "GER"
          ]
         ],
         "hovertemplate": "Team=Norwich City<br>animation_frame=1920<br><b>SCA90</b>=%{x}<br><b>GCA90</b>=%{y}<br>text=%{text}<br>Player=%{customdata[0]}<br>Nation=%{customdata[1]}<extra></extra>",
         "ids": [
          "Emi Buendía",
          "Kenny McLean",
          "Marco Stiepermann",
          "Onel Hernández",
          "Teemu Pukki",
          "Todd Cantwell",
          "Tom Trybull"
         ],
         "legendgroup": "Norwich City",
         "marker": {
          "color": "#ab63fa",
          "symbol": "circle"
         },
         "mode": "markers+text",
         "name": "Norwich City",
         "orientation": "v",
         "showlegend": true,
         "text": [
          "Emi Buendía",
          "Kenny McLean",
          "Marco Stiepermann",
          "Onel Hernández",
          "Teemu Pukki",
          "Todd Cantwell",
          "Tom Trybull"
         ],
         "textposition": "bottom center",
         "type": "scatter",
         "x": [
          5.55,
          2.09,
          2.44,
          2.93,
          1.96,
          2.71,
          0.72
         ],
         "xaxis": "x",
         "y": [
          0.4,
          0.12,
          0.23,
          0.33,
          0.12,
          0.18,
          0.16
         ],
         "yaxis": "y"
        },
        {
         "customdata": [
          [
           "Billy Sharp",
           "ENG"
          ],
          [
           "David McGoldrick",
           "IRL"
          ],
          [
           "John Fleck",
           "SCO"
          ],
          [
           "John Lundstram",
           "ENG"
          ],
          [
           "Lys Mousset",
           "FRA"
          ],
          [
           "Oliver McBurnie",
           "SCO"
          ],
          [
           "Oliver Norwood",
           "NIR"
          ],
          [
           "Sander Berge",
           "NOR"
          ]
         ],
         "hovertemplate": "Team=Sheffield Utd<br>animation_frame=1920<br><b>SCA90</b>=%{x}<br><b>GCA90</b>=%{y}<br>text=%{text}<br>Player=%{customdata[0]}<br>Nation=%{customdata[1]}<extra></extra>",
         "ids": [
          "Billy Sharp",
          "David McGoldrick",
          "John Fleck",
          "John Lundstram",
          "Lys Mousset",
          "Oliver McBurnie",
          "Oliver Norwood",
          "Sander Berge"
         ],
         "legendgroup": "Sheffield Utd",
         "marker": {
          "color": "#FFA15A",
          "symbol": "circle"
         },
         "mode": "markers+text",
         "name": "Sheffield Utd",
         "orientation": "v",
         "showlegend": true,
         "text": [
          "Billy Sharp",
          "David McGoldrick",
          "John Fleck",
          "John Lundstram",
          "Lys Mousset",
          "Oliver McBurnie",
          "Oliver Norwood",
          "Sander Berge"
         ],
         "textposition": "bottom center",
         "type": "scatter",
         "x": [
          2.65,
          2.08,
          3,
          2.12,
          2.1,
          1.32,
          2.42,
          0.67
         ],
         "xaxis": "x",
         "y": [
          0.17,
          0.3,
          0.21,
          0.26,
          0.29,
          0.09,
          0.17,
          0.19
         ],
         "yaxis": "y"
        },
        {
         "customdata": [
          [
           "Che Adams",
           "SCO"
          ],
          [
           "Danny Ings",
           "ENG"
          ],
          [
           "Nathan Redmond",
           "ENG"
          ],
          [
           "Oriol Romeu",
           "ESP"
          ],
          [
           "Pierre Højbjerg",
           "DEN"
          ],
          [
           "Shane Long",
           "IRL"
          ],
          [
           "Stuart Armstrong",
           "SCO"
          ]
         ],
         "hovertemplate": "Team=Southampton<br>animation_frame=1920<br><b>SCA90</b>=%{x}<br><b>GCA90</b>=%{y}<br>text=%{text}<br>Player=%{customdata[0]}<br>Nation=%{customdata[1]}<extra></extra>",
         "ids": [
          "Che Adams",
          "Danny Ings",
          "Nathan Redmond",
          "Oriol Romeu",
          "Pierre Højbjerg",
          "Shane Long",
          "Stuart Armstrong"
         ],
         "legendgroup": "Southampton",
         "marker": {
          "color": "#19d3f3",
          "symbol": "circle"
         },
         "mode": "markers+text",
         "name": "Southampton",
         "orientation": "v",
         "showlegend": true,
         "text": [
          "Che Adams",
          "Danny Ings",
          "Nathan Redmond",
          "Oriol Romeu",
          "Pierre Højbjerg",
          "Shane Long",
          "Stuart Armstrong"
         ],
         "textposition": "bottom center",
         "type": "scatter",
         "x": [
          2.35,
          3.21,
          3.19,
          1.98,
          2.71,
          2.26,
          3.15
         ],
         "xaxis": "x",
         "y": [
          0.49,
          0.48,
          0.29,
          0.05,
          0.26,
          0.19,
          0.42
         ],
         "yaxis": "y"
        },
        {
         "customdata": [
          [
           "Christian Eriksen",
           "DEN"
          ],
          [
           "Dele Alli",
           "ENG"
          ],
          [
           "Giovani Lo Celso",
           "ARG"
          ],
          [
           "Harry Kane",
           "ENG"
          ],
          [
           "Harry Winks",
           "ENG"
          ],
          [
           "Lucas Moura",
           "BRA"
          ],
          [
           "Moussa Sissoko",
           "FRA"
          ],
          [
           "Son Heung-min",
           "KOR"
          ],
          [
           "Tanguy Ndombele",
           "FRA"
          ],
          [
           "Érik Lamela",
           "ARG"
          ]
         ],
         "hovertemplate": "Team=Tottenham<br>animation_frame=1920<br><b>SCA90</b>=%{x}<br><b>GCA90</b>=%{y}<br>text=%{text}<br>Player=%{customdata[0]}<br>Nation=%{customdata[1]}<extra></extra>",
         "ids": [
          "Christian Eriksen",
          "Dele Alli",
          "Giovani Lo Celso",
          "Harry Kane",
          "Harry Winks",
          "Lucas Moura",
          "Moussa Sissoko",
          "Son Heung-min",
          "Tanguy Ndombele",
          "Érik Lamela"
         ],
         "legendgroup": "Tottenham",
         "marker": {
          "color": "#FF6692",
          "symbol": "circle"
         },
         "mode": "markers+text",
         "name": "Tottenham",
         "orientation": "v",
         "showlegend": true,
         "text": [
          "Christian Eriksen",
          "Dele Alli",
          "Giovani Lo Celso",
          "Harry Kane",
          "Harry Winks",
          "Lucas Moura",
          "Moussa Sissoko",
          "Son Heung-min",
          "Tanguy Ndombele",
          "Érik Lamela"
         ],
         "textposition": "bottom center",
         "type": "scatter",
         "x": [
          3.61,
          2.82,
          4.22,
          2.12,
          1.95,
          3.61,
          1.36,
          3.6,
          2.68,
          3.86
         ],
         "xaxis": "x",
         "y": [
          0.25,
          0.54,
          0.36,
          0.28,
          0.24,
          0.36,
          0.15,
          0.69,
          0.27,
          0.74
         ],
         "yaxis": "y"
        },
        {
         "customdata": [
          [
           "Abdoulaye Doucouré",
           "MLI"
          ],
          [
           "Gerard Deulofeu",
           "ESP"
          ],
          [
           "Ismaila Sarr",
           "SEN"
          ],
          [
           "Nathaniel Chalobah",
           "ENG"
          ],
          [
           "Roberto Pereyra",
           "ARG"
          ],
          [
           "Tom Cleverley",
           "ENG"
          ],
          [
           "Troy Deeney",
           "ENG"
          ],
          [
           "Will Hughes",
           "ENG"
          ],
          [
           "Étienne Capoue",
           "FRA"
          ]
         ],
         "hovertemplate": "Team=Watford<br>animation_frame=1920<br><b>SCA90</b>=%{x}<br><b>GCA90</b>=%{y}<br>text=%{text}<br>Player=%{customdata[0]}<br>Nation=%{customdata[1]}<extra></extra>",
         "ids": [
          "Abdoulaye Doucouré",
          "Gerard Deulofeu",
          "Ismaila Sarr",
          "Nathaniel Chalobah",
          "Roberto Pereyra",
          "Tom Cleverley",
          "Troy Deeney",
          "Will Hughes",
          "Étienne Capoue"
         ],
         "legendgroup": "Watford",
         "marker": {
          "color": "#B6E880",
          "symbol": "circle"
         },
         "mode": "markers+text",
         "name": "Watford",
         "orientation": "v",
         "showlegend": true,
         "text": [
          "Abdoulaye Doucouré",
          "Gerard Deulofeu",
          "Ismaila Sarr",
          "Nathaniel Chalobah",
          "Roberto Pereyra",
          "Tom Cleverley",
          "Troy Deeney",
          "Will Hughes",
          "Étienne Capoue"
         ],
         "textposition": "bottom center",
         "type": "scatter",
         "x": [
          2.71,
          4.46,
          3.28,
          1.74,
          2.46,
          3.15,
          2.59,
          2.4,
          1.61
         ],
         "xaxis": "x",
         "y": [
          0.23,
          0.43,
          0.36,
          0.1,
          0.05,
          0.09,
          0.16,
          0.2,
          0.17
         ],
         "yaxis": "y"
        },
        {
         "customdata": [
          [
           "Andriy Yarmolenko",
           "UKR"
          ],
          [
           "Declan Rice",
           "ENG"
          ],
          [
           "Felipe Anderson",
           "BRA"
          ],
          [
           "Jarrod Bowen",
           "ENG"
          ],
          [
           "Manuel Lanzini",
           "ARG"
          ],
          [
           "Mark Noble",
           "ENG"
          ],
          [
           "Michail Antonio",
           "JAM"
          ],
          [
           "Pablo Fornals",
           "ESP"
          ],
          [
           "Robert Snodgrass",
           "SCO"
          ],
          [
           "Sébastien Haller",
           "CIV"
          ],
          [
           "Tomáš Souček",
           "CZE"
          ]
         ],
         "hovertemplate": "Team=West Ham<br>animation_frame=1920<br><b>SCA90</b>=%{x}<br><b>GCA90</b>=%{y}<br>text=%{text}<br>Player=%{customdata[0]}<br>Nation=%{customdata[1]}<extra></extra>",
         "ids": [
          "Andriy Yarmolenko",
          "Declan Rice",
          "Felipe Anderson",
          "Jarrod Bowen",
          "Manuel Lanzini",
          "Mark Noble",
          "Michail Antonio",
          "Pablo Fornals",
          "Robert Snodgrass",
          "Sébastien Haller",
          "Tomáš Souček"
         ],
         "legendgroup": "West Ham",
         "marker": {
          "color": "#FF97FF",
          "symbol": "circle"
         },
         "mode": "markers+text",
         "name": "West Ham",
         "orientation": "v",
         "showlegend": true,
         "text": [
          "Andriy Yarmolenko",
          "Declan Rice",
          "Felipe Anderson",
          "Jarrod Bowen",
          "Manuel Lanzini",
          "Mark Noble",
          "Michail Antonio",
          "Pablo Fornals",
          "Robert Snodgrass",
          "Sébastien Haller",
          "Tomáš Souček"
         ],
         "textposition": "bottom center",
         "type": "scatter",
         "x": [
          3.27,
          1.53,
          4.03,
          2.85,
          4.19,
          2.83,
          3.61,
          2.11,
          3.28,
          2.03,
          1.21
         ],
         "xaxis": "x",
         "y": [
          0.45,
          0.18,
          0.66,
          0.49,
          0.33,
          0.34,
          0.46,
          0.37,
          0.48,
          0.32,
          0.17
         ],
         "yaxis": "y"
        },
        {
         "customdata": [
          [
           "Diogo Jota",
           "POR"
          ],
          [
           "João Moutinho",
           "POR"
          ],
          [
           "Pedro Neto",
           "POR"
          ],
          [
           "Raúl Jiménez",
           "MEX"
          ],
          [
           "Rúben Neves",
           "POR"
          ]
         ],
         "hovertemplate": "Team=Wolves<br>animation_frame=1920<br><b>SCA90</b>=%{x}<br><b>GCA90</b>=%{y}<br>text=%{text}<br>Player=%{customdata[0]}<br>Nation=%{customdata[1]}<extra></extra>",
         "ids": [
          "Diogo Jota",
          "João Moutinho",
          "Pedro Neto",
          "Raúl Jiménez",
          "Rúben Neves"
         ],
         "legendgroup": "Wolves",
         "marker": {
          "color": "#FECB52",
          "symbol": "circle"
         },
         "mode": "markers+text",
         "name": "Wolves",
         "orientation": "v",
         "showlegend": true,
         "text": [
          "Diogo Jota",
          "João Moutinho",
          "Pedro Neto",
          "Raúl Jiménez",
          "Rúben Neves"
         ],
         "textposition": "bottom center",
         "type": "scatter",
         "x": [
          4.02,
          3.62,
          3.26,
          2.7,
          2.24
         ],
         "xaxis": "x",
         "y": [
          0.28,
          0.29,
          0.48,
          0.36,
          0.09
         ],
         "yaxis": "y"
        }
       ],
       "frames": [
        {
         "data": [
          {
           "customdata": [
            [
             "Alexandre Lacazette",
             "FRA"
            ],
            [
             "Dani Ceballos",
             "ESP"
            ],
            [
             "Granit Xhaka",
             "SUI"
            ],
            [
             "Lucas Torreira",
             "URU"
            ],
            [
             "Mattéo Guendouzi",
             "FRA"
            ],
            [
             "Mesut Özil",
             "GER"
            ],
            [
             "Nicolas Pépé",
             "CIV"
            ],
            [
             "Pierre-Emerick Aubameyang",
             "GAB"
            ]
           ],
           "hovertemplate": "Team=Arsenal<br>animation_frame=1920<br><b>SCA90</b>=%{x}<br><b>GCA90</b>=%{y}<br>text=%{text}<br>Player=%{customdata[0]}<br>Nation=%{customdata[1]}<extra></extra>",
           "ids": [
            "Alexandre Lacazette",
            "Dani Ceballos",
            "Granit Xhaka",
            "Lucas Torreira",
            "Mattéo Guendouzi",
            "Mesut Özil",
            "Nicolas Pépé",
            "Pierre-Emerick Aubameyang"
           ],
           "legendgroup": "Arsenal",
           "marker": {
            "color": "#636efa",
            "symbol": "circle"
           },
           "mode": "markers+text",
           "name": "Arsenal",
           "orientation": "v",
           "showlegend": true,
           "text": [
            "Alexandre Lacazette",
            "Dani Ceballos",
            "Granit Xhaka",
            "Lucas Torreira",
            "Mattéo Guendouzi",
            "Mesut Özil",
            "Nicolas Pépé",
            "Pierre-Emerick Aubameyang"
           ],
           "type": "scatter",
           "x": [
            3.27,
            2.98,
            1.53,
            2.02,
            2.06,
            4.69,
            3.22,
            1.98
           ],
           "xaxis": "x",
           "y": [
            0.58,
            0.37,
            0.1,
            0.12,
            0.1,
            0.5,
            0.4,
            0.34
           ],
           "yaxis": "y"
          },
          {
           "customdata": [
            [
             "Anwar El Ghazi",
             "NED"
            ],
            [
             "Conor Hourihane",
             "IRL"
            ],
            [
             "Douglas Luiz",
             "BRA"
            ],
            [
             "Jack Grealish",
             "ENG"
            ],
            [
             "John McGinn",
             "SCO"
            ],
            [
             "Marvelous Nakamba",
             "ZIM"
            ],
            [
             "Mbwana Samatta",
             "TAN"
            ],
            [
             "Trézéguet",
             "EGY"
            ],
            [
             "Wesley Moraes",
             "BRA"
            ]
           ],
           "hovertemplate": "Team=Aston Villa<br>animation_frame=1920<br><b>SCA90</b>=%{x}<br><b>GCA90</b>=%{y}<br>text=%{text}<br>Player=%{customdata[0]}<br>Nation=%{customdata[1]}<extra></extra>",
           "ids": [
            "Anwar El Ghazi",
            "Conor Hourihane",
            "Douglas Luiz",
            "Jack Grealish",
            "John McGinn",
            "Marvelous Nakamba",
            "Mbwana Samatta",
            "Trézéguet",
            "Wesley Moraes"
           ],
           "legendgroup": "Aston Villa",
           "marker": {
            "color": "#EF553B",
            "symbol": "circle"
           },
           "mode": "markers+text",
           "name": "Aston Villa",
           "orientation": "v",
           "showlegend": true,
           "text": [
            "Anwar El Ghazi",
            "Conor Hourihane",
            "Douglas Luiz",
            "Jack Grealish",
            "John McGinn",
            "Marvelous Nakamba",
            "Mbwana Samatta",
            "Trézéguet",
            "Wesley Moraes"
           ],
           "type": "scatter",
           "x": [
            2.55,
            3.64,
            1.86,
            5.51,
            3.58,
            1.13,
            1.62,
            2.54,
            1.62
           ],
           "xaxis": "x",
           "y": [
            0.26,
            0.41,
            0.1,
            0.5,
            0.35,
            0.05,
            0,
            0.18,
            0.15
           ],
           "yaxis": "y"
          },
          {
           "customdata": [
            [
             "Callum Wilson",
             "ENG"
            ],
            [
             "Dan Gosling",
             "ENG"
            ],
            [
             "Dominic Solanke",
             "ENG"
            ],
            [
             "Harry Wilson",
             "WAL"
            ],
            [
             "Jefferson Lerma",
             "COL"
            ],
            [
             "Joshua King",
             "NOR"
            ],
            [
             "Lewis Cook",
             "ENG"
            ],
            [
             "Philip Billing",
             "DEN"
            ],
            [
             "Ryan Fraser",
             "SCO"
            ]
           ],
           "hovertemplate": "Team=Bournemouth<br>animation_frame=1920<br><b>SCA90</b>=%{x}<br><b>GCA90</b>=%{y}<br>text=%{text}<br>Player=%{customdata[0]}<br>Nation=%{customdata[1]}<extra></extra>",
           "ids": [
            "Callum Wilson",
            "Dan Gosling",
            "Dominic Solanke",
            "Harry Wilson",
            "Jefferson Lerma",
            "Joshua King",
            "Lewis Cook",
            "Philip Billing",
            "Ryan Fraser"
           ],
           "legendgroup": "Bournemouth",
           "marker": {
            "color": "#00cc96",
            "symbol": "circle"
           },
           "mode": "markers+text",
           "name": "Bournemouth",
           "orientation": "v",
           "showlegend": true,
           "text": [
            "Callum Wilson",
            "Dan Gosling",
            "Dominic Solanke",
            "Harry Wilson",
            "Jefferson Lerma",
            "Joshua King",
            "Lewis Cook",
            "Philip Billing",
            "Ryan Fraser"
           ],
           "type": "scatter",
           "x": [
            1.86,
            1.71,
            2.34,
            2.68,
            1.53,
            2.73,
            2.73,
            1.78,
            3.57
           ],
           "xaxis": "x",
           "y": [
            0.28,
            0.14,
            0.27,
            0.22,
            0.1,
            0.36,
            0.13,
            0.11,
            0.35
           ],
           "yaxis": "y"
          },
          {
           "customdata": [
            [
             "Aaron Connolly",
             "IRL"
            ],
            [
             "Aaron Mooy",
             "AUS"
            ],
            [
             "Dale Stephens",
             "ENG"
            ],
            [
             "Davy Pröpper",
             "NED"
            ],
            [
             "Leandro Trossard",
             "BEL"
            ],
            [
             "Neal Maupay",
             "FRA"
            ],
            [
             "Pascal Groß",
             "GER"
            ],
            [
             "Solly March",
             "ENG"
            ],
            [
             "Yves Bissouma",
             "MLI"
            ]
           ],
           "hovertemplate": "Team=Brighton<br>animation_frame=1920<br><b>SCA90</b>=%{x}<br><b>GCA90</b>=%{y}<br>text=%{text}<br>Player=%{customdata[0]}<br>Nation=%{customdata[1]}<extra></extra>",
           "ids": [
            "Aaron Connolly",
            "Aaron Mooy",
            "Dale Stephens",
            "Davy Pröpper",
            "Leandro Trossard",
            "Neal Maupay",
            "Pascal Groß",
            "Solly March",
            "Yves Bissouma"
           ],
           "legendgroup": "Brighton",
           "marker": {
            "color": "#ab63fa",
            "symbol": "circle"
           },
           "mode": "markers+text",
           "name": "Brighton",
           "orientation": "v",
           "showlegend": true,
           "text": [
            "Aaron Connolly",
            "Aaron Mooy",
            "Dale Stephens",
            "Davy Pröpper",
            "Leandro Trossard",
            "Neal Maupay",
            "Pascal Groß",
            "Solly March",
            "Yves Bissouma"
           ],
           "type": "scatter",
           "x": [
            1.93,
            3.37,
            1.78,
            2.13,
            4.03,
            2.38,
            5.11,
            3.07,
            1.07
           ],
           "xaxis": "x",
           "y": [
            0.36,
            0.3,
            0.11,
            0.13,
            0.4,
            0.23,
            0.4,
            0.31,
            0.07
           ],
           "yaxis": "y"
          },
          {
           "customdata": [
            [
             "Ashley Barnes",
             "ENG"
            ],
            [
             "Ashley Westwood",
             "ENG"
            ],
            [
             "Chris Wood",
             "NZL"
            ],
            [
             "Dwight McNeil",
             "ENG"
            ],
            [
             "Jack Cork",
             "ENG"
            ],
            [
             "Jay Rodriguez",
             "ENG"
            ],
            [
             "Jeff Hendrick",
             "IRL"
            ]
           ],
           "hovertemplate": "Team=Burnley<br>animation_frame=1920<br><b>SCA90</b>=%{x}<br><b>GCA90</b>=%{y}<br>text=%{text}<br>Player=%{customdata[0]}<br>Nation=%{customdata[1]}<extra></extra>",
           "ids": [
            "Ashley Barnes",
            "Ashley Westwood",
            "Chris Wood",
            "Dwight McNeil",
            "Jack Cork",
            "Jay Rodriguez",
            "Jeff Hendrick"
           ],
           "legendgroup": "Burnley",
           "marker": {
            "color": "#FFA15A",
            "symbol": "circle"
           },
           "mode": "markers+text",
           "name": "Burnley",
           "orientation": "v",
           "showlegend": true,
           "text": [
            "Ashley Barnes",
            "Ashley Westwood",
            "Chris Wood",
            "Dwight McNeil",
            "Jack Cork",
            "Jay Rodriguez",
            "Jeff Hendrick"
           ],
           "type": "scatter",
           "x": [
            1.6,
            3.03,
            1.96,
            3.13,
            1.07,
            1.43,
            1.77
           ],
           "xaxis": "x",
           "y": [
            0.2,
            0.23,
            0.15,
            0.38,
            0.1,
            0.27,
            0.14
           ],
           "yaxis": "y"
          },
          {
           "customdata": [
            [
             "Christian Pulisic",
             "USA"
            ],
            [
             "Jorginho",
             "ITA"
            ],
            [
             "Mason Mount",
             "ENG"
            ],
            [
             "Mateo Kovačić",
             "CRO"
            ],
            [
             "N'Golo Kanté",
             "FRA"
            ],
            [
             "Olivier Giroud",
             "FRA"
            ],
            [
             "Ross Barkley",
             "ENG"
            ],
            [
             "Tammy Abraham",
             "ENG"
            ],
            [
             "Willian",
             "BRA"
            ]
           ],
           "hovertemplate": "Team=Chelsea<br>animation_frame=1920<br><b>SCA90</b>=%{x}<br><b>GCA90</b>=%{y}<br>text=%{text}<br>Player=%{customdata[0]}<br>Nation=%{customdata[1]}<extra></extra>",
           "ids": [
            "Christian Pulisic",
            "Jorginho",
            "Mason Mount",
            "Mateo Kovačić",
            "N'Golo Kanté",
            "Olivier Giroud",
            "Ross Barkley",
            "Tammy Abraham",
            "Willian"
           ],
           "legendgroup": "Chelsea",
           "marker": {
            "color": "#19d3f3",
            "symbol": "circle"
           },
           "mode": "markers+text",
           "name": "Chelsea",
           "orientation": "v",
           "showlegend": true,
           "text": [
            "Christian Pulisic",
            "Jorginho",
            "Mason Mount",
            "Mateo Kovačić",
            "N'Golo Kanté",
            "Olivier Giroud",
            "Ross Barkley",
            "Tammy Abraham",
            "Willian"
           ],
           "type": "scatter",
           "x": [
            4.55,
            3.06,
            3.99,
            3.39,
            3.17,
            2.17,
            4.24,
            2.32,
            5.78
           ],
           "xaxis": "x",
           "y": [
            0.84,
            0.3,
            0.57,
            0.35,
            0.1,
            0.36,
            0.49,
            0.37,
            0.52
           ],
           "yaxis": "y"
          },
          {
           "customdata": [
            [
             "Andros Townsend",
             "ENG"
            ],
            [
             "Christian Benteke",
             "BEL"
            ],
            [
             "James McArthur",
             "SCO"
            ],
            [
             "James McCarthy",
             "IRL"
            ],
            [
             "Jeffrey Schlupp",
             "GHA"
            ],
            [
             "Jordan Ayew",
             "GHA"
            ],
            [
             "Luka Milivojević",
             "SRB"
            ],
            [
             "Wilfried Zaha",
             "CIV"
            ]
           ],
           "hovertemplate": "Team=Crystal Palace<br>animation_frame=1920<br><b>SCA90</b>=%{x}<br><b>GCA90</b>=%{y}<br>text=%{text}<br>Player=%{customdata[0]}<br>Nation=%{customdata[1]}<extra></extra>",
           "ids": [
            "Andros Townsend",
            "Christian Benteke",
            "James McArthur",
            "James McCarthy",
            "Jeffrey Schlupp",
            "Jordan Ayew",
            "Luka Milivojević",
            "Wilfried Zaha"
           ],
           "legendgroup": "Crystal Palace",
           "marker": {
            "color": "#FF6692",
            "symbol": "circle"
           },
           "mode": "markers+text",
           "name": "Crystal Palace",
           "orientation": "v",
           "showlegend": true,
           "text": [
            "Andros Townsend",
            "Christian Benteke",
            "James McArthur",
            "James McCarthy",
            "Jeffrey Schlupp",
            "Jordan Ayew",
            "Luka Milivojević",
            "Wilfried Zaha"
           ],
           "type": "scatter",
           "x": [
            2.23,
            3,
            2.04,
            1.66,
            1.74,
            2.32,
            2.11,
            3.51
           ],
           "xaxis": "x",
           "y": [
            0.14,
            0.43,
            0.23,
            0.05,
            0.17,
            0.23,
            0.14,
            0.25
           ],
           "yaxis": "y"
          },
          {
           "customdata": [
            [
             "Alex Iwobi",
             "NGA"
            ],
            [
             "André Gomes",
             "POR"
            ],
            [
             "Bernard",
             "BRA"
            ],
            [
             "Dominic Calvert-Lewin",
             "ENG"
            ],
            [
             "Fabian Delph",
             "ENG"
            ],
            [
             "Gylfi Sigurðsson",
             "ISL"
            ],
            [
             "Morgan Schneiderlin",
             "FRA"
            ],
            [
             "Richarlison",
             "BRA"
            ],
            [
             "Theo Walcott",
             "ENG"
            ],
            [
             "Tom Davies",
             "ENG"
            ]
           ],
           "hovertemplate": "Team=Everton<br>animation_frame=1920<br><b>SCA90</b>=%{x}<br><b>GCA90</b>=%{y}<br>text=%{text}<br>Player=%{customdata[0]}<br>Nation=%{customdata[1]}<extra></extra>",
           "ids": [
            "Alex Iwobi",
            "André Gomes",
            "Bernard",
            "Dominic Calvert-Lewin",
            "Fabian Delph",
            "Gylfi Sigurðsson",
            "Morgan Schneiderlin",
            "Richarlison",
            "Theo Walcott",
            "Tom Davies"
           ],
           "legendgroup": "Everton",
           "marker": {
            "color": "#B6E880",
            "symbol": "circle"
           },
           "mode": "markers+text",
           "name": "Everton",
           "orientation": "v",
           "showlegend": true,
           "text": [
            "Alex Iwobi",
            "André Gomes",
            "Bernard",
            "Dominic Calvert-Lewin",
            "Fabian Delph",
            "Gylfi Sigurðsson",
            "Morgan Schneiderlin",
            "Richarlison",
            "Theo Walcott",
            "Tom Davies"
           ],
           "type": "scatter",
           "x": [
            3.05,
            1.91,
            3.58,
            1.92,
            1.89,
            3.2,
            1.53,
            2.73,
            2.87,
            1.33
           ],
           "xaxis": "x",
           "y": [
            0.11,
            0.12,
            0.28,
            0.07,
            0.15,
            0.25,
            0,
            0.26,
            0.56,
            0
           ],
           "yaxis": "y"
          },
          {
           "customdata": [
            [
             "Ayoze Pérez",
             "ESP"
            ],
            [
             "Dennis Praet",
             "BEL"
            ],
            [
             "Harvey Barnes",
             "ENG"
            ],
            [
             "James Maddison",
             "ENG"
            ],
            [
             "Jamie Vardy",
             "ENG"
            ],
            [
             "Kelechi Iheanacho",
             "NGA"
            ],
            [
             "Wilfred Ndidi",
             "NGA"
            ],
            [
             "Youri Tielemans",
             "BEL"
            ]
           ],
           "hovertemplate": "Team=Leicester City<br>animation_frame=1920<br><b>SCA90</b>=%{x}<br><b>GCA90</b>=%{y}<br>text=%{text}<br>Player=%{customdata[0]}<br>Nation=%{customdata[1]}<extra></extra>",
           "ids": [
            "Ayoze Pérez",
            "Dennis Praet",
            "Harvey Barnes",
            "James Maddison",
            "Jamie Vardy",
            "Kelechi Iheanacho",
            "Wilfred Ndidi",
            "Youri Tielemans"
           ],
           "legendgroup": "Leicester City",
           "marker": {
            "color": "#FF97FF",
            "symbol": "circle"
           },
           "mode": "markers+text",
           "name": "Leicester City",
           "orientation": "v",
           "showlegend": true,
           "text": [
            "Ayoze Pérez",
            "Dennis Praet",
            "Harvey Barnes",
            "James Maddison",
            "Jamie Vardy",
            "Kelechi Iheanacho",
            "Wilfred Ndidi",
            "Youri Tielemans"
           ],
           "type": "scatter",
           "x": [
            3.37,
            1.98,
            3.76,
            5.83,
            2.08,
            3.47,
            1.55,
            3.5
           ],
           "xaxis": "x",
           "y": [
            0.67,
            0.32,
            0.69,
            0.34,
            0.36,
            0.47,
            0.1,
            0.32
           ],
           "yaxis": "y"
          },
          {
           "customdata": [
            [
             "Alex Oxlade-Chamberlain",
             "ENG"
            ],
            [
             "Fabinho",
             "BRA"
            ],
            [
             "Georginio Wijnaldum",
             "NED"
            ],
            [
             "Jordan Henderson",
             "ENG"
            ],
            [
             "Mohamed Salah",
             "EGY"
            ],
            [
             "Roberto Firmino",
             "BRA"
            ],
            [
             "Sadio Mané",
             "SEN"
            ]
           ],
           "hovertemplate": "Team=Liverpool<br>animation_frame=1920<br><b>SCA90</b>=%{x}<br><b>GCA90</b>=%{y}<br>text=%{text}<br>Player=%{customdata[0]}<br>Nation=%{customdata[1]}<extra></extra>",
           "ids": [
            "Alex Oxlade-Chamberlain",
            "Fabinho",
            "Georginio Wijnaldum",
            "Jordan Henderson",
            "Mohamed Salah",
            "Roberto Firmino",
            "Sadio Mané"
           ],
           "legendgroup": "Liverpool",
           "marker": {
            "color": "#FECB52",
            "symbol": "circle"
           },
           "mode": "markers+text",
           "name": "Liverpool",
           "orientation": "v",
           "showlegend": true,
           "text": [
            "Alex Oxlade-Chamberlain",
            "Fabinho",
            "Georginio Wijnaldum",
            "Jordan Henderson",
            "Mohamed Salah",
            "Roberto Firmino",
            "Sadio Mané"
           ],
           "type": "scatter",
           "x": [
            3.09,
            2.16,
            1.69,
            2.13,
            4.26,
            3.43,
            3.73
           ],
           "xaxis": "x",
           "y": [
            0.36,
            0.22,
            0.12,
            0.24,
            0.47,
            0.6,
            0.52
           ],
           "yaxis": "y"
          },
          {
           "customdata": [
            [
             "Bernardo Silva",
             "POR"
            ],
            [
             "David Silva",
             "ESP"
            ],
            [
             "Gabriel Jesus",
             "BRA"
            ],
            [
             "Kevin De Bruyne",
             "BEL"
            ],
            [
             "Raheem Sterling",
             "ENG"
            ],
            [
             "Riyad Mahrez",
             "ALG"
            ],
            [
             "Rodri",
             "ESP"
            ],
            [
             "Sergio Agüero",
             "ARG"
            ],
            [
             "İlkay Gündoğan",
             "GER"
            ]
           ],
           "hovertemplate": "Team=Manchester City<br>animation_frame=1920<br><b>SCA90</b>=%{x}<br><b>GCA90</b>=%{y}<br>text=%{text}<br>Player=%{customdata[0]}<br>Nation=%{customdata[1]}<extra></extra>",
           "ids": [
            "Bernardo Silva",
            "David Silva",
            "Gabriel Jesus",
            "Kevin De Bruyne",
            "Raheem Sterling",
            "Riyad Mahrez",
            "Rodri",
            "Sergio Agüero",
            "İlkay Gündoğan"
           ],
           "legendgroup": "Manchester City",
           "marker": {
            "color": "#636efa",
            "symbol": "circle"
           },
           "mode": "markers+text",
           "name": "Manchester City",
           "orientation": "v",
           "showlegend": true,
           "text": [
            "Bernardo Silva",
            "David Silva",
            "Gabriel Jesus",
            "Kevin De Bruyne",
            "Raheem Sterling",
            "Riyad Mahrez",
            "Rodri",
            "Sergio Agüero",
            "İlkay Gündoğan"
           ],
           "type": "scatter",
           "x": [
            4.87,
            5.87,
            3.24,
            7.51,
            4.24,
            6.86,
            2.72,
            3.53,
            3.52
           ],
           "xaxis": "x",
           "y": [
            0.62,
            0.94,
            0.49,
            1.03,
            0.41,
            1.39,
            0.14,
            0.43,
            0.13
           ],
           "yaxis": "y"
          },
          {
           "customdata": [
            [
             "Andreas Pereira",
             "BRA"
            ],
            [
             "Anthony Martial",
             "FRA"
            ],
            [
             "Bruno Fernandes",
             "POR"
            ],
            [
             "Daniel James",
             "WAL"
            ],
            [
             "Fred",
             "BRA"
            ],
            [
             "Jesse Lingard",
             "ENG"
            ],
            [
             "Marcus Rashford",
             "ENG"
            ],
            [
             "Mason Greenwood",
             "ENG"
            ],
            [
             "Nemanja Matić",
             "SRB"
            ],
            [
             "Paul Pogba",
             "FRA"
            ],
            [
             "Scott McTominay",
             "SCO"
            ]
           ],
           "hovertemplate": "Team=Manchester Utd<br>animation_frame=1920<br><b>SCA90</b>=%{x}<br><b>GCA90</b>=%{y}<br>text=%{text}<br>Player=%{customdata[0]}<br>Nation=%{customdata[1]}<extra></extra>",
           "ids": [
            "Andreas Pereira",
            "Anthony Martial",
            "Bruno Fernandes",
            "Daniel James",
            "Fred",
            "Jesse Lingard",
            "Marcus Rashford",
            "Mason Greenwood",
            "Nemanja Matić",
            "Paul Pogba",
            "Scott McTominay"
           ],
           "legendgroup": "Manchester Utd",
           "marker": {
            "color": "#EF553B",
            "symbol": "circle"
           },
           "mode": "markers+text",
           "name": "Manchester Utd",
           "orientation": "v",
           "showlegend": true,
           "text": [
            "Andreas Pereira",
            "Anthony Martial",
            "Bruno Fernandes",
            "Daniel James",
            "Fred",
            "Jesse Lingard",
            "Marcus Rashford",
            "Mason Greenwood",
            "Nemanja Matić",
            "Paul Pogba",
            "Scott McTominay"
           ],
           "type": "scatter",
           "x": [
            3.82,
            3.43,
            4.02,
            2.79,
            3.87,
            3.95,
            3.23,
            2.73,
            2.68,
            4.56,
            2.34
           ],
           "xaxis": "x",
           "y": [
            0.49,
            0.69,
            0.91,
            0.35,
            0.12,
            0.48,
            0.65,
            0.41,
            0.23,
            0.52,
            0.15
           ],
           "yaxis": "y"
          },
          {
           "customdata": [
            [
             "Allan Saint-Maximin",
             "FRA"
            ],
            [
             "Isaac Hayden",
             "ENG"
            ],
            [
             "Joelinton",
             "BRA"
            ],
            [
             "Jonjo Shelvey",
             "ENG"
            ],
            [
             "Miguel Almirón",
             "PAR"
            ],
            [
             "Sean Longstaff",
             "ENG"
            ]
           ],
           "hovertemplate": "Team=Newcastle Utd<br>animation_frame=1920<br><b>SCA90</b>=%{x}<br><b>GCA90</b>=%{y}<br>text=%{text}<br>Player=%{customdata[0]}<br>Nation=%{customdata[1]}<extra></extra>",
           "ids": [
            "Allan Saint-Maximin",
            "Isaac Hayden",
            "Joelinton",
            "Jonjo Shelvey",
            "Miguel Almirón",
            "Sean Longstaff"
           ],
           "legendgroup": "Newcastle Utd",
           "marker": {
            "color": "#00cc96",
            "symbol": "circle"
           },
           "mode": "markers+text",
           "name": "Newcastle Utd",
           "orientation": "v",
           "showlegend": true,
           "text": [
            "Allan Saint-Maximin",
            "Isaac Hayden",
            "Joelinton",
            "Jonjo Shelvey",
            "Miguel Almirón",
            "Sean Longstaff"
           ],
           "type": "scatter",
           "x": [
            4.25,
            1.34,
            2.38,
            3.48,
            2.47,
            2.35
           ],
           "xaxis": "x",
           "y": [
            0.44,
            0.12,
            0.17,
            0.25,
            0.09,
            0.2
           ],
           "yaxis": "y"
          },
          {
           "customdata": [
            [
             "Emi Buendía",
             "ARG"
            ],
            [
             "Kenny McLean",
             "SCO"
            ],
            [
             "Marco Stiepermann",
             "GER"
            ],
            [
             "Onel Hernández",
             "CUB"
            ],
            [
             "Teemu Pukki",
             "FIN"
            ],
            [
             "Todd Cantwell",
             "ENG"
            ],
            [
             "Tom Trybull",
             "GER"
            ]
           ],
           "hovertemplate": "Team=Norwich City<br>animation_frame=1920<br><b>SCA90</b>=%{x}<br><b>GCA90</b>=%{y}<br>text=%{text}<br>Player=%{customdata[0]}<br>Nation=%{customdata[1]}<extra></extra>",
           "ids": [
            "Emi Buendía",
            "Kenny McLean",
            "Marco Stiepermann",
            "Onel Hernández",
            "Teemu Pukki",
            "Todd Cantwell",
            "Tom Trybull"
           ],
           "legendgroup": "Norwich City",
           "marker": {
            "color": "#ab63fa",
            "symbol": "circle"
           },
           "mode": "markers+text",
           "name": "Norwich City",
           "orientation": "v",
           "showlegend": true,
           "text": [
            "Emi Buendía",
            "Kenny McLean",
            "Marco Stiepermann",
            "Onel Hernández",
            "Teemu Pukki",
            "Todd Cantwell",
            "Tom Trybull"
           ],
           "type": "scatter",
           "x": [
            5.55,
            2.09,
            2.44,
            2.93,
            1.96,
            2.71,
            0.72
           ],
           "xaxis": "x",
           "y": [
            0.4,
            0.12,
            0.23,
            0.33,
            0.12,
            0.18,
            0.16
           ],
           "yaxis": "y"
          },
          {
           "customdata": [
            [
             "Billy Sharp",
             "ENG"
            ],
            [
             "David McGoldrick",
             "IRL"
            ],
            [
             "John Fleck",
             "SCO"
            ],
            [
             "John Lundstram",
             "ENG"
            ],
            [
             "Lys Mousset",
             "FRA"
            ],
            [
             "Oliver McBurnie",
             "SCO"
            ],
            [
             "Oliver Norwood",
             "NIR"
            ],
            [
             "Sander Berge",
             "NOR"
            ]
           ],
           "hovertemplate": "Team=Sheffield Utd<br>animation_frame=1920<br><b>SCA90</b>=%{x}<br><b>GCA90</b>=%{y}<br>text=%{text}<br>Player=%{customdata[0]}<br>Nation=%{customdata[1]}<extra></extra>",
           "ids": [
            "Billy Sharp",
            "David McGoldrick",
            "John Fleck",
            "John Lundstram",
            "Lys Mousset",
            "Oliver McBurnie",
            "Oliver Norwood",
            "Sander Berge"
           ],
           "legendgroup": "Sheffield Utd",
           "marker": {
            "color": "#FFA15A",
            "symbol": "circle"
           },
           "mode": "markers+text",
           "name": "Sheffield Utd",
           "orientation": "v",
           "showlegend": true,
           "text": [
            "Billy Sharp",
            "David McGoldrick",
            "John Fleck",
            "John Lundstram",
            "Lys Mousset",
            "Oliver McBurnie",
            "Oliver Norwood",
            "Sander Berge"
           ],
           "type": "scatter",
           "x": [
            2.65,
            2.08,
            3,
            2.12,
            2.1,
            1.32,
            2.42,
            0.67
           ],
           "xaxis": "x",
           "y": [
            0.17,
            0.3,
            0.21,
            0.26,
            0.29,
            0.09,
            0.17,
            0.19
           ],
           "yaxis": "y"
          },
          {
           "customdata": [
            [
             "Che Adams",
             "SCO"
            ],
            [
             "Danny Ings",
             "ENG"
            ],
            [
             "Nathan Redmond",
             "ENG"
            ],
            [
             "Oriol Romeu",
             "ESP"
            ],
            [
             "Pierre Højbjerg",
             "DEN"
            ],
            [
             "Shane Long",
             "IRL"
            ],
            [
             "Stuart Armstrong",
             "SCO"
            ]
           ],
           "hovertemplate": "Team=Southampton<br>animation_frame=1920<br><b>SCA90</b>=%{x}<br><b>GCA90</b>=%{y}<br>text=%{text}<br>Player=%{customdata[0]}<br>Nation=%{customdata[1]}<extra></extra>",
           "ids": [
            "Che Adams",
            "Danny Ings",
            "Nathan Redmond",
            "Oriol Romeu",
            "Pierre Højbjerg",
            "Shane Long",
            "Stuart Armstrong"
           ],
           "legendgroup": "Southampton",
           "marker": {
            "color": "#19d3f3",
            "symbol": "circle"
           },
           "mode": "markers+text",
           "name": "Southampton",
           "orientation": "v",
           "showlegend": true,
           "text": [
            "Che Adams",
            "Danny Ings",
            "Nathan Redmond",
            "Oriol Romeu",
            "Pierre Højbjerg",
            "Shane Long",
            "Stuart Armstrong"
           ],
           "type": "scatter",
           "x": [
            2.35,
            3.21,
            3.19,
            1.98,
            2.71,
            2.26,
            3.15
           ],
           "xaxis": "x",
           "y": [
            0.49,
            0.48,
            0.29,
            0.05,
            0.26,
            0.19,
            0.42
           ],
           "yaxis": "y"
          },
          {
           "customdata": [
            [
             "Christian Eriksen",
             "DEN"
            ],
            [
             "Dele Alli",
             "ENG"
            ],
            [
             "Giovani Lo Celso",
             "ARG"
            ],
            [
             "Harry Kane",
             "ENG"
            ],
            [
             "Harry Winks",
             "ENG"
            ],
            [
             "Lucas Moura",
             "BRA"
            ],
            [
             "Moussa Sissoko",
             "FRA"
            ],
            [
             "Son Heung-min",
             "KOR"
            ],
            [
             "Tanguy Ndombele",
             "FRA"
            ],
            [
             "Érik Lamela",
             "ARG"
            ]
           ],
           "hovertemplate": "Team=Tottenham<br>animation_frame=1920<br><b>SCA90</b>=%{x}<br><b>GCA90</b>=%{y}<br>text=%{text}<br>Player=%{customdata[0]}<br>Nation=%{customdata[1]}<extra></extra>",
           "ids": [
            "Christian Eriksen",
            "Dele Alli",
            "Giovani Lo Celso",
            "Harry Kane",
            "Harry Winks",
            "Lucas Moura",
            "Moussa Sissoko",
            "Son Heung-min",
            "Tanguy Ndombele",
            "Érik Lamela"
           ],
           "legendgroup": "Tottenham",
           "marker": {
            "color": "#FF6692",
            "symbol": "circle"
           },
           "mode": "markers+text",
           "name": "Tottenham",
           "orientation": "v",
           "showlegend": true,
           "text": [
            "Christian Eriksen",
            "Dele Alli",
            "Giovani Lo Celso",
            "Harry Kane",
            "Harry Winks",
            "Lucas Moura",
            "Moussa Sissoko",
            "Son Heung-min",
            "Tanguy Ndombele",
            "Érik Lamela"
           ],
           "type": "scatter",
           "x": [
            3.61,
            2.82,
            4.22,
            2.12,
            1.95,
            3.61,
            1.36,
            3.6,
            2.68,
            3.86
           ],
           "xaxis": "x",
           "y": [
            0.25,
            0.54,
            0.36,
            0.28,
            0.24,
            0.36,
            0.15,
            0.69,
            0.27,
            0.74
           ],
           "yaxis": "y"
          },
          {
           "customdata": [
            [
             "Abdoulaye Doucouré",
             "MLI"
            ],
            [
             "Gerard Deulofeu",
             "ESP"
            ],
            [
             "Ismaila Sarr",
             "SEN"
            ],
            [
             "Nathaniel Chalobah",
             "ENG"
            ],
            [
             "Roberto Pereyra",
             "ARG"
            ],
            [
             "Tom Cleverley",
             "ENG"
            ],
            [
             "Troy Deeney",
             "ENG"
            ],
            [
             "Will Hughes",
             "ENG"
            ],
            [
             "Étienne Capoue",
             "FRA"
            ]
           ],
           "hovertemplate": "Team=Watford<br>animation_frame=1920<br><b>SCA90</b>=%{x}<br><b>GCA90</b>=%{y}<br>text=%{text}<br>Player=%{customdata[0]}<br>Nation=%{customdata[1]}<extra></extra>",
           "ids": [
            "Abdoulaye Doucouré",
            "Gerard Deulofeu",
            "Ismaila Sarr",
            "Nathaniel Chalobah",
            "Roberto Pereyra",
            "Tom Cleverley",
            "Troy Deeney",
            "Will Hughes",
            "Étienne Capoue"
           ],
           "legendgroup": "Watford",
           "marker": {
            "color": "#B6E880",
            "symbol": "circle"
           },
           "mode": "markers+text",
           "name": "Watford",
           "orientation": "v",
           "showlegend": true,
           "text": [
            "Abdoulaye Doucouré",
            "Gerard Deulofeu",
            "Ismaila Sarr",
            "Nathaniel Chalobah",
            "Roberto Pereyra",
            "Tom Cleverley",
            "Troy Deeney",
            "Will Hughes",
            "Étienne Capoue"
           ],
           "type": "scatter",
           "x": [
            2.71,
            4.46,
            3.28,
            1.74,
            2.46,
            3.15,
            2.59,
            2.4,
            1.61
           ],
           "xaxis": "x",
           "y": [
            0.23,
            0.43,
            0.36,
            0.1,
            0.05,
            0.09,
            0.16,
            0.2,
            0.17
           ],
           "yaxis": "y"
          },
          {
           "customdata": [
            [
             "Andriy Yarmolenko",
             "UKR"
            ],
            [
             "Declan Rice",
             "ENG"
            ],
            [
             "Felipe Anderson",
             "BRA"
            ],
            [
             "Jarrod Bowen",
             "ENG"
            ],
            [
             "Manuel Lanzini",
             "ARG"
            ],
            [
             "Mark Noble",
             "ENG"
            ],
            [
             "Michail Antonio",
             "JAM"
            ],
            [
             "Pablo Fornals",
             "ESP"
            ],
            [
             "Robert Snodgrass",
             "SCO"
            ],
            [
             "Sébastien Haller",
             "CIV"
            ],
            [
             "Tomáš Souček",
             "CZE"
            ]
           ],
           "hovertemplate": "Team=West Ham<br>animation_frame=1920<br><b>SCA90</b>=%{x}<br><b>GCA90</b>=%{y}<br>text=%{text}<br>Player=%{customdata[0]}<br>Nation=%{customdata[1]}<extra></extra>",
           "ids": [
            "Andriy Yarmolenko",
            "Declan Rice",
            "Felipe Anderson",
            "Jarrod Bowen",
            "Manuel Lanzini",
            "Mark Noble",
            "Michail Antonio",
            "Pablo Fornals",
            "Robert Snodgrass",
            "Sébastien Haller",
            "Tomáš Souček"
           ],
           "legendgroup": "West Ham",
           "marker": {
            "color": "#FF97FF",
            "symbol": "circle"
           },
           "mode": "markers+text",
           "name": "West Ham",
           "orientation": "v",
           "showlegend": true,
           "text": [
            "Andriy Yarmolenko",
            "Declan Rice",
            "Felipe Anderson",
            "Jarrod Bowen",
            "Manuel Lanzini",
            "Mark Noble",
            "Michail Antonio",
            "Pablo Fornals",
            "Robert Snodgrass",
            "Sébastien Haller",
            "Tomáš Souček"
           ],
           "type": "scatter",
           "x": [
            3.27,
            1.53,
            4.03,
            2.85,
            4.19,
            2.83,
            3.61,
            2.11,
            3.28,
            2.03,
            1.21
           ],
           "xaxis": "x",
           "y": [
            0.45,
            0.18,
            0.66,
            0.49,
            0.33,
            0.34,
            0.46,
            0.37,
            0.48,
            0.32,
            0.17
           ],
           "yaxis": "y"
          },
          {
           "customdata": [
            [
             "Diogo Jota",
             "POR"
            ],
            [
             "João Moutinho",
             "POR"
            ],
            [
             "Pedro Neto",
             "POR"
            ],
            [
             "Raúl Jiménez",
             "MEX"
            ],
            [
             "Rúben Neves",
             "POR"
            ]
           ],
           "hovertemplate": "Team=Wolves<br>animation_frame=1920<br><b>SCA90</b>=%{x}<br><b>GCA90</b>=%{y}<br>text=%{text}<br>Player=%{customdata[0]}<br>Nation=%{customdata[1]}<extra></extra>",
           "ids": [
            "Diogo Jota",
            "João Moutinho",
            "Pedro Neto",
            "Raúl Jiménez",
            "Rúben Neves"
           ],
           "legendgroup": "Wolves",
           "marker": {
            "color": "#FECB52",
            "symbol": "circle"
           },
           "mode": "markers+text",
           "name": "Wolves",
           "orientation": "v",
           "showlegend": true,
           "text": [
            "Diogo Jota",
            "João Moutinho",
            "Pedro Neto",
            "Raúl Jiménez",
            "Rúben Neves"
           ],
           "type": "scatter",
           "x": [
            4.02,
            3.62,
            3.26,
            2.7,
            2.24
           ],
           "xaxis": "x",
           "y": [
            0.28,
            0.29,
            0.48,
            0.36,
            0.09
           ],
           "yaxis": "y"
          }
         ],
         "name": "1920"
        },
        {
         "data": [
          {
           "customdata": [
            [
             "Alexandre Lacazette",
             "FRA"
            ],
            [
             "Bukayo Saka",
             "ENG"
            ],
            [
             "Dani Ceballos",
             "ESP"
            ],
            [
             "Emile Smith Rowe",
             "ENG"
            ],
            [
             "Mohamed Elneny",
             "EGY"
            ],
            [
             "Nicolas Pépé",
             "CIV"
            ],
            [
             "Pierre-Emerick Aubameyang",
             "GAB"
            ],
            [
             "Thomas Partey",
             "GHA"
            ],
            [
             "Willian",
             "BRA"
            ]
           ],
           "hovertemplate": "Team=Arsenal<br>animation_frame=2021<br><b>SCA90</b>=%{x}<br><b>GCA90</b>=%{y}<br>text=%{text}<br>Player=%{customdata[0]}<br>Nation=%{customdata[1]}<extra></extra>",
           "ids": [
            "Alexandre Lacazette",
            "Bukayo Saka",
            "Dani Ceballos",
            "Emile Smith Rowe",
            "Mohamed Elneny",
            "Nicolas Pépé",
            "Pierre-Emerick Aubameyang",
            "Thomas Partey",
            "Willian"
           ],
           "legendgroup": "Arsenal",
           "marker": {
            "color": "#636efa",
            "symbol": "circle"
           },
           "mode": "markers+text",
           "name": "Arsenal",
           "orientation": "v",
           "showlegend": true,
           "text": [
            "Alexandre Lacazette",
            "Bukayo Saka",
            "Dani Ceballos",
            "Emile Smith Rowe",
            "Mohamed Elneny",
            "Nicolas Pépé",
            "Pierre-Emerick Aubameyang",
            "Thomas Partey",
            "Willian"
           ],
           "type": "scatter",
           "x": [
            2.57,
            3.81,
            3.79,
            3.06,
            1.11,
            2.39,
            1.85,
            1.82,
            4.23
           ],
           "xaxis": "x",
           "y": [
            0.23,
            0.42,
            0.28,
            0.44,
            0.06,
            0.45,
            0.27,
            0.18,
            0.7
           ],
           "yaxis": "y"
          },
          {
           "customdata": [
            [
             "Anwar El Ghazi",
             "NED"
            ],
            [
             "Bertrand Traoré",
             "BFA"
            ],
            [
             "Douglas Luiz",
             "BRA"
            ],
            [
             "Jack Grealish",
             "ENG"
            ],
            [
             "John McGinn",
             "SCO"
            ],
            [
             "Ollie Watkins",
             "ENG"
            ],
            [
             "Ross Barkley",
             "ENG"
            ],
            [
             "Trézéguet",
             "EGY"
            ]
           ],
           "hovertemplate": "Team=Aston Villa<br>animation_frame=2021<br><b>SCA90</b>=%{x}<br><b>GCA90</b>=%{y}<br>text=%{text}<br>Player=%{customdata[0]}<br>Nation=%{customdata[1]}<extra></extra>",
           "ids": [
            "Anwar El Ghazi",
            "Bertrand Traoré",
            "Douglas Luiz",
            "Jack Grealish",
            "John McGinn",
            "Ollie Watkins",
            "Ross Barkley",
            "Trézéguet"
           ],
           "legendgroup": "Aston Villa",
           "marker": {
            "color": "#EF553B",
            "symbol": "circle"
           },
           "mode": "markers+text",
           "name": "Aston Villa",
           "orientation": "v",
           "showlegend": true,
           "text": [
            "Anwar El Ghazi",
            "Bertrand Traoré",
            "Douglas Luiz",
            "Jack Grealish",
            "John McGinn",
            "Ollie Watkins",
            "Ross Barkley",
            "Trézéguet"
           ],
           "type": "scatter",
           "x": [
            3.62,
            3.22,
            1.68,
            6.96,
            3.24,
            3.03,
            4.47,
            2.63
           ],
           "xaxis": "x",
           "y": [
            0.11,
            0.35,
            0.23,
            0.82,
            0.41,
            0.38,
            0.29,
            0.15
           ],
           "yaxis": "y"
          },
          {
           "customdata": [
            [
             "Adam Lallana",
             "ENG"
            ],
            [
             "Alexis Mac Allister",
             "ARG"
            ],
            [
             "Danny Welbeck",
             "ENG"
            ],
            [
             "Leandro Trossard",
             "BEL"
            ],
            [
             "Neal Maupay",
             "FRA"
            ],
            [
             "Yves Bissouma",
             "MLI"
            ]
           ],
           "hovertemplate": "Team=Brighton<br>animation_frame=2021<br><b>SCA90</b>=%{x}<br><b>GCA90</b>=%{y}<br>text=%{text}<br>Player=%{customdata[0]}<br>Nation=%{customdata[1]}<extra></extra>",
           "ids": [
            "Adam Lallana",
            "Alexis Mac Allister",
            "Danny Welbeck",
            "Leandro Trossard",
            "Neal Maupay",
            "Yves Bissouma"
           ],
           "legendgroup": "Brighton",
           "marker": {
            "color": "#ab63fa",
            "symbol": "circle"
           },
           "mode": "markers+text",
           "name": "Brighton",
           "orientation": "v",
           "showlegend": true,
           "text": [
            "Adam Lallana",
            "Alexis Mac Allister",
            "Danny Welbeck",
            "Leandro Trossard",
            "Neal Maupay",
            "Yves Bissouma"
           ],
           "type": "scatter",
           "x": [
            3.16,
            2.74,
            3.09,
            3.79,
            2.76,
            1.71
           ],
           "xaxis": "x",
           "y": [
            0.23,
            0.16,
            0.29,
            0.38,
            0.25,
            0.09
           ],
           "yaxis": "y"
          },
          {
           "customdata": [
            [
             "Ashley Barnes",
             "ENG"
            ],
            [
             "Ashley Westwood",
             "ENG"
            ],
            [
             "Chris Wood",
             "NZL"
            ],
            [
             "Dwight McNeil",
             "ENG"
            ],
            [
             "Jack Cork",
             "ENG"
            ],
            [
             "Jay Rodriguez",
             "ENG"
            ],
            [
             "Josh Brownhill",
             "ENG"
            ],
            [
             "Jóhann Berg Guðmundsson",
             "ISL"
            ],
            [
             "Matěj Vydra",
             "CZE"
            ],
            [
             "Robbie Brady",
             "IRL"
            ]
           ],
           "hovertemplate": "Team=Burnley<br>animation_frame=2021<br><b>SCA90</b>=%{x}<br><b>GCA90</b>=%{y}<br>text=%{text}<br>Player=%{customdata[0]}<br>Nation=%{customdata[1]}<extra></extra>",
           "ids": [
            "Ashley Barnes",
            "Ashley Westwood",
            "Chris Wood",
            "Dwight McNeil",
            "Jack Cork",
            "Jay Rodriguez",
            "Josh Brownhill",
            "Jóhann Berg Guðmundsson",
            "Matěj Vydra",
            "Robbie Brady"
           ],
           "legendgroup": "Burnley",
           "marker": {
            "color": "#FFA15A",
            "symbol": "circle"
           },
           "mode": "markers+text",
           "name": "Burnley",
           "orientation": "v",
           "showlegend": true,
           "text": [
            "Ashley Barnes",
            "Ashley Westwood",
            "Chris Wood",
            "Dwight McNeil",
            "Jack Cork",
            "Jay Rodriguez",
            "Josh Brownhill",
            "Jóhann Berg Guðmundsson",
            "Matěj Vydra",
            "Robbie Brady"
           ],
           "type": "scatter",
           "x": [
            2.77,
            2.8,
            1.97,
            2.73,
            1.47,
            1.78,
            1.89,
            1.78,
            2.1,
            1.63
           ],
           "xaxis": "x",
           "y": [
            0.13,
            0.13,
            0.33,
            0.29,
            0,
            0.21,
            0.16,
            0,
            0.2,
            0.17
           ],
           "yaxis": "y"
          },
          {
           "customdata": [
            [
             "Christian Pulisic",
             "USA"
            ],
            [
             "Hakim Ziyech",
             "MAR"
            ],
            [
             "Jorginho",
             "ITA"
            ],
            [
             "Kai Havertz",
             "GER"
            ],
            [
             "Mason Mount",
             "ENG"
            ],
            [
             "Mateo Kovačić",
             "CRO"
            ],
            [
             "N'Golo Kanté",
             "FRA"
            ],
            [
             "Tammy Abraham",
             "ENG"
            ],
            [
             "Timo Werner",
             "GER"
            ]
           ],
           "hovertemplate": "Team=Chelsea<br>animation_frame=2021<br><b>SCA90</b>=%{x}<br><b>GCA90</b>=%{y}<br>text=%{text}<br>Player=%{customdata[0]}<br>Nation=%{customdata[1]}<extra></extra>",
           "ids": [
            "Christian Pulisic",
            "Hakim Ziyech",
            "Jorginho",
            "Kai Havertz",
            "Mason Mount",
            "Mateo Kovačić",
            "N'Golo Kanté",
            "Tammy Abraham",
            "Timo Werner"
           ],
           "legendgroup": "Chelsea",
           "marker": {
            "color": "#19d3f3",
            "symbol": "circle"
           },
           "mode": "markers+text",
           "name": "Chelsea",
           "orientation": "v",
           "showlegend": true,
           "text": [
            "Christian Pulisic",
            "Hakim Ziyech",
            "Jorginho",
            "Kai Havertz",
            "Mason Mount",
            "Mateo Kovačić",
            "N'Golo Kanté",
            "Tammy Abraham",
            "Timo Werner"
           ],
           "type": "scatter",
           "x": [
            3.57,
            5.6,
            2.42,
            2.9,
            5.26,
            2.73,
            2.1,
            1.47,
            3.08
           ],
           "xaxis": "x",
           "y": [
            0.41,
            0.46,
            0.09,
            0.41,
            0.44,
            0.2,
            0.04,
            0.17,
            0.52
           ],
           "yaxis": "y"
          },
          {
           "customdata": [
            [
             "Andros Townsend",
             "ENG"
            ],
            [
             "Christian Benteke",
             "BEL"
            ],
            [
             "Eberechi Eze",
             "ENG"
            ],
            [
             "James McArthur",
             "SCO"
            ],
            [
             "Jaïro Riedewald",
             "NED"
            ],
            [
             "Jeffrey Schlupp",
             "GHA"
            ],
            [
             "Jordan Ayew",
             "GHA"
            ],
            [
             "Luka Milivojević",
             "SRB"
            ],
            [
             "Wilfried Zaha",
             "CIV"
            ]
           ],
           "hovertemplate": "Team=Crystal Palace<br>animation_frame=2021<br><b>SCA90</b>=%{x}<br><b>GCA90</b>=%{y}<br>text=%{text}<br>Player=%{customdata[0]}<br>Nation=%{customdata[1]}<extra></extra>",
           "ids": [
            "Andros Townsend",
            "Christian Benteke",
            "Eberechi Eze",
            "James McArthur",
            "Jaïro Riedewald",
            "Jeffrey Schlupp",
            "Jordan Ayew",
            "Luka Milivojević",
            "Wilfried Zaha"
           ],
           "legendgroup": "Crystal Palace",
           "marker": {
            "color": "#FF6692",
            "symbol": "circle"
           },
           "mode": "markers+text",
           "name": "Crystal Palace",
           "orientation": "v",
           "showlegend": true,
           "text": [
            "Andros Townsend",
            "Christian Benteke",
            "Eberechi Eze",
            "James McArthur",
            "Jaïro Riedewald",
            "Jeffrey Schlupp",
            "Jordan Ayew",
            "Luka Milivojević",
            "Wilfried Zaha"
           ],
           "type": "scatter",
           "x": [
            3.03,
            1.98,
            3.34,
            1.41,
            0.94,
            2.21,
            1.67,
            1.87,
            3.31
           ],
           "xaxis": "x",
           "y": [
            0.36,
            0.2,
            0.42,
            0.18,
            0,
            0.32,
            0.3,
            0.11,
            0.34
           ],
           "yaxis": "y"
          },
          {
           "customdata": [
            [
             "Abdoulaye Doucouré",
             "MLI"
            ],
            [
             "Alex Iwobi",
             "NGA"
            ],
            [
             "Allan",
             "BRA"
            ],
            [
             "André Gomes",
             "POR"
            ],
            [
             "Dominic Calvert-Lewin",
             "ENG"
            ],
            [
             "Gylfi Sigurðsson",
             "ISL"
            ],
            [
             "James Rodríguez",
             "COL"
            ],
            [
             "Richarlison",
             "BRA"
            ],
            [
             "Tom Davies",
             "ENG"
            ]
           ],
           "hovertemplate": "Team=Everton<br>animation_frame=2021<br><b>SCA90</b>=%{x}<br><b>GCA90</b>=%{y}<br>text=%{text}<br>Player=%{customdata[0]}<br>Nation=%{customdata[1]}<extra></extra>",
           "ids": [
            "Abdoulaye Doucouré",
            "Alex Iwobi",
            "Allan",
            "André Gomes",
            "Dominic Calvert-Lewin",
            "Gylfi Sigurðsson",
            "James Rodríguez",
            "Richarlison",
            "Tom Davies"
           ],
           "legendgroup": "Everton",
           "marker": {
            "color": "#B6E880",
            "symbol": "circle"
           },
           "mode": "markers+text",
           "name": "Everton",
           "orientation": "v",
           "showlegend": true,
           "text": [
            "Abdoulaye Doucouré",
            "Alex Iwobi",
            "Allan",
            "André Gomes",
            "Dominic Calvert-Lewin",
            "Gylfi Sigurðsson",
            "James Rodríguez",
            "Richarlison",
            "Tom Davies"
           ],
           "type": "scatter",
           "x": [
            1.84,
            2.63,
            1.71,
            2.41,
            1.72,
            2.99,
            3.67,
            2.8,
            1.65
           ],
           "xaxis": "x",
           "y": [
            0.26,
            0.29,
            0.09,
            0.17,
            0.22,
            0.28,
            0.66,
            0.25,
            0.13
           ],
           "yaxis": "y"
          },
          {
           "customdata": [
            [
             "Ayoze Pérez",
             "ESP"
            ],
            [
             "Harvey Barnes",
             "ENG"
            ],
            [
             "James Maddison",
             "ENG"
            ],
            [
             "Jamie Vardy",
             "ENG"
            ],
            [
             "Kelechi Iheanacho",
             "NGA"
            ],
            [
             "Nampalys Mendy",
             "SEN"
            ],
            [
             "Youri Tielemans",
             "BEL"
            ]
           ],
           "hovertemplate": "Team=Leicester City<br>animation_frame=2021<br><b>SCA90</b>=%{x}<br><b>GCA90</b>=%{y}<br>text=%{text}<br>Player=%{customdata[0]}<br>Nation=%{customdata[1]}<extra></extra>",
           "ids": [
            "Ayoze Pérez",
            "Harvey Barnes",
            "James Maddison",
            "Jamie Vardy",
            "Kelechi Iheanacho",
            "Nampalys Mendy",
            "Youri Tielemans"
           ],
           "legendgroup": "Leicester City",
           "marker": {
            "color": "#FF97FF",
            "symbol": "circle"
           },
           "mode": "markers+text",
           "name": "Leicester City",
           "orientation": "v",
           "showlegend": true,
           "text": [
            "Ayoze Pérez",
            "Harvey Barnes",
            "James Maddison",
            "Jamie Vardy",
            "Kelechi Iheanacho",
            "Nampalys Mendy",
            "Youri Tielemans"
           ],
           "type": "scatter",
           "x": [
            3.45,
            3.29,
            4.85,
            2.03,
            3.21,
            1.36,
            3.38
           ],
           "xaxis": "x",
           "y": [
            0.27,
            0.46,
            0.43,
            0.63,
            0.19,
            0.12,
            0.43
           ],
           "yaxis": "y"
          },
          {
           "customdata": [
            [
             "Curtis Jones",
             "ENG"
            ],
            [
             "Diogo Jota",
             "POR"
            ],
            [
             "Georginio Wijnaldum",
             "NED"
            ],
            [
             "Mohamed Salah",
             "EGY"
            ],
            [
             "Roberto Firmino",
             "BRA"
            ],
            [
             "Sadio Mané",
             "SEN"
            ],
            [
             "Thiago Alcántara",
             "ESP"
            ]
           ],
           "hovertemplate": "Team=Liverpool<br>animation_frame=2021<br><b>SCA90</b>=%{x}<br><b>GCA90</b>=%{y}<br>text=%{text}<br>Player=%{customdata[0]}<br>Nation=%{customdata[1]}<extra></extra>",
           "ids": [
            "Curtis Jones",
            "Diogo Jota",
            "Georginio Wijnaldum",
            "Mohamed Salah",
            "Roberto Firmino",
            "Sadio Mané",
            "Thiago Alcántara"
           ],
           "legendgroup": "Liverpool",
           "marker": {
            "color": "#FECB52",
            "symbol": "circle"
           },
           "mode": "markers+text",
           "name": "Liverpool",
           "orientation": "v",
           "showlegend": true,
           "text": [
            "Curtis Jones",
            "Diogo Jota",
            "Georginio Wijnaldum",
            "Mohamed Salah",
            "Roberto Firmino",
            "Sadio Mané",
            "Thiago Alcántara"
           ],
           "type": "scatter",
           "x": [
            3.05,
            2.99,
            2.08,
            3.92,
            3.52,
            4.52,
            3.93
           ],
           "xaxis": "x",
           "y": [
            0.31,
            0.32,
            0.21,
            0.47,
            0.35,
            0.51,
            0.15
           ],
           "yaxis": "y"
          },
          {
           "customdata": [
            [
             "Bernardo Silva",
             "POR"
            ],
            [
             "Fernandinho",
             "BRA"
            ],
            [
             "Ferrán Torres",
             "ESP"
            ],
            [
             "Gabriel Jesus",
             "BRA"
            ],
            [
             "Kevin De Bruyne",
             "BEL"
            ],
            [
             "Phil Foden",
             "ENG"
            ],
            [
             "Raheem Sterling",
             "ENG"
            ],
            [
             "Riyad Mahrez",
             "ALG"
            ],
            [
             "Rodri",
             "ESP"
            ],
            [
             "İlkay Gündoğan",
             "GER"
            ]
           ],
           "hovertemplate": "Team=Manchester City<br>animation_frame=2021<br><b>SCA90</b>=%{x}<br><b>GCA90</b>=%{y}<br>text=%{text}<br>Player=%{customdata[0]}<br>Nation=%{customdata[1]}<extra></extra>",
           "ids": [
            "Bernardo Silva",
            "Fernandinho",
            "Ferrán Torres",
            "Gabriel Jesus",
            "Kevin De Bruyne",
            "Phil Foden",
            "Raheem Sterling",
            "Riyad Mahrez",
            "Rodri",
            "İlkay Gündoğan"
           ],
           "legendgroup": "Manchester City",
           "marker": {
            "color": "#636efa",
            "symbol": "circle"
           },
           "mode": "markers+text",
           "name": "Manchester City",
           "orientation": "v",
           "showlegend": true,
           "text": [
            "Bernardo Silva",
            "Fernandinho",
            "Ferrán Torres",
            "Gabriel Jesus",
            "Kevin De Bruyne",
            "Phil Foden",
            "Raheem Sterling",
            "Riyad Mahrez",
            "Rodri",
            "İlkay Gündoğan"
           ],
           "type": "scatter",
           "x": [
            3.66,
            2.35,
            2.76,
            3.4,
            6.67,
            3.68,
            3.8,
            4.2,
            2.78,
            3.91
           ],
           "xaxis": "x",
           "y": [
            0.52,
            0.23,
            0.41,
            0.48,
            0.81,
            0.67,
            0.53,
            0.79,
            0.29,
            0.4
           ],
           "yaxis": "y"
          },
          {
           "customdata": [
            [
             "Anthony Martial",
             "FRA"
            ],
            [
             "Bruno Fernandes",
             "POR"
            ],
            [
             "Daniel James",
             "WAL"
            ],
            [
             "Edinson Cavani",
             "URU"
            ],
            [
             "Fred",
             "BRA"
            ],
            [
             "Marcus Rashford",
             "ENG"
            ],
            [
             "Mason Greenwood",
             "ENG"
            ],
            [
             "Nemanja Matić",
             "SRB"
            ],
            [
             "Paul Pogba",
             "FRA"
            ],
            [
             "Scott McTominay",
             "SCO"
            ]
           ],
           "hovertemplate": "Team=Manchester Utd<br>animation_frame=2021<br><b>SCA90</b>=%{x}<br><b>GCA90</b>=%{y}<br>text=%{text}<br>Player=%{customdata[0]}<br>Nation=%{customdata[1]}<extra></extra>",
           "ids": [
            "Anthony Martial",
            "Bruno Fernandes",
            "Daniel James",
            "Edinson Cavani",
            "Fred",
            "Marcus Rashford",
            "Mason Greenwood",
            "Nemanja Matić",
            "Paul Pogba",
            "Scott McTominay"
           ],
           "legendgroup": "Manchester Utd",
           "marker": {
            "color": "#EF553B",
            "symbol": "circle"
           },
           "mode": "markers+text",
           "name": "Manchester Utd",
           "orientation": "v",
           "showlegend": true,
           "text": [
            "Anthony Martial",
            "Bruno Fernandes",
            "Daniel James",
            "Edinson Cavani",
            "Fred",
            "Marcus Rashford",
            "Mason Greenwood",
            "Nemanja Matić",
            "Paul Pogba",
            "Scott McTominay"
           ],
           "type": "scatter",
           "x": [
            2.92,
            5.34,
            1.68,
            2.03,
            2.94,
            3.58,
            2.47,
            1.95,
            3.41,
            1.4
           ],
           "xaxis": "x",
           "y": [
            0.55,
            0.73,
            0.2,
            0.26,
            0.26,
            0.62,
            0.25,
            0.24,
            0.33,
            0.13
           ],
           "yaxis": "y"
          },
          {
           "customdata": [
            [
             "Allan Saint-Maximin",
             "FRA"
            ],
            [
             "Callum Wilson",
             "ENG"
            ],
            [
             "Jeff Hendrick",
             "IRL"
            ],
            [
             "Joe Willock",
             "ENG"
            ],
            [
             "Joelinton",
             "BRA"
            ],
            [
             "Jonjo Shelvey",
             "ENG"
            ],
            [
             "Miguel Almirón",
             "PAR"
            ],
            [
             "Ryan Fraser",
             "SCO"
            ],
            [
             "Sean Longstaff",
             "ENG"
            ]
           ],
           "hovertemplate": "Team=Newcastle Utd<br>animation_frame=2021<br><b>SCA90</b>=%{x}<br><b>GCA90</b>=%{y}<br>text=%{text}<br>Player=%{customdata[0]}<br>Nation=%{customdata[1]}<extra></extra>",
           "ids": [
            "Allan Saint-Maximin",
            "Callum Wilson",
            "Jeff Hendrick",
            "Joe Willock",
            "Joelinton",
            "Jonjo Shelvey",
            "Miguel Almirón",
            "Ryan Fraser",
            "Sean Longstaff"
           ],
           "legendgroup": "Newcastle Utd",
           "marker": {
            "color": "#00cc96",
            "symbol": "circle"
           },
           "mode": "markers+text",
           "name": "Newcastle Utd",
           "orientation": "v",
           "showlegend": true,
           "text": [
            "Allan Saint-Maximin",
            "Callum Wilson",
            "Jeff Hendrick",
            "Joe Willock",
            "Joelinton",
            "Jonjo Shelvey",
            "Miguel Almirón",
            "Ryan Fraser",
            "Sean Longstaff"
           ],
           "type": "scatter",
           "x": [
            3.98,
            2.2,
            1.27,
            2.57,
            2.45,
            2.48,
            2.82,
            3.59,
            1.85
           ],
           "xaxis": "x",
           "y": [
            0.58,
            0.48,
            0.25,
            0.28,
            0.32,
            0.28,
            0.22,
            0.29,
            0.19
           ],
           "yaxis": "y"
          },
          {
           "customdata": [
            [
             "David McGoldrick",
             "IRL"
            ],
            [
             "John Fleck",
             "SCO"
            ],
            [
             "John Lundstram",
             "ENG"
            ],
            [
             "Oliver Burke",
             "SCO"
            ],
            [
             "Oliver McBurnie",
             "SCO"
            ],
            [
             "Oliver Norwood",
             "NIR"
            ],
            [
             "Rhian Brewster",
             "ENG"
            ],
            [
             "Sander Berge",
             "NOR"
            ]
           ],
           "hovertemplate": "Team=Sheffield Utd<br>animation_frame=2021<br><b>SCA90</b>=%{x}<br><b>GCA90</b>=%{y}<br>text=%{text}<br>Player=%{customdata[0]}<br>Nation=%{customdata[1]}<extra></extra>",
           "ids": [
            "David McGoldrick",
            "John Fleck",
            "John Lundstram",
            "Oliver Burke",
            "Oliver McBurnie",
            "Oliver Norwood",
            "Rhian Brewster",
            "Sander Berge"
           ],
           "legendgroup": "Sheffield Utd",
           "marker": {
            "color": "#FFA15A",
            "symbol": "circle"
           },
           "mode": "markers+text",
           "name": "Sheffield Utd",
           "orientation": "v",
           "showlegend": true,
           "text": [
            "David McGoldrick",
            "John Fleck",
            "John Lundstram",
            "Oliver Burke",
            "Oliver McBurnie",
            "Oliver Norwood",
            "Rhian Brewster",
            "Sander Berge"
           ],
           "type": "scatter",
           "x": [
            2.18,
            2.52,
            2.21,
            1.92,
            2.11,
            2.15,
            1.83,
            1.85
           ],
           "xaxis": "x",
           "y": [
            0.04,
            0.1,
            0.22,
            0.07,
            0.14,
            0.04,
            0,
            0.08
           ],
           "yaxis": "y"
          },
          {
           "customdata": [
            [
             "Che Adams",
             "SCO"
            ],
            [
             "Danny Ings",
             "ENG"
            ],
            [
             "Ibrahima Diallo",
             "FRA"
            ],
            [
             "James Ward-Prowse",
             "ENG"
            ],
            [
             "Moussa Djenepo",
             "MLI"
            ],
            [
             "Nathan Redmond",
             "ENG"
            ],
            [
             "Oriol Romeu",
             "ESP"
            ],
            [
             "Stuart Armstrong",
             "SCO"
            ],
            [
             "Theo Walcott",
             "ENG"
            ]
           ],
           "hovertemplate": "Team=Southampton<br>animation_frame=2021<br><b>SCA90</b>=%{x}<br><b>GCA90</b>=%{y}<br>text=%{text}<br>Player=%{customdata[0]}<br>Nation=%{customdata[1]}<extra></extra>",
           "ids": [
            "Che Adams",
            "Danny Ings",
            "Ibrahima Diallo",
            "James Ward-Prowse",
            "Moussa Djenepo",
            "Nathan Redmond",
            "Oriol Romeu",
            "Stuart Armstrong",
            "Theo Walcott"
           ],
           "legendgroup": "Southampton",
           "marker": {
            "color": "#19d3f3",
            "symbol": "circle"
           },
           "mode": "markers+text",
           "name": "Southampton",
           "orientation": "v",
           "showlegend": true,
           "text": [
            "Che Adams",
            "Danny Ings",
            "Ibrahima Diallo",
            "James Ward-Prowse",
            "Moussa Djenepo",
            "Nathan Redmond",
            "Oriol Romeu",
            "Stuart Armstrong",
            "Theo Walcott"
           ],
           "type": "scatter",
           "x": [
            2.29,
            2.44,
            1.68,
            2.76,
            2.25,
            3.26,
            2.09,
            2.96,
            1.72
           ],
           "xaxis": "x",
           "y": [
            0.24,
            0.33,
            0.09,
            0.32,
            0.29,
            0.26,
            0.2,
            0.49,
            0.33
           ],
           "yaxis": "y"
          },
          {
           "customdata": [
            [
             "Gareth Bale",
             "WAL"
            ],
            [
             "Giovani Lo Celso",
             "ARG"
            ],
            [
             "Harry Kane",
             "ENG"
            ],
            [
             "Lucas Moura",
             "BRA"
            ],
            [
             "Moussa Sissoko",
             "FRA"
            ],
            [
             "Pierre Højbjerg",
             "DEN"
            ],
            [
             "Son Heung-min",
             "KOR"
            ],
            [
             "Steven Bergwijn",
             "NED"
            ],
            [
             "Tanguy Ndombele",
             "FRA"
            ]
           ],
           "hovertemplate": "Team=Tottenham<br>animation_frame=2021<br><b>SCA90</b>=%{x}<br><b>GCA90</b>=%{y}<br>text=%{text}<br>Player=%{customdata[0]}<br>Nation=%{customdata[1]}<extra></extra>",
           "ids": [
            "Gareth Bale",
            "Giovani Lo Celso",
            "Harry Kane",
            "Lucas Moura",
            "Moussa Sissoko",
            "Pierre Højbjerg",
            "Son Heung-min",
            "Steven Bergwijn",
            "Tanguy Ndombele"
           ],
           "legendgroup": "Tottenham",
           "marker": {
            "color": "#FF6692",
            "symbol": "circle"
           },
           "mode": "markers+text",
           "name": "Tottenham",
           "orientation": "v",
           "showlegend": true,
           "text": [
            "Gareth Bale",
            "Giovani Lo Celso",
            "Harry Kane",
            "Lucas Moura",
            "Moussa Sissoko",
            "Pierre Højbjerg",
            "Son Heung-min",
            "Steven Bergwijn",
            "Tanguy Ndombele"
           ],
           "type": "scatter",
           "x": [
            4.59,
            3.05,
            3.71,
            2.49,
            0.97,
            1.55,
            3.73,
            2.61,
            2.5
           ],
           "xaxis": "x",
           "y": [
            0.59,
            0.38,
            0.76,
            0.57,
            0.11,
            0.26,
            0.52,
            0.52,
            0.34
           ],
           "yaxis": "y"
          },
          {
           "customdata": [
            [
             "Declan Rice",
             "ENG"
            ],
            [
             "Jarrod Bowen",
             "ENG"
            ],
            [
             "Jesse Lingard",
             "ENG"
            ],
            [
             "Michail Antonio",
             "JAM"
            ],
            [
             "Pablo Fornals",
             "ESP"
            ],
            [
             "Saïd Benrahma",
             "ALG"
            ],
            [
             "Sébastien Haller",
             "CIV"
            ],
            [
             "Tomáš Souček",
             "CZE"
            ]
           ],
           "hovertemplate": "Team=West Ham<br>animation_frame=2021<br><b>SCA90</b>=%{x}<br><b>GCA90</b>=%{y}<br>text=%{text}<br>Player=%{customdata[0]}<br>Nation=%{customdata[1]}<extra></extra>",
           "ids": [
            "Declan Rice",
            "Jarrod Bowen",
            "Jesse Lingard",
            "Michail Antonio",
            "Pablo Fornals",
            "Saïd Benrahma",
            "Sébastien Haller",
            "Tomáš Souček"
           ],
           "legendgroup": "West Ham",
           "marker": {
            "color": "#FF97FF",
            "symbol": "circle"
           },
           "mode": "markers+text",
           "name": "West Ham",
           "orientation": "v",
           "showlegend": true,
           "text": [
            "Declan Rice",
            "Jarrod Bowen",
            "Jesse Lingard",
            "Michail Antonio",
            "Pablo Fornals",
            "Saïd Benrahma",
            "Sébastien Haller",
            "Tomáš Souček"
           ],
           "type": "scatter",
           "x": [
            1.84,
            2.78,
            3.99,
            3.47,
            2.84,
            4.14,
            1.54,
            1.53
           ],
           "xaxis": "x",
           "y": [
            0.19,
            0.42,
            0.76,
            0.5,
            0.39,
            0.65,
            0,
            0.21
           ],
           "yaxis": "y"
          },
          {
           "customdata": [
            [
             "Adama Traoré",
             "ESP"
            ],
            [
             "Daniel Podence",
             "POR"
            ],
            [
             "Fábio Silva",
             "POR"
            ],
            [
             "João Moutinho",
             "POR"
            ],
            [
             "Pedro Neto",
             "POR"
            ],
            [
             "Rúben Neves",
             "POR"
            ],
            [
             "Willian José",
             "BRA"
            ]
           ],
           "hovertemplate": "Team=Wolves<br>animation_frame=2021<br><b>SCA90</b>=%{x}<br><b>GCA90</b>=%{y}<br>text=%{text}<br>Player=%{customdata[0]}<br>Nation=%{customdata[1]}<extra></extra>",
           "ids": [
            "Adama Traoré",
            "Daniel Podence",
            "Fábio Silva",
            "João Moutinho",
            "Pedro Neto",
            "Rúben Neves",
            "Willian José"
           ],
           "legendgroup": "Wolves",
           "marker": {
            "color": "#FECB52",
            "symbol": "circle"
           },
           "mode": "markers+text",
           "name": "Wolves",
           "orientation": "v",
           "showlegend": true,
           "text": [
            "Adama Traoré",
            "Daniel Podence",
            "Fábio Silva",
            "João Moutinho",
            "Pedro Neto",
            "Rúben Neves",
            "Willian José"
           ],
           "type": "scatter",
           "x": [
            3.91,
            3.25,
            1.91,
            3.42,
            4.34,
            2.62,
            2.19
           ],
           "xaxis": "x",
           "y": [
            0.17,
            0.32,
            0.2,
            0.21,
            0.35,
            0.13,
            0.08
           ],
           "yaxis": "y"
          },
          {
           "customdata": [
            [
             "Ademola Lookman",
             "NGA"
            ],
            [
             "Aleksandar Mitrović",
             "SRB"
            ],
            [
             "Andre-Frank Zambo Anguissa",
             "CMR"
            ],
            [
             "Bobby Reid",
             "JAM"
            ],
            [
             "Harrison Reed",
             "ENG"
            ],
            [
             "Ivan Cavaleiro",
             "POR"
            ],
            [
             "Mario Lemina",
             "GAB"
            ],
            [
             "Ruben Loftus-Cheek",
             "ENG"
            ]
           ],
           "hovertemplate": "Team=Fulham<br>animation_frame=2021<br><b>SCA90</b>=%{x}<br><b>GCA90</b>=%{y}<br>text=%{text}<br>Player=%{customdata[0]}<br>Nation=%{customdata[1]}<extra></extra>",
           "ids": [
            "Ademola Lookman",
            "Aleksandar Mitrović",
            "Andre-Frank Zambo Anguissa",
            "Bobby Reid",
            "Harrison Reed",
            "Ivan Cavaleiro",
            "Mario Lemina",
            "Ruben Loftus-Cheek"
           ],
           "legendgroup": "Fulham",
           "marker": {
            "color": "#636efa",
            "symbol": "circle"
           },
           "mode": "markers+text",
           "name": "Fulham",
           "orientation": "v",
           "showlegend": true,
           "text": [
            "Ademola Lookman",
            "Aleksandar Mitrović",
            "Andre-Frank Zambo Anguissa",
            "Bobby Reid",
            "Harrison Reed",
            "Ivan Cavaleiro",
            "Mario Lemina",
            "Ruben Loftus-Cheek"
           ],
           "type": "scatter",
           "x": [
            4.16,
            2.82,
            2.19,
            1.59,
            1.76,
            3.1,
            1.43,
            2.92
           ],
           "xaxis": "x",
           "y": [
            0.29,
            0.32,
            0.21,
            0.19,
            0.12,
            0.07,
            0.11,
            0
           ],
           "yaxis": "y"
          },
          {
           "customdata": [
            [
             "Hélder Costa",
             "ANG"
            ],
            [
             "Jack Harrison",
             "ENG"
            ],
            [
             "Kalvin Phillips",
             "ENG"
            ],
            [
             "Mateusz Klich",
             "POL"
            ],
            [
             "Patrick Bamford",
             "ENG"
            ],
            [
             "Raphinha",
             "BRA"
            ],
            [
             "Rodrigo",
             "ESP"
            ],
            [
             "Tyler Roberts",
             "WAL"
            ]
           ],
           "hovertemplate": "Team=Leeds United<br>animation_frame=2021<br><b>SCA90</b>=%{x}<br><b>GCA90</b>=%{y}<br>text=%{text}<br>Player=%{customdata[0]}<br>Nation=%{customdata[1]}<extra></extra>",
           "ids": [
            "Hélder Costa",
            "Jack Harrison",
            "Kalvin Phillips",
            "Mateusz Klich",
            "Patrick Bamford",
            "Raphinha",
            "Rodrigo",
            "Tyler Roberts"
           ],
           "legendgroup": "Leeds United",
           "marker": {
            "color": "#EF553B",
            "symbol": "circle"
           },
           "mode": "markers+text",
           "name": "Leeds United",
           "orientation": "v",
           "showlegend": true,
           "text": [
            "Hélder Costa",
            "Jack Harrison",
            "Kalvin Phillips",
            "Mateusz Klich",
            "Patrick Bamford",
            "Raphinha",
            "Rodrigo",
            "Tyler Roberts"
           ],
           "type": "scatter",
           "x": [
            1.48,
            3.7,
            2.59,
            4.02,
            1.92,
            4.58,
            4.75,
            2.62
           ],
           "xaxis": "x",
           "y": [
            0.47,
            0.47,
            0.07,
            0.56,
            0.47,
            0.57,
            0.56,
            0.13
           ],
           "yaxis": "y"
          },
          {
           "customdata": [
            [
             "Ainsley Maitland-Niles",
             "ENG"
            ],
            [
             "Callum Robinson",
             "IRL"
            ],
            [
             "Conor Gallagher",
             "ENG"
            ],
            [
             "Grady Diangana",
             "COD"
            ],
            [
             "Jake Livermore",
             "ENG"
            ],
            [
             "Karlan Grant",
             "ENG"
            ],
            [
             "Matheus Pereira",
             "POR"
            ],
            [
             "Matt Phillips",
             "SCO"
            ],
            [
             "Mbaye Diagne",
             "SEN"
            ],
            [
             "Okay Yokuşlu",
             "TUR"
            ],
            [
             "Romaine Sawyers",
             "SKN"
            ]
           ],
           "hovertemplate": "Team=West Brom<br>animation_frame=2021<br><b>SCA90</b>=%{x}<br><b>GCA90</b>=%{y}<br>text=%{text}<br>Player=%{customdata[0]}<br>Nation=%{customdata[1]}<extra></extra>",
           "ids": [
            "Ainsley Maitland-Niles",
            "Callum Robinson",
            "Conor Gallagher",
            "Grady Diangana",
            "Jake Livermore",
            "Karlan Grant",
            "Matheus Pereira",
            "Matt Phillips",
            "Mbaye Diagne",
            "Okay Yokuşlu",
            "Romaine Sawyers"
           ],
           "legendgroup": "West Brom",
           "marker": {
            "color": "#00cc96",
            "symbol": "circle"
           },
           "mode": "markers+text",
           "name": "West Brom",
           "orientation": "v",
           "showlegend": true,
           "text": [
            "Ainsley Maitland-Niles",
            "Callum Robinson",
            "Conor Gallagher",
            "Grady Diangana",
            "Jake Livermore",
            "Karlan Grant",
            "Matheus Pereira",
            "Matt Phillips",
            "Mbaye Diagne",
            "Okay Yokuşlu",
            "Romaine Sawyers"
           ],
           "type": "scatter",
           "x": [
            1.61,
            2.65,
            1.64,
            1.89,
            0.65,
            1.2,
            4.12,
            2.26,
            1.67,
            0.96,
            1.15
           ],
           "xaxis": "x",
           "y": [
            0.15,
            0.23,
            0.07,
            0.07,
            0.07,
            0.16,
            0.35,
            0.1,
            0.38,
            0.21,
            0.12
           ],
           "yaxis": "y"
          }
         ],
         "name": "2021"
        },
        {
         "data": [
          {
           "customdata": [
            [
             "Albert Sambi Lokonga",
             "BEL"
            ],
            [
             "Alexandre Lacazette",
             "FRA"
            ],
            [
             "Bukayo Saka",
             "ENG"
            ],
            [
             "Emile Smith Rowe",
             "ENG"
            ],
            [
             "Gabriel Martinelli",
             "BRA"
            ],
            [
             "Martin Ødegaard",
             "NOR"
            ],
            [
             "Pierre-Emerick Aubameyang",
             "GAB"
            ],
            [
             "Thomas Partey",
             "GHA"
            ]
           ],
           "hovertemplate": "Team=Arsenal<br>animation_frame=2122<br><b>SCA90</b>=%{x}<br><b>GCA90</b>=%{y}<br>text=%{text}<br>Player=%{customdata[0]}<br>Nation=%{customdata[1]}<extra></extra>",
           "ids": [
            "Albert Sambi Lokonga",
            "Alexandre Lacazette",
            "Bukayo Saka",
            "Emile Smith Rowe",
            "Gabriel Martinelli",
            "Martin Ødegaard",
            "Pierre-Emerick Aubameyang",
            "Thomas Partey"
           ],
           "legendgroup": "Arsenal",
           "marker": {
            "color": "#636efa",
            "symbol": "circle"
           },
           "mode": "markers+text",
           "name": "Arsenal",
           "orientation": "v",
           "showlegend": true,
           "text": [
            "Albert Sambi Lokonga",
            "Alexandre Lacazette",
            "Bukayo Saka",
            "Emile Smith Rowe",
            "Gabriel Martinelli",
            "Martin Ødegaard",
            "Pierre-Emerick Aubameyang",
            "Thomas Partey"
           ],
           "type": "scatter",
           "x": [
            3.09,
            3.58,
            4.78,
            3.14,
            3.49,
            5.14,
            1.91,
            2.71
           ],
           "xaxis": "x",
           "y": [
            0,
            0.45,
            0.54,
            0.28,
            0.63,
            0.48,
            0.26,
            0.18
           ],
           "yaxis": "y"
          },
          {
           "customdata": [
            [
             "Danny Ings",
             "ENG"
            ],
            [
             "Douglas Luiz",
             "BRA"
            ],
            [
             "Emi Buendía",
             "ARG"
            ],
            [
             "Jacob Ramsey",
             "ENG"
            ],
            [
             "John McGinn",
             "SCO"
            ],
            [
             "Ollie Watkins",
             "ENG"
            ],
            [
             "Philippe Coutinho",
             "BRA"
            ]
           ],
           "hovertemplate": "Team=Aston Villa<br>animation_frame=2122<br><b>SCA90</b>=%{x}<br><b>GCA90</b>=%{y}<br>text=%{text}<br>Player=%{customdata[0]}<br>Nation=%{customdata[1]}<extra></extra>",
           "ids": [
            "Danny Ings",
            "Douglas Luiz",
            "Emi Buendía",
            "Jacob Ramsey",
            "John McGinn",
            "Ollie Watkins",
            "Philippe Coutinho"
           ],
           "legendgroup": "Aston Villa",
           "marker": {
            "color": "#EF553B",
            "symbol": "circle"
           },
           "mode": "markers+text",
           "name": "Aston Villa",
           "orientation": "v",
           "showlegend": true,
           "text": [
            "Danny Ings",
            "Douglas Luiz",
            "Emi Buendía",
            "Jacob Ramsey",
            "John McGinn",
            "Ollie Watkins",
            "Philippe Coutinho"
           ],
           "type": "scatter",
           "x": [
            1.52,
            2.95,
            3.93,
            2.74,
            3,
            2.5,
            4.19
           ],
           "xaxis": "x",
           "y": [
            0.43,
            0.3,
            0.47,
            0.22,
            0.17,
            0.27,
            0.54
           ],
           "yaxis": "y"
          },
          {
           "customdata": [
            [
             "Adam Lallana",
             "ENG"
            ],
            [
             "Alexis Mac Allister",
             "ARG"
            ],
            [
             "Danny Welbeck",
             "ENG"
            ],
            [
             "Enock Mwepu",
             "ZAM"
            ],
            [
             "Jakub Moder",
             "POL"
            ],
            [
             "Leandro Trossard",
             "BEL"
            ],
            [
             "Neal Maupay",
             "FRA"
            ],
            [
             "Yves Bissouma",
             "MLI"
            ]
           ],
           "hovertemplate": "Team=Brighton<br>animation_frame=2122<br><b>SCA90</b>=%{x}<br><b>GCA90</b>=%{y}<br>text=%{text}<br>Player=%{customdata[0]}<br>Nation=%{customdata[1]}<extra></extra>",
           "ids": [
            "Adam Lallana",
            "Alexis Mac Allister",
            "Danny Welbeck",
            "Enock Mwepu",
            "Jakub Moder",
            "Leandro Trossard",
            "Neal Maupay",
            "Yves Bissouma"
           ],
           "legendgroup": "Brighton",
           "marker": {
            "color": "#ab63fa",
            "symbol": "circle"
           },
           "mode": "markers+text",
           "name": "Brighton",
           "orientation": "v",
           "showlegend": true,
           "text": [
            "Adam Lallana",
            "Alexis Mac Allister",
            "Danny Welbeck",
            "Enock Mwepu",
            "Jakub Moder",
            "Leandro Trossard",
            "Neal Maupay",
            "Yves Bissouma"
           ],
           "type": "scatter",
           "x": [
            1.62,
            3.52,
            2.32,
            2.35,
            2.17,
            3.63,
            2.33,
            1.32
           ],
           "xaxis": "x",
           "y": [
            0.23,
            0.21,
            0.18,
            0.63,
            0.21,
            0.42,
            0.12,
            0.17
           ],
           "yaxis": "y"
          },
          {
           "customdata": [
            [
             "Aaron Lennon",
             "ENG"
            ],
            [
             "Ashley Westwood",
             "ENG"
            ],
            [
             "Chris Wood",
             "NZL"
            ],
            [
             "Dwight McNeil",
             "ENG"
            ],
            [
             "Jack Cork",
             "ENG"
            ],
            [
             "Jay Rodriguez",
             "ENG"
            ],
            [
             "Josh Brownhill",
             "ENG"
            ],
            [
             "Jóhann Berg Guðmundsson",
             "ISL"
            ],
            [
             "Maxwel Cornet",
             "CIV"
            ],
            [
             "Wout Weghorst",
             "NED"
            ]
           ],
           "hovertemplate": "Team=Burnley<br>animation_frame=2122<br><b>SCA90</b>=%{x}<br><b>GCA90</b>=%{y}<br>text=%{text}<br>Player=%{customdata[0]}<br>Nation=%{customdata[1]}<extra></extra>",
           "ids": [
            "Aaron Lennon",
            "Ashley Westwood",
            "Chris Wood",
            "Dwight McNeil",
            "Jack Cork",
            "Jay Rodriguez",
            "Josh Brownhill",
            "Jóhann Berg Guðmundsson",
            "Maxwel Cornet",
            "Wout Weghorst"
           ],
           "legendgroup": "Burnley",
           "marker": {
            "color": "#FFA15A",
            "symbol": "circle"
           },
           "mode": "markers+text",
           "name": "Burnley",
           "orientation": "v",
           "showlegend": true,
           "text": [
            "Aaron Lennon",
            "Ashley Westwood",
            "Chris Wood",
            "Dwight McNeil",
            "Jack Cork",
            "Jay Rodriguez",
            "Josh Brownhill",
            "Jóhann Berg Guðmundsson",
            "Maxwel Cornet",
            "Wout Weghorst"
           ],
           "type": "scatter",
           "x": [
            1.92,
            2.52,
            1.38,
            3.24,
            0.59,
            1.89,
            2.28,
            1.88,
            1.73,
            2.55
           ],
           "xaxis": "x",
           "y": [
            0.23,
            0.31,
            0.13,
            0.17,
            0,
            0.26,
            0.09,
            0.16,
            0.36,
            0.31
           ],
           "yaxis": "y"
          },
          {
           "customdata": [
            [
             "Callum Hudson-Odoi",
             "ENG"
            ],
            [
             "Christian Pulisic",
             "USA"
            ],
            [
             "Hakim Ziyech",
             "MAR"
            ],
            [
             "Jorginho",
             "ITA"
            ],
            [
             "Kai Havertz",
             "GER"
            ],
            [
             "Mason Mount",
             "ENG"
            ],
            [
             "Mateo Kovačić",
             "CRO"
            ],
            [
             "N'Golo Kanté",
             "FRA"
            ],
            [
             "Romelu Lukaku",
             "BEL"
            ],
            [
             "Timo Werner",
             "GER"
            ]
           ],
           "hovertemplate": "Team=Chelsea<br>animation_frame=2122<br><b>SCA90</b>=%{x}<br><b>GCA90</b>=%{y}<br>text=%{text}<br>Player=%{customdata[0]}<br>Nation=%{customdata[1]}<extra></extra>",
           "ids": [
            "Callum Hudson-Odoi",
            "Christian Pulisic",
            "Hakim Ziyech",
            "Jorginho",
            "Kai Havertz",
            "Mason Mount",
            "Mateo Kovačić",
            "N'Golo Kanté",
            "Romelu Lukaku",
            "Timo Werner"
           ],
           "legendgroup": "Chelsea",
           "marker": {
            "color": "#19d3f3",
            "symbol": "circle"
           },
           "mode": "markers+text",
           "name": "Chelsea",
           "orientation": "v",
           "showlegend": true,
           "text": [
            "Callum Hudson-Odoi",
            "Christian Pulisic",
            "Hakim Ziyech",
            "Jorginho",
            "Kai Havertz",
            "Mason Mount",
            "Mateo Kovačić",
            "N'Golo Kanté",
            "Romelu Lukaku",
            "Timo Werner"
           ],
           "type": "scatter",
           "x": [
            5.15,
            2.51,
            4.57,
            2.77,
            3.03,
            4.53,
            3.98,
            3.5,
            2.83,
            2.1
           ],
           "xaxis": "x",
           "y": [
            0.56,
            0.35,
            0.41,
            0.32,
            0.3,
            0.72,
            0.46,
            0.81,
            0.28,
            0.35
           ],
           "yaxis": "y"
          },
          {
           "customdata": [
            [
             "Cheikhou Kouyaté",
             "SEN"
            ],
            [
             "Christian Benteke",
             "BEL"
            ],
            [
             "Conor Gallagher",
             "ENG"
            ],
            [
             "James McArthur",
             "SCO"
            ],
            [
             "Jean-Philippe Mateta",
             "FRA"
            ],
            [
             "Jeffrey Schlupp",
             "GHA"
            ],
            [
             "Jordan Ayew",
             "GHA"
            ],
            [
             "Michael Olise",
             "FRA"
            ],
            [
             "Odsonne Édouard",
             "FRA"
            ],
            [
             "Wilfried Zaha",
             "CIV"
            ],
            [
             "Will Hughes",
             "ENG"
            ]
           ],
           "hovertemplate": "Team=Crystal Palace<br>animation_frame=2122<br><b>SCA90</b>=%{x}<br><b>GCA90</b>=%{y}<br>text=%{text}<br>Player=%{customdata[0]}<br>Nation=%{customdata[1]}<extra></extra>",
           "ids": [
            "Cheikhou Kouyaté",
            "Christian Benteke",
            "Conor Gallagher",
            "James McArthur",
            "Jean-Philippe Mateta",
            "Jeffrey Schlupp",
            "Jordan Ayew",
            "Michael Olise",
            "Odsonne Édouard",
            "Wilfried Zaha",
            "Will Hughes"
           ],
           "legendgroup": "Crystal Palace",
           "marker": {
            "color": "#FF6692",
            "symbol": "circle"
           },
           "mode": "markers+text",
           "name": "Crystal Palace",
           "orientation": "v",
           "showlegend": true,
           "text": [
            "Cheikhou Kouyaté",
            "Christian Benteke",
            "Conor Gallagher",
            "James McArthur",
            "Jean-Philippe Mateta",
            "Jeffrey Schlupp",
            "Jordan Ayew",
            "Michael Olise",
            "Odsonne Édouard",
            "Wilfried Zaha",
            "Will Hughes"
           ],
           "type": "scatter",
           "x": [
            0.68,
            1.81,
            2.88,
            2.19,
            1.57,
            2.24,
            2.72,
            3.47,
            2.94,
            3.62,
            1.97
           ],
           "xaxis": "x",
           "y": [
            0.05,
            0.16,
            0.32,
            0.25,
            0.16,
            0.34,
            0.27,
            0.71,
            0.23,
            0.39,
            0.34
           ],
           "yaxis": "y"
          },
          {
           "customdata": [
            [
             "Abdoulaye Doucouré",
             "MLI"
            ],
            [
             "Allan",
             "BRA"
            ],
            [
             "Andros Townsend",
             "ENG"
            ],
            [
             "Anthony Gordon",
             "ENG"
            ],
            [
             "Demarai Gray",
             "JAM"
            ],
            [
             "Dominic Calvert-Lewin",
             "ENG"
            ],
            [
             "Richarlison",
             "BRA"
            ]
           ],
           "hovertemplate": "Team=Everton<br>animation_frame=2122<br><b>SCA90</b>=%{x}<br><b>GCA90</b>=%{y}<br>text=%{text}<br>Player=%{customdata[0]}<br>Nation=%{customdata[1]}<extra></extra>",
           "ids": [
            "Abdoulaye Doucouré",
            "Allan",
            "Andros Townsend",
            "Anthony Gordon",
            "Demarai Gray",
            "Dominic Calvert-Lewin",
            "Richarlison"
           ],
           "legendgroup": "Everton",
           "marker": {
            "color": "#B6E880",
            "symbol": "circle"
           },
           "mode": "markers+text",
           "name": "Everton",
           "orientation": "v",
           "showlegend": true,
           "text": [
            "Abdoulaye Doucouré",
            "Allan",
            "Andros Townsend",
            "Anthony Gordon",
            "Demarai Gray",
            "Dominic Calvert-Lewin",
            "Richarlison"
           ],
           "type": "scatter",
           "x": [
            2.02,
            1.57,
            3.4,
            3.03,
            3.39,
            2.1,
            2.46
           ],
           "xaxis": "x",
           "y": [
            0.25,
            0.29,
            0.25,
            0.2,
            0.19,
            0.28,
            0.32
           ],
           "yaxis": "y"
          },
          {
           "customdata": [
            [
             "Ademola Lookman",
             "NGA"
            ],
            [
             "Boubakary Soumaré",
             "FRA"
            ],
            [
             "Harvey Barnes",
             "ENG"
            ],
            [
             "James Maddison",
             "ENG"
            ],
            [
             "Jamie Vardy",
             "ENG"
            ],
            [
             "Kelechi Iheanacho",
             "NGA"
            ],
            [
             "Kiernan Dewsbury-Hall",
             "ENG"
            ],
            [
             "Nampalys Mendy",
             "SEN"
            ],
            [
             "Patson Daka",
             "ZAM"
            ],
            [
             "Youri Tielemans",
             "BEL"
            ]
           ],
           "hovertemplate": "Team=Leicester City<br>animation_frame=2122<br><b>SCA90</b>=%{x}<br><b>GCA90</b>=%{y}<br>text=%{text}<br>Player=%{customdata[0]}<br>Nation=%{customdata[1]}<extra></extra>",
           "ids": [
            "Ademola Lookman",
            "Boubakary Soumaré",
            "Harvey Barnes",
            "James Maddison",
            "Jamie Vardy",
            "Kelechi Iheanacho",
            "Kiernan Dewsbury-Hall",
            "Nampalys Mendy",
            "Patson Daka",
            "Youri Tielemans"
           ],
           "legendgroup": "Leicester City",
           "marker": {
            "color": "#FF97FF",
            "symbol": "circle"
           },
           "mode": "markers+text",
           "name": "Leicester City",
           "orientation": "v",
           "showlegend": true,
           "text": [
            "Ademola Lookman",
            "Boubakary Soumaré",
            "Harvey Barnes",
            "James Maddison",
            "Jamie Vardy",
            "Kelechi Iheanacho",
            "Kiernan Dewsbury-Hall",
            "Nampalys Mendy",
            "Patson Daka",
            "Youri Tielemans"
           ],
           "type": "scatter",
           "x": [
            2.85,
            1.47,
            2.7,
            3.88,
            1.94,
            2.71,
            3.29,
            0.44,
            2.33,
            3.45
           ],
           "xaxis": "x",
           "y": [
            0.19,
            0.16,
            0.56,
            0.66,
            0.3,
            0.57,
            0.26,
            0.26,
            0.7,
            0.51
           ],
           "yaxis": "y"
          },
          {
           "customdata": [
            [
             "Diogo Jota",
             "POR"
            ],
            [
             "Fabinho",
             "BRA"
            ],
            [
             "Jordan Henderson",
             "ENG"
            ],
            [
             "Luis Díaz",
             "COL"
            ],
            [
             "Mohamed Salah",
             "EGY"
            ],
            [
             "Naby Keïta",
             "GUI"
            ],
            [
             "Roberto Firmino",
             "BRA"
            ],
            [
             "Sadio Mané",
             "SEN"
            ],
            [
             "Thiago Alcántara",
             "ESP"
            ]
           ],
           "hovertemplate": "Team=Liverpool<br>animation_frame=2122<br><b>SCA90</b>=%{x}<br><b>GCA90</b>=%{y}<br>text=%{text}<br>Player=%{customdata[0]}<br>Nation=%{customdata[1]}<extra></extra>",
           "ids": [
            "Diogo Jota",
            "Fabinho",
            "Jordan Henderson",
            "Luis Díaz",
            "Mohamed Salah",
            "Naby Keïta",
            "Roberto Firmino",
            "Sadio Mané",
            "Thiago Alcántara"
           ],
           "legendgroup": "Liverpool",
           "marker": {
            "color": "#FECB52",
            "symbol": "circle"
           },
           "mode": "markers+text",
           "name": "Liverpool",
           "orientation": "v",
           "showlegend": true,
           "text": [
            "Diogo Jota",
            "Fabinho",
            "Jordan Henderson",
            "Luis Díaz",
            "Mohamed Salah",
            "Naby Keïta",
            "Roberto Firmino",
            "Sadio Mané",
            "Thiago Alcántara"
           ],
           "type": "scatter",
           "x": [
            3.73,
            2.06,
            3.33,
            5.64,
            4.59,
            3.53,
            3.64,
            3.64,
            3.93
           ],
           "xaxis": "x",
           "y": [
            0.49,
            0.19,
            0.49,
            0.38,
            0.81,
            0.46,
            0.46,
            0.41,
            0.35
           ],
           "yaxis": "y"
          },
          {
           "customdata": [
            [
             "Bernardo Silva",
             "POR"
            ],
            [
             "Gabriel Jesus",
             "BRA"
            ],
            [
             "Jack Grealish",
             "ENG"
            ],
            [
             "Kevin De Bruyne",
             "BEL"
            ],
            [
             "Phil Foden",
             "ENG"
            ],
            [
             "Raheem Sterling",
             "ENG"
            ],
            [
             "Riyad Mahrez",
             "ALG"
            ],
            [
             "Rodri",
             "ESP"
            ],
            [
             "İlkay Gündoğan",
             "GER"
            ]
           ],
           "hovertemplate": "Team=Manchester City<br>animation_frame=2122<br><b>SCA90</b>=%{x}<br><b>GCA90</b>=%{y}<br>text=%{text}<br>Player=%{customdata[0]}<br>Nation=%{customdata[1]}<extra></extra>",
           "ids": [
            "Bernardo Silva",
            "Gabriel Jesus",
            "Jack Grealish",
            "Kevin De Bruyne",
            "Phil Foden",
            "Raheem Sterling",
            "Riyad Mahrez",
            "Rodri",
            "İlkay Gündoğan"
           ],
           "legendgroup": "Manchester City",
           "marker": {
            "color": "#636efa",
            "symbol": "circle"
           },
           "mode": "markers+text",
           "name": "Manchester City",
           "orientation": "v",
           "showlegend": true,
           "text": [
            "Bernardo Silva",
            "Gabriel Jesus",
            "Jack Grealish",
            "Kevin De Bruyne",
            "Phil Foden",
            "Raheem Sterling",
            "Riyad Mahrez",
            "Rodri",
            "İlkay Gündoğan"
           ],
           "type": "scatter",
           "x": [
            4.32,
            4.08,
            5.6,
            6.22,
            3.76,
            3.93,
            4.38,
            2.9,
            4.07
           ],
           "xaxis": "x",
           "y": [
            0.54,
            0.86,
            0.28,
            0.57,
            0.55,
            0.42,
            0.6,
            0.19,
            0.44
           ],
           "yaxis": "y"
          },
          {
           "customdata": [
            [
             "Anthony Elanga",
             "SWE"
            ],
            [
             "Bruno Fernandes",
             "POR"
            ],
            [
             "Cristiano Ronaldo",
             "POR"
            ],
            [
             "Fred",
             "BRA"
            ],
            [
             "Jadon Sancho",
             "ENG"
            ],
            [
             "Marcus Rashford",
             "ENG"
            ],
            [
             "Mason Greenwood",
             "ENG"
            ],
            [
             "Nemanja Matić",
             "SRB"
            ],
            [
             "Paul Pogba",
             "FRA"
            ],
            [
             "Scott McTominay",
             "SCO"
            ]
           ],
           "hovertemplate": "Team=Manchester Utd<br>animation_frame=2122<br><b>SCA90</b>=%{x}<br><b>GCA90</b>=%{y}<br>text=%{text}<br>Player=%{customdata[0]}<br>Nation=%{customdata[1]}<extra></extra>",
           "ids": [
            "Anthony Elanga",
            "Bruno Fernandes",
            "Cristiano Ronaldo",
            "Fred",
            "Jadon Sancho",
            "Marcus Rashford",
            "Mason Greenwood",
            "Nemanja Matić",
            "Paul Pogba",
            "Scott McTominay"
           ],
           "legendgroup": "Manchester Utd",
           "marker": {
            "color": "#EF553B",
            "symbol": "circle"
           },
           "mode": "markers+text",
           "name": "Manchester Utd",
           "orientation": "v",
           "showlegend": true,
           "text": [
            "Anthony Elanga",
            "Bruno Fernandes",
            "Cristiano Ronaldo",
            "Fred",
            "Jadon Sancho",
            "Marcus Rashford",
            "Mason Greenwood",
            "Nemanja Matić",
            "Paul Pogba",
            "Scott McTominay"
           ],
           "type": "scatter",
           "x": [
            1.56,
            4.48,
            3,
            2.49,
            4.17,
            1.97,
            3.68,
            1.96,
            3.8,
            1.92
           ],
           "xaxis": "x",
           "y": [
            0.37,
            0.32,
            0.33,
            0.4,
            0.43,
            0.22,
            0.5,
            0.39,
            0.73,
            0.23
           ],
           "yaxis": "y"
          },
          {
           "customdata": [
            [
             "Allan Saint-Maximin",
             "FRA"
            ],
            [
             "Bruno Guimarães",
             "BRA"
            ],
            [
             "Callum Wilson",
             "ENG"
            ],
            [
             "Chris Wood",
             "NZL"
            ],
            [
             "Joe Willock",
             "ENG"
            ],
            [
             "Joelinton",
             "BRA"
            ],
            [
             "Jonjo Shelvey",
             "ENG"
            ],
            [
             "Miguel Almirón",
             "PAR"
            ],
            [
             "Ryan Fraser",
             "SCO"
            ],
            [
             "Sean Longstaff",
             "ENG"
            ]
           ],
           "hovertemplate": "Team=Newcastle Utd<br>animation_frame=2122<br><b>SCA90</b>=%{x}<br><b>GCA90</b>=%{y}<br>text=%{text}<br>Player=%{customdata[0]}<br>Nation=%{customdata[1]}<extra></extra>",
           "ids": [
            "Allan Saint-Maximin",
            "Bruno Guimarães",
            "Callum Wilson",
            "Chris Wood",
            "Joe Willock",
            "Joelinton",
            "Jonjo Shelvey",
            "Miguel Almirón",
            "Ryan Fraser",
            "Sean Longstaff"
           ],
           "legendgroup": "Newcastle Utd",
           "marker": {
            "color": "#00cc96",
            "symbol": "circle"
           },
           "mode": "markers+text",
           "name": "Newcastle Utd",
           "orientation": "v",
           "showlegend": true,
           "text": [
            "Allan Saint-Maximin",
            "Bruno Guimarães",
            "Callum Wilson",
            "Chris Wood",
            "Joe Willock",
            "Joelinton",
            "Jonjo Shelvey",
            "Miguel Almirón",
            "Ryan Fraser",
            "Sean Longstaff"
           ],
           "type": "scatter",
           "x": [
            4.17,
            2.7,
            1.62,
            1.7,
            2.25,
            2.36,
            1.95,
            2.57,
            3.44,
            1.6
           ],
           "xaxis": "x",
           "y": [
            0.35,
            0.35,
            0,
            0.14,
            0.18,
            0.18,
            0.05,
            0.21,
            0.43,
            0.18
           ],
           "yaxis": "y"
          },
          {
           "customdata": [
            [
             "Billy Gilmour",
             "SCO"
            ],
            [
             "Josh Sargent",
             "USA"
            ],
            [
             "Kenny McLean",
             "SCO"
            ],
            [
             "Kieran Dowell",
             "ENG"
            ],
            [
             "Mathias Normann",
             "NOR"
            ],
            [
             "Milot Rashica",
             "KVX"
            ],
            [
             "Pierre Lees-Melou",
             "FRA"
            ],
            [
             "Teemu Pukki",
             "FIN"
            ]
           ],
           "hovertemplate": "Team=Norwich City<br>animation_frame=2122<br><b>SCA90</b>=%{x}<br><b>GCA90</b>=%{y}<br>text=%{text}<br>Player=%{customdata[0]}<br>Nation=%{customdata[1]}<extra></extra>",
           "ids": [
            "Billy Gilmour",
            "Josh Sargent",
            "Kenny McLean",
            "Kieran Dowell",
            "Mathias Normann",
            "Milot Rashica",
            "Pierre Lees-Melou",
            "Teemu Pukki"
           ],
           "legendgroup": "Norwich City",
           "marker": {
            "color": "#ab63fa",
            "symbol": "circle"
           },
           "mode": "markers+text",
           "name": "Norwich City",
           "orientation": "v",
           "showlegend": true,
           "text": [
            "Billy Gilmour",
            "Josh Sargent",
            "Kenny McLean",
            "Kieran Dowell",
            "Mathias Normann",
            "Milot Rashica",
            "Pierre Lees-Melou",
            "Teemu Pukki"
           ],
           "type": "scatter",
           "x": [
            2.67,
            1.43,
            1.36,
            2.57,
            2.02,
            2.74,
            2.18,
            1.74
           ],
           "xaxis": "x",
           "y": [
            0.1,
            0.17,
            0.07,
            0.1,
            0.16,
            0.2,
            0.08,
            0.11
           ],
           "yaxis": "y"
          },
          {
           "customdata": [
            [
             "Adam Armstrong",
             "ENG"
            ],
            [
             "Armando Broja",
             "ALB"
            ],
            [
             "Che Adams",
             "SCO"
            ],
            [
             "Ibrahima Diallo",
             "FRA"
            ],
            [
             "James Ward-Prowse",
             "ENG"
            ],
            [
             "Mohamed Elyounoussi",
             "NOR"
            ],
            [
             "Nathan Redmond",
             "ENG"
            ],
            [
             "Oriol Romeu",
             "ESP"
            ],
            [
             "Stuart Armstrong",
             "SCO"
            ]
           ],
           "hovertemplate": "Team=Southampton<br>animation_frame=2122<br><b>SCA90</b>=%{x}<br><b>GCA90</b>=%{y}<br>text=%{text}<br>Player=%{customdata[0]}<br>Nation=%{customdata[1]}<extra></extra>",
           "ids": [
            "Adam Armstrong",
            "Armando Broja",
            "Che Adams",
            "Ibrahima Diallo",
            "James Ward-Prowse",
            "Mohamed Elyounoussi",
            "Nathan Redmond",
            "Oriol Romeu",
            "Stuart Armstrong"
           ],
           "legendgroup": "Southampton",
           "marker": {
            "color": "#19d3f3",
            "symbol": "circle"
           },
           "mode": "markers+text",
           "name": "Southampton",
           "orientation": "v",
           "showlegend": true,
           "text": [
            "Adam Armstrong",
            "Armando Broja",
            "Che Adams",
            "Ibrahima Diallo",
            "James Ward-Prowse",
            "Mohamed Elyounoussi",
            "Nathan Redmond",
            "Oriol Romeu",
            "Stuart Armstrong"
           ],
           "type": "scatter",
           "x": [
            2.29,
            1.73,
            2.25,
            2.64,
            3.7,
            2.51,
            3.58,
            2.31,
            3.3
           ],
           "xaxis": "x",
           "y": [
            0.19,
            0.18,
            0.22,
            0.26,
            0.2,
            0.26,
            0.39,
            0.12,
            0.18
           ],
           "yaxis": "y"
          },
          {
           "customdata": [
            [
             "Dejan Kulusevski",
             "SWE"
            ],
            [
             "Harry Kane",
             "ENG"
            ],
            [
             "Harry Winks",
             "ENG"
            ],
            [
             "Lucas Moura",
             "BRA"
            ],
            [
             "Oliver Skipp",
             "ENG"
            ],
            [
             "Pierre Højbjerg",
             "DEN"
            ],
            [
             "Rodrigo Bentancur",
             "URU"
            ],
            [
             "Son Heung-min",
             "KOR"
            ]
           ],
           "hovertemplate": "Team=Tottenham<br>animation_frame=2122<br><b>SCA90</b>=%{x}<br><b>GCA90</b>=%{y}<br>text=%{text}<br>Player=%{customdata[0]}<br>Nation=%{customdata[1]}<extra></extra>",
           "ids": [
            "Dejan Kulusevski",
            "Harry Kane",
            "Harry Winks",
            "Lucas Moura",
            "Oliver Skipp",
            "Pierre Højbjerg",
            "Rodrigo Bentancur",
            "Son Heung-min"
           ],
           "legendgroup": "Tottenham",
           "marker": {
            "color": "#FF6692",
            "symbol": "circle"
           },
           "mode": "markers+text",
           "name": "Tottenham",
           "orientation": "v",
           "showlegend": true,
           "text": [
            "Dejan Kulusevski",
            "Harry Kane",
            "Harry Winks",
            "Lucas Moura",
            "Oliver Skipp",
            "Pierre Højbjerg",
            "Rodrigo Bentancur",
            "Son Heung-min"
           ],
           "type": "scatter",
           "x": [
            3.64,
            3.56,
            2.86,
            3.4,
            1.6,
            2.42,
            2.51,
            4.04
           ],
           "xaxis": "x",
           "y": [
            0.93,
            0.58,
            0.39,
            0.61,
            0.2,
            0.2,
            0.46,
            0.39
           ],
           "yaxis": "y"
          },
          {
           "customdata": [
            [
             "Cucho",
             "COL"
            ],
            [
             "Emmanuel Dennis",
             "NGA"
            ],
            [
             "Imran Louza",
             "MAR"
            ],
            [
             "Ismaila Sarr",
             "SEN"
            ],
            [
             "Joshua King",
             "NOR"
            ],
            [
             "João Pedro",
             "BRA"
            ],
            [
             "Juraj Kucka",
             "SVK"
            ],
            [
             "Moussa Sissoko",
             "FRA"
            ],
            [
             "Tom Cleverley",
             "ENG"
            ]
           ],
           "hovertemplate": "Team=Watford<br>animation_frame=2122<br><b>SCA90</b>=%{x}<br><b>GCA90</b>=%{y}<br>text=%{text}<br>Player=%{customdata[0]}<br>Nation=%{customdata[1]}<extra></extra>",
           "ids": [
            "Cucho",
            "Emmanuel Dennis",
            "Imran Louza",
            "Ismaila Sarr",
            "Joshua King",
            "João Pedro",
            "Juraj Kucka",
            "Moussa Sissoko",
            "Tom Cleverley"
           ],
           "legendgroup": "Watford",
           "marker": {
            "color": "#B6E880",
            "symbol": "circle"
           },
           "mode": "markers+text",
           "name": "Watford",
           "orientation": "v",
           "showlegend": true,
           "text": [
            "Cucho",
            "Emmanuel Dennis",
            "Imran Louza",
            "Ismaila Sarr",
            "Joshua King",
            "João Pedro",
            "Juraj Kucka",
            "Moussa Sissoko",
            "Tom Cleverley"
           ],
           "type": "scatter",
           "x": [
            3.45,
            2.96,
            2.16,
            2.51,
            2.52,
            3.28,
            1.97,
            2.1,
            2
           ],
           "xaxis": "x",
           "y": [
            0.39,
            0.42,
            0.13,
            0.19,
            0.36,
            0.22,
            0.09,
            0.08,
            0.17
           ],
           "yaxis": "y"
          },
          {
           "customdata": [
            [
             "Declan Rice",
             "ENG"
            ],
            [
             "Jarrod Bowen",
             "ENG"
            ],
            [
             "Manuel Lanzini",
             "ARG"
            ],
            [
             "Michail Antonio",
             "JAM"
            ],
            [
             "Pablo Fornals",
             "ESP"
            ],
            [
             "Saïd Benrahma",
             "ALG"
            ],
            [
             "Tomáš Souček",
             "CZE"
            ]
           ],
           "hovertemplate": "Team=West Ham<br>animation_frame=2122<br><b>SCA90</b>=%{x}<br><b>GCA90</b>=%{y}<br>text=%{text}<br>Player=%{customdata[0]}<br>Nation=%{customdata[1]}<extra></extra>",
           "ids": [
            "Declan Rice",
            "Jarrod Bowen",
            "Manuel Lanzini",
            "Michail Antonio",
            "Pablo Fornals",
            "Saïd Benrahma",
            "Tomáš Souček"
           ],
           "legendgroup": "West Ham",
           "marker": {
            "color": "#FF97FF",
            "symbol": "circle"
           },
           "mode": "markers+text",
           "name": "West Ham",
           "orientation": "v",
           "showlegend": true,
           "text": [
            "Declan Rice",
            "Jarrod Bowen",
            "Manuel Lanzini",
            "Michail Antonio",
            "Pablo Fornals",
            "Saïd Benrahma",
            "Tomáš Souček"
           ],
           "type": "scatter",
           "x": [
            2.21,
            2.96,
            3.02,
            2.94,
            3.51,
            3.11,
            1.23
           ],
           "xaxis": "x",
           "y": [
            0.25,
            0.57,
            0.45,
            0.51,
            0.35,
            0.33,
            0.12
           ],
           "yaxis": "y"
          },
          {
           "customdata": [
            [
             "Adama Traoré",
             "ESP"
            ],
            [
             "Daniel Podence",
             "POR"
            ],
            [
             "Francisco Trincão",
             "POR"
            ],
            [
             "Hwang Hee-chan",
             "KOR"
            ],
            [
             "João Moutinho",
             "POR"
            ],
            [
             "Leander Dendoncker",
             "BEL"
            ],
            [
             "Raúl Jiménez",
             "MEX"
            ],
            [
             "Rúben Neves",
             "POR"
            ]
           ],
           "hovertemplate": "Team=Wolves<br>animation_frame=2122<br><b>SCA90</b>=%{x}<br><b>GCA90</b>=%{y}<br>text=%{text}<br>Player=%{customdata[0]}<br>Nation=%{customdata[1]}<extra></extra>",
           "ids": [
            "Adama Traoré",
            "Daniel Podence",
            "Francisco Trincão",
            "Hwang Hee-chan",
            "João Moutinho",
            "Leander Dendoncker",
            "Raúl Jiménez",
            "Rúben Neves"
           ],
           "legendgroup": "Wolves",
           "marker": {
            "color": "#FECB52",
            "symbol": "circle"
           },
           "mode": "markers+text",
           "name": "Wolves",
           "orientation": "v",
           "showlegend": true,
           "text": [
            "Adama Traoré",
            "Daniel Podence",
            "Francisco Trincão",
            "Hwang Hee-chan",
            "João Moutinho",
            "Leander Dendoncker",
            "Raúl Jiménez",
            "Rúben Neves"
           ],
           "type": "scatter",
           "x": [
            5.06,
            4,
            2.97,
            1.83,
            2.48,
            1.25,
            2.43,
            2.27
           ],
           "xaxis": "x",
           "y": [
            0.17,
            0.3,
            0.13,
            0.1,
            0.12,
            0.32,
            0.48,
            0.14
           ],
           "yaxis": "y"
          },
          {
           "customdata": [
            [
             "Adam Forshaw",
             "ENG"
            ],
            [
             "Daniel James",
             "WAL"
            ],
            [
             "Jack Harrison",
             "ENG"
            ],
            [
             "Kalvin Phillips",
             "ENG"
            ],
            [
             "Mateusz Klich",
             "POL"
            ],
            [
             "Raphinha",
             "BRA"
            ],
            [
             "Rodrigo",
             "ESP"
            ],
            [
             "Tyler Roberts",
             "WAL"
            ]
           ],
           "hovertemplate": "Team=Leeds United<br>animation_frame=2122<br><b>SCA90</b>=%{x}<br><b>GCA90</b>=%{y}<br>text=%{text}<br>Player=%{customdata[0]}<br>Nation=%{customdata[1]}<extra></extra>",
           "ids": [
            "Adam Forshaw",
            "Daniel James",
            "Jack Harrison",
            "Kalvin Phillips",
            "Mateusz Klich",
            "Raphinha",
            "Rodrigo",
            "Tyler Roberts"
           ],
           "legendgroup": "Leeds United",
           "marker": {
            "color": "#EF553B",
            "symbol": "circle"
           },
           "mode": "markers+text",
           "name": "Leeds United",
           "orientation": "v",
           "showlegend": true,
           "text": [
            "Adam Forshaw",
            "Daniel James",
            "Jack Harrison",
            "Kalvin Phillips",
            "Mateusz Klich",
            "Raphinha",
            "Rodrigo",
            "Tyler Roberts"
           ],
           "type": "scatter",
           "x": [
            2.06,
            2.05,
            2.93,
            1.69,
            3.34,
            4.2,
            3.18,
            2.74
           ],
           "xaxis": "x",
           "y": [
            0.12,
            0.19,
            0.14,
            0.23,
            0.35,
            0.31,
            0.16,
            0.09
           ],
           "yaxis": "y"
          },
          {
           "customdata": [
            [
             "Bryan Mbeumo",
             "CMR"
            ],
            [
             "Christian Eriksen",
             "DEN"
            ],
            [
             "Christian Nørgaard",
             "DEN"
            ],
            [
             "Frank Onyeka",
             "NGA"
            ],
            [
             "Ivan Toney",
             "ENG"
            ],
            [
             "Mathias Jensen",
             "DEN"
            ],
            [
             "Shandon Baptiste",
             "GRN"
            ],
            [
             "Vitaly Janelt",
             "GER"
            ],
            [
             "Yoane Wissa",
             "COD"
            ]
           ],
           "hovertemplate": "Team=Brentford<br>animation_frame=2122<br><b>SCA90</b>=%{x}<br><b>GCA90</b>=%{y}<br>text=%{text}<br>Player=%{customdata[0]}<br>Nation=%{customdata[1]}<extra></extra>",
           "ids": [
            "Bryan Mbeumo",
            "Christian Eriksen",
            "Christian Nørgaard",
            "Frank Onyeka",
            "Ivan Toney",
            "Mathias Jensen",
            "Shandon Baptiste",
            "Vitaly Janelt",
            "Yoane Wissa"
           ],
           "legendgroup": "Brentford",
           "marker": {
            "color": "#ab63fa",
            "symbol": "circle"
           },
           "mode": "markers+text",
           "name": "Brentford",
           "orientation": "v",
           "showlegend": true,
           "text": [
            "Bryan Mbeumo",
            "Christian Eriksen",
            "Christian Nørgaard",
            "Frank Onyeka",
            "Ivan Toney",
            "Mathias Jensen",
            "Shandon Baptiste",
            "Vitaly Janelt",
            "Yoane Wissa"
           ],
           "type": "scatter",
           "x": [
            2.66,
            5.46,
            1.71,
            1.46,
            2.91,
            3.71,
            2.07,
            2.23,
            1.89
           ],
           "xaxis": "x",
           "y": [
            0.37,
            0.67,
            0.18,
            0.09,
            0.31,
            0.17,
            0.1,
            0.12,
            0.28
           ],
           "yaxis": "y"
          }
         ],
         "name": "2122"
        },
        {
         "data": [
          {
           "customdata": [
            [
             "Bukayo Saka",
             "ENG"
            ],
            [
             "Eddie Nketiah",
             "ENG"
            ],
            [
             "Gabriel Jesus",
             "BRA"
            ],
            [
             "Gabriel Martinelli",
             "BRA"
            ],
            [
             "Granit Xhaka",
             "SUI"
            ],
            [
             "Leandro Trossard",
             "BEL"
            ],
            [
             "Martin Ødegaard",
             "NOR"
            ],
            [
             "Thomas Partey",
             "GHA"
            ]
           ],
           "hovertemplate": "Team=Arsenal<br>animation_frame=2223<br><b>SCA90</b>=%{x}<br><b>GCA90</b>=%{y}<br>text=%{text}<br>Player=%{customdata[0]}<br>Nation=%{customdata[1]}<extra></extra>",
           "ids": [
            "Bukayo Saka",
            "Eddie Nketiah",
            "Gabriel Jesus",
            "Gabriel Martinelli",
            "Granit Xhaka",
            "Leandro Trossard",
            "Martin Ødegaard",
            "Thomas Partey"
           ],
           "legendgroup": "Arsenal",
           "marker": {
            "color": "#636efa",
            "symbol": "circle"
           },
           "mode": "markers+text",
           "name": "Arsenal",
           "orientation": "v",
           "showlegend": true,
           "text": [
            "Bukayo Saka",
            "Eddie Nketiah",
            "Gabriel Jesus",
            "Gabriel Martinelli",
            "Granit Xhaka",
            "Leandro Trossard",
            "Martin Ødegaard",
            "Thomas Partey"
           ],
           "type": "scatter",
           "x": [
            4.56,
            2.4,
            3.62,
            4.1,
            3.31,
            3.29,
            4.69,
            2.57
           ],
           "xaxis": "x",
           "y": [
            0.79,
            0.25,
            0.52,
            0.55,
            0.51,
            0.87,
            0.49,
            0.22
           ],
           "yaxis": "y"
          },
          {
           "customdata": [
            [
             "Boubacar Kamara",
             "FRA"
            ],
            [
             "Douglas Luiz",
             "BRA"
            ],
            [
             "Emi Buendía",
             "ARG"
            ],
            [
             "Jacob Ramsey",
             "ENG"
            ],
            [
             "John McGinn",
             "SCO"
            ],
            [
             "Leon Bailey",
             "JAM"
            ],
            [
             "Ollie Watkins",
             "ENG"
            ]
           ],
           "hovertemplate": "Team=Aston Villa<br>animation_frame=2223<br><b>SCA90</b>=%{x}<br><b>GCA90</b>=%{y}<br>text=%{text}<br>Player=%{customdata[0]}<br>Nation=%{customdata[1]}<extra></extra>",
           "ids": [
            "Boubacar Kamara",
            "Douglas Luiz",
            "Emi Buendía",
            "Jacob Ramsey",
            "John McGinn",
            "Leon Bailey",
            "Ollie Watkins"
           ],
           "legendgroup": "Aston Villa",
           "marker": {
            "color": "#EF553B",
            "symbol": "circle"
           },
           "mode": "markers+text",
           "name": "Aston Villa",
           "orientation": "v",
           "showlegend": true,
           "text": [
            "Boubacar Kamara",
            "Douglas Luiz",
            "Emi Buendía",
            "Jacob Ramsey",
            "John McGinn",
            "Leon Bailey",
            "Ollie Watkins"
           ],
           "type": "scatter",
           "x": [
            1.17,
            2.95,
            3.36,
            2.76,
            2.67,
            2.84,
            2.27
           ],
           "xaxis": "x",
           "y": [
            0.2,
            0.37,
            0.37,
            0.38,
            0.33,
            0.37,
            0.4
           ],
           "yaxis": "y"
          },
          {
           "customdata": [
            [
             "Dango Ouattara",
             "BFA"
            ],
            [
             "Dominic Solanke",
             "ENG"
            ],
            [
             "Jaidon Anthony",
             "ENG"
            ],
            [
             "Jefferson Lerma",
             "COL"
            ],
            [
             "Joe Rothwell",
             "ENG"
            ],
            [
             "Kieffer Moore",
             "WAL"
            ],
            [
             "Lewis Cook",
             "ENG"
            ],
            [
             "Marcus Tavernier",
             "ENG"
            ],
            [
             "Philip Billing",
             "DEN"
            ],
            [
             "Ryan Christie",
             "SCO"
            ]
           ],
           "hovertemplate": "Team=Bournemouth<br>animation_frame=2223<br><b>SCA90</b>=%{x}<br><b>GCA90</b>=%{y}<br>text=%{text}<br>Player=%{customdata[0]}<br>Nation=%{customdata[1]}<extra></extra>",
           "ids": [
            "Dango Ouattara",
            "Dominic Solanke",
            "Jaidon Anthony",
            "Jefferson Lerma",
            "Joe Rothwell",
            "Kieffer Moore",
            "Lewis Cook",
            "Marcus Tavernier",
            "Philip Billing",
            "Ryan Christie"
           ],
           "legendgroup": "Bournemouth",
           "marker": {
            "color": "#00cc96",
            "symbol": "circle"
           },
           "mode": "markers+text",
           "name": "Bournemouth",
           "orientation": "v",
           "showlegend": true,
           "text": [
            "Dango Ouattara",
            "Dominic Solanke",
            "Jaidon Anthony",
            "Jefferson Lerma",
            "Joe Rothwell",
            "Kieffer Moore",
            "Lewis Cook",
            "Marcus Tavernier",
            "Philip Billing",
            "Ryan Christie"
           ],
           "type": "scatter",
           "x": [
            3.19,
            1.92,
            2.72,
            1.3,
            2.12,
            1.26,
            2.04,
            2.48,
            1.76,
            3.24
           ],
           "xaxis": "x",
           "y": [
            0.36,
            0.41,
            0.29,
            0.03,
            0.18,
            0.14,
            0.21,
            0.41,
            0.2,
            0.2
           ],
           "yaxis": "y"
          },
          {
           "customdata": [
            [
             "Alexis Mac Allister",
             "ARG"
            ],
            [
             "Danny Welbeck",
             "ENG"
            ],
            [
             "Evan Ferguson",
             "IRL"
            ],
            [
             "Kaoru Mitoma",
             "JPN"
            ],
            [
             "Leandro Trossard",
             "BEL"
            ],
            [
             "Moisés Caicedo",
             "ECU"
            ]
           ],
           "hovertemplate": "Team=Brighton<br>animation_frame=2223<br><b>SCA90</b>=%{x}<br><b>GCA90</b>=%{y}<br>text=%{text}<br>Player=%{customdata[0]}<br>Nation=%{customdata[1]}<extra></extra>",
           "ids": [
            "Alexis Mac Allister",
            "Danny Welbeck",
            "Evan Ferguson",
            "Kaoru Mitoma",
            "Leandro Trossard",
            "Moisés Caicedo"
           ],
           "legendgroup": "Brighton",
           "marker": {
            "color": "#ab63fa",
            "symbol": "circle"
           },
           "mode": "markers+text",
           "name": "Brighton",
           "orientation": "v",
           "showlegend": true,
           "text": [
            "Alexis Mac Allister",
            "Danny Welbeck",
            "Evan Ferguson",
            "Kaoru Mitoma",
            "Leandro Trossard",
            "Moisés Caicedo"
           ],
           "type": "scatter",
           "x": [
            3.31,
            3.16,
            2.08,
            4.23,
            3.49,
            2.52
           ],
           "xaxis": "x",
           "y": [
            0.25,
            0.44,
            0.19,
            0.62,
            0.62,
            0.14
           ],
           "yaxis": "y"
          },
          {
           "customdata": [
            [
             "Conor Gallagher",
             "ENG"
            ],
            [
             "Enzo Fernández",
             "ARG"
            ],
            [
             "Jorginho",
             "ITA"
            ],
            [
             "João Félix",
             "POR"
            ],
            [
             "Kai Havertz",
             "GER"
            ],
            [
             "Mason Mount",
             "ENG"
            ],
            [
             "Mateo Kovačić",
             "CRO"
            ],
            [
             "Raheem Sterling",
             "ENG"
            ]
           ],
           "hovertemplate": "Team=Chelsea<br>animation_frame=2223<br><b>SCA90</b>=%{x}<br><b>GCA90</b>=%{y}<br>text=%{text}<br>Player=%{customdata[0]}<br>Nation=%{customdata[1]}<extra></extra>",
           "ids": [
            "Conor Gallagher",
            "Enzo Fernández",
            "Jorginho",
            "João Félix",
            "Kai Havertz",
            "Mason Mount",
            "Mateo Kovačić",
            "Raheem Sterling"
           ],
           "legendgroup": "Chelsea",
           "marker": {
            "color": "#19d3f3",
            "symbol": "circle"
           },
           "mode": "markers+text",
           "name": "Chelsea",
           "orientation": "v",
           "showlegend": true,
           "text": [
            "Conor Gallagher",
            "Enzo Fernández",
            "Jorginho",
            "João Félix",
            "Kai Havertz",
            "Mason Mount",
            "Mateo Kovačić",
            "Raheem Sterling"
           ],
           "type": "scatter",
           "x": [
            2.61,
            3.43,
            2.04,
            2.96,
            2.21,
            3.11,
            3.27,
            3.23
           ],
           "xaxis": "x",
           "y": [
            0.17,
            0.35,
            0.14,
            0.1,
            0.14,
            0.38,
            0.16,
            0.19
           ],
           "yaxis": "y"
          },
          {
           "customdata": [
            [
             "Cheick Doucouré",
             "MLI"
            ],
            [
             "Eberechi Eze",
             "ENG"
            ],
            [
             "Jeffrey Schlupp",
             "GHA"
            ],
            [
             "Jordan Ayew",
             "GHA"
            ],
            [
             "Michael Olise",
             "FRA"
            ],
            [
             "Odsonne Édouard",
             "FRA"
            ],
            [
             "Wilfried Zaha",
             "CIV"
            ]
           ],
           "hovertemplate": "Team=Crystal Palace<br>animation_frame=2223<br><b>SCA90</b>=%{x}<br><b>GCA90</b>=%{y}<br>text=%{text}<br>Player=%{customdata[0]}<br>Nation=%{customdata[1]}<extra></extra>",
           "ids": [
            "Cheick Doucouré",
            "Eberechi Eze",
            "Jeffrey Schlupp",
            "Jordan Ayew",
            "Michael Olise",
            "Odsonne Édouard",
            "Wilfried Zaha"
           ],
           "legendgroup": "Crystal Palace",
           "marker": {
            "color": "#FF6692",
            "symbol": "circle"
           },
           "mode": "markers+text",
           "name": "Crystal Palace",
           "orientation": "v",
           "showlegend": true,
           "text": [
            "Cheick Doucouré",
            "Eberechi Eze",
            "Jeffrey Schlupp",
            "Jordan Ayew",
            "Michael Olise",
            "Odsonne Édouard",
            "Wilfried Zaha"
           ],
           "type": "scatter",
           "x": [
            1.98,
            4.03,
            1.56,
            2.59,
            4.68,
            2.2,
            3.58
           ],
           "xaxis": "x",
           "y": [
            0.2,
            0.55,
            0.18,
            0.27,
            0.43,
            0.2,
            0.28
           ],
           "yaxis": "y"
          },
          {
           "customdata": [
            [
             "Abdoulaye Doucouré",
             "MLI"
            ],
            [
             "Alex Iwobi",
             "NGA"
            ],
            [
             "Amadou Onana",
             "BEL"
            ],
            [
             "Anthony Gordon",
             "ENG"
            ],
            [
             "Demarai Gray",
             "JAM"
            ],
            [
             "Dominic Calvert-Lewin",
             "ENG"
            ],
            [
             "Dwight McNeil",
             "ENG"
            ],
            [
             "Idrissa Gana Gueye",
             "SEN"
            ],
            [
             "Neal Maupay",
             "FRA"
            ]
           ],
           "hovertemplate": "Team=Everton<br>animation_frame=2223<br><b>SCA90</b>=%{x}<br><b>GCA90</b>=%{y}<br>text=%{text}<br>Player=%{customdata[0]}<br>Nation=%{customdata[1]}<extra></extra>",
           "ids": [
            "Abdoulaye Doucouré",
            "Alex Iwobi",
            "Amadou Onana",
            "Anthony Gordon",
            "Demarai Gray",
            "Dominic Calvert-Lewin",
            "Dwight McNeil",
            "Idrissa Gana Gueye",
            "Neal Maupay"
           ],
           "legendgroup": "Everton",
           "marker": {
            "color": "#B6E880",
            "symbol": "circle"
           },
           "mode": "markers+text",
           "name": "Everton",
           "orientation": "v",
           "showlegend": true,
           "text": [
            "Abdoulaye Doucouré",
            "Alex Iwobi",
            "Amadou Onana",
            "Anthony Gordon",
            "Demarai Gray",
            "Dominic Calvert-Lewin",
            "Dwight McNeil",
            "Idrissa Gana Gueye",
            "Neal Maupay"
           ],
           "type": "scatter",
           "x": [
            2.65,
            3.2,
            1.63,
            1.89,
            3.37,
            1.85,
            3.89,
            1.78,
            1.45
           ],
           "xaxis": "x",
           "y": [
            0.18,
            0.24,
            0.07,
            0,
            0.18,
            0.31,
            0.43,
            0.1,
            0.08
           ],
           "yaxis": "y"
          },
          {
           "customdata": [
            [
             "Boubakary Soumaré",
             "FRA"
            ],
            [
             "Harvey Barnes",
             "ENG"
            ],
            [
             "James Maddison",
             "ENG"
            ],
            [
             "Jamie Vardy",
             "ENG"
            ],
            [
             "Kelechi Iheanacho",
             "NGA"
            ],
            [
             "Kiernan Dewsbury-Hall",
             "ENG"
            ],
            [
             "Patson Daka",
             "ZAM"
            ],
            [
             "Wilfred Ndidi",
             "NGA"
            ],
            [
             "Youri Tielemans",
             "BEL"
            ]
           ],
           "hovertemplate": "Team=Leicester City<br>animation_frame=2223<br><b>SCA90</b>=%{x}<br><b>GCA90</b>=%{y}<br>text=%{text}<br>Player=%{customdata[0]}<br>Nation=%{customdata[1]}<extra></extra>",
           "ids": [
            "Boubakary Soumaré",
            "Harvey Barnes",
            "James Maddison",
            "Jamie Vardy",
            "Kelechi Iheanacho",
            "Kiernan Dewsbury-Hall",
            "Patson Daka",
            "Wilfred Ndidi",
            "Youri Tielemans"
           ],
           "legendgroup": "Leicester City",
           "marker": {
            "color": "#FF97FF",
            "symbol": "circle"
           },
           "mode": "markers+text",
           "name": "Leicester City",
           "orientation": "v",
           "showlegend": true,
           "text": [
            "Boubakary Soumaré",
            "Harvey Barnes",
            "James Maddison",
            "Jamie Vardy",
            "Kelechi Iheanacho",
            "Kiernan Dewsbury-Hall",
            "Patson Daka",
            "Wilfred Ndidi",
            "Youri Tielemans"
           ],
           "type": "scatter",
           "x": [
            1.27,
            2.09,
            5.01,
            1.65,
            3.59,
            3.04,
            2.12,
            0.64,
            2.99
           ],
           "xaxis": "x",
           "y": [
            0.06,
            0.46,
            0.47,
            0.34,
            0.48,
            0.35,
            0.53,
            0.11,
            0.15
           ],
           "yaxis": "y"
          },
          {
           "customdata": [
            [
             "Cody Gakpo",
             "NED"
            ],
            [
             "Curtis Jones",
             "ENG"
            ],
            [
             "Darwin Núñez",
             "URU"
            ],
            [
             "Diogo Jota",
             "POR"
            ],
            [
             "Fabinho",
             "BRA"
            ],
            [
             "Harvey Elliott",
             "ENG"
            ],
            [
             "Jordan Henderson",
             "ENG"
            ],
            [
             "Luis Díaz",
             "COL"
            ],
            [
             "Mohamed Salah",
             "EGY"
            ],
            [
             "Roberto Firmino",
             "BRA"
            ],
            [
             "Thiago Alcántara",
             "ESP"
            ]
           ],
           "hovertemplate": "Team=Liverpool<br>animation_frame=2223<br><b>SCA90</b>=%{x}<br><b>GCA90</b>=%{y}<br>text=%{text}<br>Player=%{customdata[0]}<br>Nation=%{customdata[1]}<extra></extra>",
           "ids": [
            "Cody Gakpo",
            "Curtis Jones",
            "Darwin Núñez",
            "Diogo Jota",
            "Fabinho",
            "Harvey Elliott",
            "Jordan Henderson",
            "Luis Díaz",
            "Mohamed Salah",
            "Roberto Firmino",
            "Thiago Alcántara"
           ],
           "legendgroup": "Liverpool",
           "marker": {
            "color": "#FECB52",
            "symbol": "circle"
           },
           "mode": "markers+text",
           "name": "Liverpool",
           "orientation": "v",
           "showlegend": true,
           "text": [
            "Cody Gakpo",
            "Curtis Jones",
            "Darwin Núñez",
            "Diogo Jota",
            "Fabinho",
            "Harvey Elliott",
            "Jordan Henderson",
            "Luis Díaz",
            "Mohamed Salah",
            "Roberto Firmino",
            "Thiago Alcántara"
           ],
           "type": "scatter",
           "x": [
            3.02,
            3.3,
            2.87,
            2.63,
            1.85,
            4.19,
            3.13,
            3.7,
            3.83,
            3.41,
            2.94
           ],
           "xaxis": "x",
           "y": [
            0.37,
            0.35,
            0.16,
            0.4,
            0.27,
            0.56,
            0.3,
            0.54,
            0.66,
            0.52,
            0.14
           ],
           "yaxis": "y"
          },
          {
           "customdata": [
            [
             "Bernardo Silva",
             "POR"
            ],
            [
             "Erling Haaland",
             "NOR"
            ],
            [
             "Jack Grealish",
             "ENG"
            ],
            [
             "Julián Álvarez",
             "ARG"
            ],
            [
             "Kevin De Bruyne",
             "BEL"
            ],
            [
             "Phil Foden",
             "ENG"
            ],
            [
             "Riyad Mahrez",
             "ALG"
            ],
            [
             "Rodri",
             "ESP"
            ],
            [
             "İlkay Gündoğan",
             "GER"
            ]
           ],
           "hovertemplate": "Team=Manchester City<br>animation_frame=2223<br><b>SCA90</b>=%{x}<br><b>GCA90</b>=%{y}<br>text=%{text}<br>Player=%{customdata[0]}<br>Nation=%{customdata[1]}<extra></extra>",
           "ids": [
            "Bernardo Silva",
            "Erling Haaland",
            "Jack Grealish",
            "Julián Álvarez",
            "Kevin De Bruyne",
            "Phil Foden",
            "Riyad Mahrez",
            "Rodri",
            "İlkay Gündoğan"
           ],
           "legendgroup": "Manchester City",
           "marker": {
            "color": "#636efa",
            "symbol": "circle"
           },
           "mode": "markers+text",
           "name": "Manchester City",
           "orientation": "v",
           "showlegend": true,
           "text": [
            "Bernardo Silva",
            "Erling Haaland",
            "Jack Grealish",
            "Julián Álvarez",
            "Kevin De Bruyne",
            "Phil Foden",
            "Riyad Mahrez",
            "Rodri",
            "İlkay Gündoğan"
           ],
           "type": "scatter",
           "x": [
            3.06,
            2.34,
            4.55,
            3.2,
            6.55,
            4.83,
            5.44,
            2.84,
            3.44
           ],
           "xaxis": "x",
           "y": [
            0.49,
            0.55,
            0.88,
            0.31,
            1.15,
            0.68,
            0.98,
            0.31,
            0.65
           ],
           "yaxis": "y"
          },
          {
           "customdata": [
            [
             "Anthony Martial",
             "FRA"
            ],
            [
             "Antony",
             "BRA"
            ],
            [
             "Bruno Fernandes",
             "POR"
            ],
            [
             "Casemiro",
             "BRA"
            ],
            [
             "Christian Eriksen",
             "DEN"
            ],
            [
             "Fred",
             "BRA"
            ],
            [
             "Jadon Sancho",
             "ENG"
            ],
            [
             "Marcus Rashford",
             "ENG"
            ],
            [
             "Scott McTominay",
             "SCO"
            ]
           ],
           "hovertemplate": "Team=Manchester Utd<br>animation_frame=2223<br><b>SCA90</b>=%{x}<br><b>GCA90</b>=%{y}<br>text=%{text}<br>Player=%{customdata[0]}<br>Nation=%{customdata[1]}<extra></extra>",
           "ids": [
            "Anthony Martial",
            "Antony",
            "Bruno Fernandes",
            "Casemiro",
            "Christian Eriksen",
            "Fred",
            "Jadon Sancho",
            "Marcus Rashford",
            "Scott McTominay"
           ],
           "legendgroup": "Manchester Utd",
           "marker": {
            "color": "#EF553B",
            "symbol": "circle"
           },
           "mode": "markers+text",
           "name": "Manchester Utd",
           "orientation": "v",
           "showlegend": true,
           "text": [
            "Anthony Martial",
            "Antony",
            "Bruno Fernandes",
            "Casemiro",
            "Christian Eriksen",
            "Fred",
            "Jadon Sancho",
            "Marcus Rashford",
            "Scott McTominay"
           ],
           "type": "scatter",
           "x": [
            2.58,
            3.69,
            5.94,
            2.88,
            3.12,
            4.25,
            4.64,
            3.06,
            1.78
           ],
           "xaxis": "x",
           "y": [
            0.46,
            0.35,
            0.49,
            0.34,
            0.4,
            0.29,
            0.48,
            0.44,
            0
           ],
           "yaxis": "y"
          },
          {
           "customdata": [
            [
             "Alexander Isak",
             "SWE"
            ],
            [
             "Allan Saint-Maximin",
             "FRA"
            ],
            [
             "Bruno Guimarães",
             "BRA"
            ],
            [
             "Callum Wilson",
             "ENG"
            ],
            [
             "Jacob Murphy",
             "ENG"
            ],
            [
             "Joe Willock",
             "ENG"
            ],
            [
             "Joelinton",
             "BRA"
            ],
            [
             "Miguel Almirón",
             "PAR"
            ],
            [
             "Sean Longstaff",
             "ENG"
            ]
           ],
           "hovertemplate": "Team=Newcastle Utd<br>animation_frame=2223<br><b>SCA90</b>=%{x}<br><b>GCA90</b>=%{y}<br>text=%{text}<br>Player=%{customdata[0]}<br>Nation=%{customdata[1]}<extra></extra>",
           "ids": [
            "Alexander Isak",
            "Allan Saint-Maximin",
            "Bruno Guimarães",
            "Callum Wilson",
            "Jacob Murphy",
            "Joe Willock",
            "Joelinton",
            "Miguel Almirón",
            "Sean Longstaff"
           ],
           "legendgroup": "Newcastle Utd",
           "marker": {
            "color": "#00cc96",
            "symbol": "circle"
           },
           "mode": "markers+text",
           "name": "Newcastle Utd",
           "orientation": "v",
           "showlegend": true,
           "text": [
            "Alexander Isak",
            "Allan Saint-Maximin",
            "Bruno Guimarães",
            "Callum Wilson",
            "Jacob Murphy",
            "Joe Willock",
            "Joelinton",
            "Miguel Almirón",
            "Sean Longstaff"
           ],
           "type": "scatter",
           "x": [
            2.9,
            5.22,
            3.63,
            2.06,
            3.52,
            2.99,
            2.71,
            3.14,
            2.22
           ],
           "xaxis": "x",
           "y": [
            0.3,
            0.8,
            0.4,
            0.48,
            0.43,
            0.32,
            0.34,
            0.47,
            0.21
           ],
           "yaxis": "y"
          },
          {
           "customdata": [
            [
             "Adam Armstrong",
             "ENG"
            ],
            [
             "Carlos Alcaraz",
             "ARG"
            ],
            [
             "Che Adams",
             "SCO"
            ],
            [
             "James Ward-Prowse",
             "ENG"
            ],
            [
             "Joe Aribo",
             "NGA"
            ],
            [
             "Kamaldeen Sulemana",
             "GHA"
            ],
            [
             "Mohamed Elyounoussi",
             "NOR"
            ],
            [
             "Roméo Lavia",
             "BEL"
            ],
            [
             "Stuart Armstrong",
             "SCO"
            ],
            [
             "Theo Walcott",
             "ENG"
            ]
           ],
           "hovertemplate": "Team=Southampton<br>animation_frame=2223<br><b>SCA90</b>=%{x}<br><b>GCA90</b>=%{y}<br>text=%{text}<br>Player=%{customdata[0]}<br>Nation=%{customdata[1]}<extra></extra>",
           "ids": [
            "Adam Armstrong",
            "Carlos Alcaraz",
            "Che Adams",
            "James Ward-Prowse",
            "Joe Aribo",
            "Kamaldeen Sulemana",
            "Mohamed Elyounoussi",
            "Roméo Lavia",
            "Stuart Armstrong",
            "Theo Walcott"
           ],
           "legendgroup": "Southampton",
           "marker": {
            "color": "#19d3f3",
            "symbol": "circle"
           },
           "mode": "markers+text",
           "name": "Southampton",
           "orientation": "v",
           "showlegend": true,
           "text": [
            "Adam Armstrong",
            "Carlos Alcaraz",
            "Che Adams",
            "James Ward-Prowse",
            "Joe Aribo",
            "Kamaldeen Sulemana",
            "Mohamed Elyounoussi",
            "Roméo Lavia",
            "Stuart Armstrong",
            "Theo Walcott"
           ],
           "type": "scatter",
           "x": [
            1.62,
            1.92,
            2.57,
            3.39,
            1.99,
            3.72,
            1.7,
            1.66,
            3.2,
            2.23
           ],
           "xaxis": "x",
           "y": [
            0.13,
            0.35,
            0.32,
            0.24,
            0.15,
            0.28,
            0.17,
            0.12,
            0.13,
            0.16
           ],
           "yaxis": "y"
          },
          {
           "customdata": [
            [
             "Dejan Kulusevski",
             "SWE"
            ],
            [
             "Harry Kane",
             "ENG"
            ],
            [
             "Oliver Skipp",
             "ENG"
            ],
            [
             "Pierre Højbjerg",
             "DEN"
            ],
            [
             "Richarlison",
             "BRA"
            ],
            [
             "Rodrigo Bentancur",
             "URU"
            ],
            [
             "Son Heung-min",
             "KOR"
            ],
            [
             "Yves Bissouma",
             "MLI"
            ]
           ],
           "hovertemplate": "Team=Tottenham<br>animation_frame=2223<br><b>SCA90</b>=%{x}<br><b>GCA90</b>=%{y}<br>text=%{text}<br>Player=%{customdata[0]}<br>Nation=%{customdata[1]}<extra></extra>",
           "ids": [
            "Dejan Kulusevski",
            "Harry Kane",
            "Oliver Skipp",
            "Pierre Højbjerg",
            "Richarlison",
            "Rodrigo Bentancur",
            "Son Heung-min",
            "Yves Bissouma"
           ],
           "legendgroup": "Tottenham",
           "marker": {
            "color": "#FF6692",
            "symbol": "circle"
           },
           "mode": "markers+text",
           "name": "Tottenham",
           "orientation": "v",
           "showlegend": true,
           "text": [
            "Dejan Kulusevski",
            "Harry Kane",
            "Oliver Skipp",
            "Pierre Højbjerg",
            "Richarlison",
            "Rodrigo Bentancur",
            "Son Heung-min",
            "Yves Bissouma"
           ],
           "type": "scatter",
           "x": [
            4.22,
            3.46,
            1.63,
            2.79,
            3.12,
            2.04,
            3.8,
            2.58
           ],
           "xaxis": "x",
           "y": [
            0.48,
            0.48,
            0.06,
            0.4,
            0.45,
            0.3,
            0.4,
            0.09
           ],
           "yaxis": "y"
          },
          {
           "customdata": [
            [
             "Declan Rice",
             "ENG"
            ],
            [
             "Gianluca Scamacca",
             "ITA"
            ],
            [
             "Jarrod Bowen",
             "ENG"
            ],
            [
             "Lucas Paquetá",
             "BRA"
            ],
            [
             "Michail Antonio",
             "JAM"
            ],
            [
             "Pablo Fornals",
             "ESP"
            ],
            [
             "Saïd Benrahma",
             "ALG"
            ],
            [
             "Tomáš Souček",
             "CZE"
            ]
           ],
           "hovertemplate": "Team=West Ham<br>animation_frame=2223<br><b>SCA90</b>=%{x}<br><b>GCA90</b>=%{y}<br>text=%{text}<br>Player=%{customdata[0]}<br>Nation=%{customdata[1]}<extra></extra>",
           "ids": [
            "Declan Rice",
            "Gianluca Scamacca",
            "Jarrod Bowen",
            "Lucas Paquetá",
            "Michail Antonio",
            "Pablo Fornals",
            "Saïd Benrahma",
            "Tomáš Souček"
           ],
           "legendgroup": "West Ham",
           "marker": {
            "color": "#FF97FF",
            "symbol": "circle"
           },
           "mode": "markers+text",
           "name": "West Ham",
           "orientation": "v",
           "showlegend": true,
           "text": [
            "Declan Rice",
            "Gianluca Scamacca",
            "Jarrod Bowen",
            "Lucas Paquetá",
            "Michail Antonio",
            "Pablo Fornals",
            "Saïd Benrahma",
            "Tomáš Souček"
           ],
           "type": "scatter",
           "x": [
            2.75,
            2.33,
            3.01,
            3.3,
            1.92,
            3.41,
            4,
            1.66
           ],
           "xaxis": "x",
           "y": [
            0.16,
            0.1,
            0.39,
            0.5,
            0.44,
            0.18,
            0.22,
            0.1
           ],
           "yaxis": "y"
          },
          {
           "customdata": [
            [
             "Adama Traoré",
             "ESP"
            ],
            [
             "Daniel Podence",
             "POR"
            ],
            [
             "Diego Costa",
             "ESP"
            ],
            [
             "Hwang Hee-chan",
             "KOR"
            ],
            [
             "João Moutinho",
             "POR"
            ],
            [
             "Mario Lemina",
             "GAB"
            ],
            [
             "Matheus Cunha",
             "BRA"
            ],
            [
             "Matheus Nunes",
             "POR"
            ],
            [
             "Pedro Neto",
             "POR"
            ],
            [
             "Rúben Neves",
             "POR"
            ]
           ],
           "hovertemplate": "Team=Wolves<br>animation_frame=2223<br><b>SCA90</b>=%{x}<br><b>GCA90</b>=%{y}<br>text=%{text}<br>Player=%{customdata[0]}<br>Nation=%{customdata[1]}<extra></extra>",
           "ids": [
            "Adama Traoré",
            "Daniel Podence",
            "Diego Costa",
            "Hwang Hee-chan",
            "João Moutinho",
            "Mario Lemina",
            "Matheus Cunha",
            "Matheus Nunes",
            "Pedro Neto",
            "Rúben Neves"
           ],
           "legendgroup": "Wolves",
           "marker": {
            "color": "#FECB52",
            "symbol": "circle"
           },
           "mode": "markers+text",
           "name": "Wolves",
           "orientation": "v",
           "showlegend": true,
           "text": [
            "Adama Traoré",
            "Daniel Podence",
            "Diego Costa",
            "Hwang Hee-chan",
            "João Moutinho",
            "Mario Lemina",
            "Matheus Cunha",
            "Matheus Nunes",
            "Pedro Neto",
            "Rúben Neves"
           ],
           "type": "scatter",
           "x": [
            2.65,
            3.51,
            1.67,
            2.39,
            3.34,
            0.55,
            1.96,
            2.15,
            3.82,
            2.38
           ],
           "xaxis": "x",
           "y": [
            0.24,
            0.15,
            0.07,
            0.16,
            0.15,
            0.14,
            0,
            0.18,
            0.56,
            0.09
           ],
           "yaxis": "y"
          },
          {
           "customdata": [
            [
             "Aleksandar Mitrović",
             "SRB"
            ],
            [
             "Andreas Pereira",
             "BRA"
            ],
            [
             "Carlos Vinícius",
             "BRA"
            ],
            [
             "Harrison Reed",
             "ENG"
            ],
            [
             "Harry Wilson",
             "WAL"
            ],
            [
             "João Palhinha",
             "POR"
            ],
            [
             "Tom Cairney",
             "SCO"
            ],
            [
             "Willian",
             "BRA"
            ]
           ],
           "hovertemplate": "Team=Fulham<br>animation_frame=2223<br><b>SCA90</b>=%{x}<br><b>GCA90</b>=%{y}<br>text=%{text}<br>Player=%{customdata[0]}<br>Nation=%{customdata[1]}<extra></extra>",
           "ids": [
            "Aleksandar Mitrović",
            "Andreas Pereira",
            "Carlos Vinícius",
            "Harrison Reed",
            "Harry Wilson",
            "João Palhinha",
            "Tom Cairney",
            "Willian"
           ],
           "legendgroup": "Fulham",
           "marker": {
            "color": "#636efa",
            "symbol": "circle"
           },
           "mode": "markers+text",
           "name": "Fulham",
           "orientation": "v",
           "showlegend": true,
           "text": [
            "Aleksandar Mitrović",
            "Andreas Pereira",
            "Carlos Vinícius",
            "Harrison Reed",
            "Harry Wilson",
            "João Palhinha",
            "Tom Cairney",
            "Willian"
           ],
           "type": "scatter",
           "x": [
            2.47,
            3.94,
            1.3,
            2.32,
            2.62,
            0.87,
            4.1,
            4.44
           ],
           "xaxis": "x",
           "y": [
            0.45,
            0.4,
            0.49,
            0.22,
            0.74,
            0,
            0.27,
            0.51
           ],
           "yaxis": "y"
          },
          {
           "customdata": [
            [
             "Brenden Aaronson",
             "USA"
            ],
            [
             "Crysencio Summerville",
             "NED"
            ],
            [
             "Degnand Gnonto",
             "ITA"
            ],
            [
             "Jack Harrison",
             "ENG"
            ],
            [
             "Marc Roca",
             "ESP"
            ],
            [
             "Patrick Bamford",
             "ENG"
            ],
            [
             "Rodrigo",
             "ESP"
            ],
            [
             "Tyler Adams",
             "USA"
            ],
            [
             "Weston McKennie",
             "USA"
            ]
           ],
           "hovertemplate": "Team=Leeds United<br>animation_frame=2223<br><b>SCA90</b>=%{x}<br><b>GCA90</b>=%{y}<br>text=%{text}<br>Player=%{customdata[0]}<br>Nation=%{customdata[1]}<extra></extra>",
           "ids": [
            "Brenden Aaronson",
            "Crysencio Summerville",
            "Degnand Gnonto",
            "Jack Harrison",
            "Marc Roca",
            "Patrick Bamford",
            "Rodrigo",
            "Tyler Adams",
            "Weston McKennie"
           ],
           "legendgroup": "Leeds United",
           "marker": {
            "color": "#EF553B",
            "symbol": "circle"
           },
           "mode": "markers+text",
           "name": "Leeds United",
           "orientation": "v",
           "showlegend": true,
           "text": [
            "Brenden Aaronson",
            "Crysencio Summerville",
            "Degnand Gnonto",
            "Jack Harrison",
            "Marc Roca",
            "Patrick Bamford",
            "Rodrigo",
            "Tyler Adams",
            "Weston McKennie"
           ],
           "type": "scatter",
           "x": [
            3.6,
            3.09,
            3.32,
            3.79,
            2.02,
            1.6,
            2.09,
            1.79,
            1.82
           ],
           "xaxis": "x",
           "y": [
            0.27,
            0.32,
            0.47,
            0.3,
            0.16,
            0.36,
            0.19,
            0.04,
            0.19
           ],
           "yaxis": "y"
          },
          {
           "customdata": [
            [
             "Bryan Mbeumo",
             "CMR"
            ],
            [
             "Christian Nørgaard",
             "DEN"
            ],
            [
             "Ivan Toney",
             "ENG"
            ],
            [
             "Josh Dasilva",
             "ENG"
            ],
            [
             "Mathias Jensen",
             "DEN"
            ],
            [
             "Mikkel Damsgaard",
             "DEN"
            ],
            [
             "Yoane Wissa",
             "COD"
            ]
           ],
           "hovertemplate": "Team=Brentford<br>animation_frame=2223<br><b>SCA90</b>=%{x}<br><b>GCA90</b>=%{y}<br>text=%{text}<br>Player=%{customdata[0]}<br>Nation=%{customdata[1]}<extra></extra>",
           "ids": [
            "Bryan Mbeumo",
            "Christian Nørgaard",
            "Ivan Toney",
            "Josh Dasilva",
            "Mathias Jensen",
            "Mikkel Damsgaard",
            "Yoane Wissa"
           ],
           "legendgroup": "Brentford",
           "marker": {
            "color": "#ab63fa",
            "symbol": "circle"
           },
           "mode": "markers+text",
           "name": "Brentford",
           "orientation": "v",
           "showlegend": true,
           "text": [
            "Bryan Mbeumo",
            "Christian Nørgaard",
            "Ivan Toney",
            "Josh Dasilva",
            "Mathias Jensen",
            "Mikkel Damsgaard",
            "Yoane Wissa"
           ],
           "type": "scatter",
           "x": [
            3,
            1.63,
            2.01,
            2.72,
            3.31,
            2.28,
            2.02
           ],
           "xaxis": "x",
           "y": [
            0.46,
            0.36,
            0.24,
            0.45,
            0.42,
            0.18,
            0.34
           ],
           "yaxis": "y"
          },
          {
           "customdata": [
            [
             "Brennan Johnson",
             "WAL"
            ],
            [
             "Danilo",
             "BRA"
            ],
            [
             "Jesse Lingard",
             "ENG"
            ],
            [
             "Morgan Gibbs-White",
             "ENG"
            ],
            [
             "Orel Mangala",
             "BEL"
            ],
            [
             "Remo Freuler",
             "SUI"
            ],
            [
             "Ryan Yates",
             "ENG"
            ],
            [
             "Taiwo Awoniyi",
             "NGA"
            ]
           ],
           "hovertemplate": "Team=Nott'ham Forest<br>animation_frame=2223<br><b>SCA90</b>=%{x}<br><b>GCA90</b>=%{y}<br>text=%{text}<br>Player=%{customdata[0]}<br>Nation=%{customdata[1]}<extra></extra>",
           "ids": [
            "Brennan Johnson",
            "Danilo",
            "Jesse Lingard",
            "Morgan Gibbs-White",
            "Orel Mangala",
            "Remo Freuler",
            "Ryan Yates",
            "Taiwo Awoniyi"
           ],
           "legendgroup": "Nott'ham Forest",
           "marker": {
            "color": "#FFA15A",
            "symbol": "circle"
           },
           "mode": "markers+text",
           "name": "Nott'ham Forest",
           "orientation": "v",
           "showlegend": true,
           "text": [
            "Brennan Johnson",
            "Danilo",
            "Jesse Lingard",
            "Morgan Gibbs-White",
            "Orel Mangala",
            "Remo Freuler",
            "Ryan Yates",
            "Taiwo Awoniyi"
           ],
           "type": "scatter",
           "x": [
            1.69,
            2.12,
            2.44,
            3.6,
            0.76,
            1.21,
            1.18,
            1.6
           ],
           "xaxis": "x",
           "y": [
            0.34,
            0.55,
            0.2,
            0.36,
            0.06,
            0,
            0.15,
            0.26
           ],
           "yaxis": "y"
          }
         ],
         "name": "2223"
        },
        {
         "data": [
          {
           "customdata": [
            [
             "Bukayo Saka",
             "ENG"
            ],
            [
             "Declan Rice",
             "ENG"
            ],
            [
             "Eddie Nketiah",
             "ENG"
            ],
            [
             "Gabriel Jesus",
             "BRA"
            ],
            [
             "Gabriel Martinelli",
             "BRA"
            ],
            [
             "Jorginho",
             "ITA"
            ],
            [
             "Kai Havertz",
             "GER"
            ],
            [
             "Leandro Trossard",
             "BEL"
            ],
            [
             "Martin Ødegaard",
             "NOR"
            ]
           ],
           "hovertemplate": "Team=Arsenal<br>animation_frame=2324<br><b>SCA90</b>=%{x}<br><b>GCA90</b>=%{y}<br>text=%{text}<br>Player=%{customdata[0]}<br>Nation=%{customdata[1]}<extra></extra>",
           "ids": [
            "Bukayo Saka",
            "Declan Rice",
            "Eddie Nketiah",
            "Gabriel Jesus",
            "Gabriel Martinelli",
            "Jorginho",
            "Kai Havertz",
            "Leandro Trossard",
            "Martin Ødegaard"
           ],
           "legendgroup": "Arsenal",
           "marker": {
            "color": "#636efa",
            "symbol": "circle"
           },
           "mode": "markers+text",
           "name": "Arsenal",
           "orientation": "v",
           "showlegend": true,
           "text": [
            "Bukayo Saka",
            "Declan Rice",
            "Eddie Nketiah",
            "Gabriel Jesus",
            "Gabriel Martinelli",
            "Jorginho",
            "Kai Havertz",
            "Leandro Trossard",
            "Martin Ødegaard"
           ],
           "type": "scatter",
           "x": [
            5.8,
            2.79,
            2.33,
            3.59,
            4.1,
            2.64,
            3.62,
            3.55,
            6.41
           ],
           "xaxis": "x",
           "y": [
            0.65,
            0.33,
            0.67,
            0.49,
            0.49,
            0.49,
            0.75,
            0.33,
            0.67
           ],
           "yaxis": "y"
          },
          {
           "customdata": [
            [
             "Boubacar Kamara",
             "FRA"
            ],
            [
             "Douglas Luiz",
             "BRA"
            ],
            [
             "John McGinn",
             "SCO"
            ],
            [
             "Leon Bailey",
             "JAM"
            ],
            [
             "Moussa Diaby",
             "FRA"
            ],
            [
             "Ollie Watkins",
             "ENG"
            ],
            [
             "Youri Tielemans",
             "BEL"
            ]
           ],
           "hovertemplate": "Team=Aston Villa<br>animation_frame=2324<br><b>SCA90</b>=%{x}<br><b>GCA90</b>=%{y}<br>text=%{text}<br>Player=%{customdata[0]}<br>Nation=%{customdata[1]}<extra></extra>",
           "ids": [
            "Boubacar Kamara",
            "Douglas Luiz",
            "John McGinn",
            "Leon Bailey",
            "Moussa Diaby",
            "Ollie Watkins",
            "Youri Tielemans"
           ],
           "legendgroup": "Aston Villa",
           "marker": {
            "color": "#EF553B",
            "symbol": "circle"
           },
           "mode": "markers+text",
           "name": "Aston Villa",
           "orientation": "v",
           "showlegend": true,
           "text": [
            "Boubacar Kamara",
            "Douglas Luiz",
            "John McGinn",
            "Leon Bailey",
            "Moussa Diaby",
            "Ollie Watkins",
            "Youri Tielemans"
           ],
           "type": "scatter",
           "x": [
            2.07,
            3.52,
            3.18,
            4.22,
            3.31,
            2.8,
            2.72
           ],
           "xaxis": "x",
           "y": [
            0.16,
            0.3,
            0.42,
            0.48,
            0.41,
            0.73,
            0.89
           ],
           "yaxis": "y"
          },
          {
           "customdata": [
            [
             "Alex Scott",
             "ENG"
            ],
            [
             "Antoine Semenyo",
             "GHA"
            ],
            [
             "Dominic Solanke",
             "ENG"
            ],
            [
             "Justin Kluivert",
             "NED"
            ],
            [
             "Lewis Cook",
             "ENG"
            ],
            [
             "Marcus Tavernier",
             "ENG"
            ],
            [
             "Philip Billing",
             "DEN"
            ],
            [
             "Ryan Christie",
             "SCO"
            ]
           ],
           "hovertemplate": "Team=Bournemouth<br>animation_frame=2324<br><b>SCA90</b>=%{x}<br><b>GCA90</b>=%{y}<br>text=%{text}<br>Player=%{customdata[0]}<br>Nation=%{customdata[1]}<extra></extra>",
           "ids": [
            "Alex Scott",
            "Antoine Semenyo",
            "Dominic Solanke",
            "Justin Kluivert",
            "Lewis Cook",
            "Marcus Tavernier",
            "Philip Billing",
            "Ryan Christie"
           ],
           "legendgroup": "Bournemouth",
           "marker": {
            "color": "#00cc96",
            "symbol": "circle"
           },
           "mode": "markers+text",
           "name": "Bournemouth",
           "orientation": "v",
           "showlegend": true,
           "text": [
            "Alex Scott",
            "Antoine Semenyo",
            "Dominic Solanke",
            "Justin Kluivert",
            "Lewis Cook",
            "Marcus Tavernier",
            "Philip Billing",
            "Ryan Christie"
           ],
           "type": "scatter",
           "x": [
            3.91,
            3.08,
            2.14,
            2.77,
            2.49,
            4.29,
            2.96,
            3.62
           ],
           "xaxis": "x",
           "y": [
            0.27,
            0.3,
            0.16,
            0.23,
            0.13,
            0.38,
            0.32,
            0.19
           ],
           "yaxis": "y"
          },
          {
           "customdata": [
            [
             "Billy Gilmour",
             "SCO"
            ],
            [
             "Carlos Baleba",
             "CMR"
            ],
            [
             "Danny Welbeck",
             "ENG"
            ],
            [
             "Evan Ferguson",
             "IRL"
            ],
            [
             "Facundo Buonanotte",
             "ARG"
            ],
            [
             "João Pedro",
             "BRA"
            ],
            [
             "Kaoru Mitoma",
             "JPN"
            ],
            [
             "Simon Adingra",
             "CIV"
            ]
           ],
           "hovertemplate": "Team=Brighton<br>animation_frame=2324<br><b>SCA90</b>=%{x}<br><b>GCA90</b>=%{y}<br>text=%{text}<br>Player=%{customdata[0]}<br>Nation=%{customdata[1]}<extra></extra>",
           "ids": [
            "Billy Gilmour",
            "Carlos Baleba",
            "Danny Welbeck",
            "Evan Ferguson",
            "Facundo Buonanotte",
            "João Pedro",
            "Kaoru Mitoma",
            "Simon Adingra"
           ],
           "legendgroup": "Brighton",
           "marker": {
            "color": "#ab63fa",
            "symbol": "circle"
           },
           "mode": "markers+text",
           "name": "Brighton",
           "orientation": "v",
           "showlegend": true,
           "text": [
            "Billy Gilmour",
            "Carlos Baleba",
            "Danny Welbeck",
            "Evan Ferguson",
            "Facundo Buonanotte",
            "João Pedro",
            "Kaoru Mitoma",
            "Simon Adingra"
           ],
           "type": "scatter",
           "x": [
            2.93,
            1.15,
            3.77,
            1.45,
            2.51,
            4.01,
            3.76,
            3.12
           ],
           "xaxis": "x",
           "y": [
            0.25,
            0.07,
            0.37,
            0.07,
            0.13,
            0.48,
            0.61,
            0.16
           ],
           "yaxis": "y"
          },
          {
           "customdata": [
            [
             "Jacob Bruun Larsen",
             "DEN"
            ],
            [
             "Josh Brownhill",
             "ENG"
            ],
            [
             "Josh Cullen",
             "IRL"
            ],
            [
             "Jóhann Berg Guðmundsson",
             "ISL"
            ],
            [
             "Luca Koleosho",
             "ITA"
            ],
            [
             "Lyle Foster",
             "RSA"
            ],
            [
             "Sander Berge",
             "NOR"
            ],
            [
             "Wilson Odobert",
             "FRA"
            ],
            [
             "Zeki Amdouni",
             "SUI"
            ]
           ],
           "hovertemplate": "Team=Burnley<br>animation_frame=2324<br><b>SCA90</b>=%{x}<br><b>GCA90</b>=%{y}<br>text=%{text}<br>Player=%{customdata[0]}<br>Nation=%{customdata[1]}<extra></extra>",
           "ids": [
            "Jacob Bruun Larsen",
            "Josh Brownhill",
            "Josh Cullen",
            "Jóhann Berg Guðmundsson",
            "Luca Koleosho",
            "Lyle Foster",
            "Sander Berge",
            "Wilson Odobert",
            "Zeki Amdouni"
           ],
           "legendgroup": "Burnley",
           "marker": {
            "color": "#FFA15A",
            "symbol": "circle"
           },
           "mode": "markers+text",
           "name": "Burnley",
           "orientation": "v",
           "showlegend": true,
           "text": [
            "Jacob Bruun Larsen",
            "Josh Brownhill",
            "Josh Cullen",
            "Jóhann Berg Guðmundsson",
            "Luca Koleosho",
            "Lyle Foster",
            "Sander Berge",
            "Wilson Odobert",
            "Zeki Amdouni"
           ],
           "type": "scatter",
           "x": [
            3.31,
            2.8,
            2.89,
            3.78,
            2.59,
            1.95,
            2.01,
            3.26,
            2.3
           ],
           "xaxis": "x",
           "y": [
            0,
            0.24,
            0.35,
            0.38,
            0.56,
            0.19,
            0.24,
            0.17,
            0.18
           ],
           "yaxis": "y"
          },
          {
           "customdata": [
            [
             "Cole Palmer",
             "ENG"
            ],
            [
             "Conor Gallagher",
             "ENG"
            ],
            [
             "Enzo Fernández",
             "ARG"
            ],
            [
             "Moisés Caicedo",
             "ECU"
            ],
            [
             "Mykhailo Mudryk",
             "UKR"
            ],
            [
             "Nicolas Jackson",
             "SEN"
            ],
            [
             "Noni Madueke",
             "ENG"
            ],
            [
             "Raheem Sterling",
             "ENG"
            ]
           ],
           "hovertemplate": "Team=Chelsea<br>animation_frame=2324<br><b>SCA90</b>=%{x}<br><b>GCA90</b>=%{y}<br>text=%{text}<br>Player=%{customdata[0]}<br>Nation=%{customdata[1]}<extra></extra>",
           "ids": [
            "Cole Palmer",
            "Conor Gallagher",
            "Enzo Fernández",
            "Moisés Caicedo",
            "Mykhailo Mudryk",
            "Nicolas Jackson",
            "Noni Madueke",
            "Raheem Sterling"
           ],
           "legendgroup": "Chelsea",
           "marker": {
            "color": "#19d3f3",
            "symbol": "circle"
           },
           "mode": "markers+text",
           "name": "Chelsea",
           "orientation": "v",
           "showlegend": true,
           "text": [
            "Cole Palmer",
            "Conor Gallagher",
            "Enzo Fernández",
            "Moisés Caicedo",
            "Mykhailo Mudryk",
            "Nicolas Jackson",
            "Noni Madueke",
            "Raheem Sterling"
           ],
           "type": "scatter",
           "x": [
            5.59,
            3.14,
            3.34,
            2.07,
            3.43,
            3.05,
            4.35,
            3.87
           ],
           "xaxis": "x",
           "y": [
            0.9,
            0.4,
            0.29,
            0.38,
            0.51,
            0.35,
            0.68,
            0.64
           ],
           "yaxis": "y"
          },
          {
           "customdata": [
            [
             "Adam Wharton",
             "ENG"
            ],
            [
             "Cheick Doucouré",
             "MLI"
            ],
            [
             "Eberechi Eze",
             "ENG"
            ],
            [
             "Jean-Philippe Mateta",
             "FRA"
            ],
            [
             "Jeffrey Schlupp",
             "GHA"
            ],
            [
             "Jordan Ayew",
             "GHA"
            ],
            [
             "Michael Olise",
             "FRA"
            ],
            [
             "Odsonne Édouard",
             "FRA"
            ],
            [
             "Will Hughes",
             "ENG"
            ]
           ],
           "hovertemplate": "Team=Crystal Palace<br>animation_frame=2324<br><b>SCA90</b>=%{x}<br><b>GCA90</b>=%{y}<br>text=%{text}<br>Player=%{customdata[0]}<br>Nation=%{customdata[1]}<extra></extra>",
           "ids": [
            "Adam Wharton",
            "Cheick Doucouré",
            "Eberechi Eze",
            "Jean-Philippe Mateta",
            "Jeffrey Schlupp",
            "Jordan Ayew",
            "Michael Olise",
            "Odsonne Édouard",
            "Will Hughes"
           ],
           "legendgroup": "Crystal Palace",
           "marker": {
            "color": "#FF6692",
            "symbol": "circle"
           },
           "mode": "markers+text",
           "name": "Crystal Palace",
           "orientation": "v",
           "showlegend": true,
           "text": [
            "Adam Wharton",
            "Cheick Doucouré",
            "Eberechi Eze",
            "Jean-Philippe Mateta",
            "Jeffrey Schlupp",
            "Jordan Ayew",
            "Michael Olise",
            "Odsonne Édouard",
            "Will Hughes"
           ],
           "type": "scatter",
           "x": [
            2.57,
            2.25,
            4.82,
            2.56,
            1.86,
            2.55,
            5.79,
            2.6,
            2.29
           ],
           "xaxis": "x",
           "y": [
            0.35,
            0.29,
            0.48,
            0.47,
            0.2,
            0.42,
            0.99,
            0.12,
            0.24
           ],
           "yaxis": "y"
          },
          {
           "customdata": [
            [
             "Abdoulaye Doucouré",
             "MLI"
            ],
            [
             "Amadou Onana",
             "BEL"
            ],
            [
             "Beto",
             "GNB"
            ],
            [
             "Dominic Calvert-Lewin",
             "ENG"
            ],
            [
             "Dwight McNeil",
             "ENG"
            ],
            [
             "Idrissa Gana Gueye",
             "SEN"
            ],
            [
             "Jack Harrison",
             "ENG"
            ],
            [
             "James Garner",
             "ENG"
            ]
           ],
           "hovertemplate": "Team=Everton<br>animation_frame=2324<br><b>SCA90</b>=%{x}<br><b>GCA90</b>=%{y}<br>text=%{text}<br>Player=%{customdata[0]}<br>Nation=%{customdata[1]}<extra></extra>",
           "ids": [
            "Abdoulaye Doucouré",
            "Amadou Onana",
            "Beto",
            "Dominic Calvert-Lewin",
            "Dwight McNeil",
            "Idrissa Gana Gueye",
            "Jack Harrison",
            "James Garner"
           ],
           "legendgroup": "Everton",
           "marker": {
            "color": "#B6E880",
            "symbol": "circle"
           },
           "mode": "markers+text",
           "name": "Everton",
           "orientation": "v",
           "showlegend": true,
           "text": [
            "Abdoulaye Doucouré",
            "Amadou Onana",
            "Beto",
            "Dominic Calvert-Lewin",
            "Dwight McNeil",
            "Idrissa Gana Gueye",
            "Jack Harrison",
            "James Garner"
           ],
           "type": "scatter",
           "x": [
            2.29,
            2.41,
            3.03,
            2.24,
            4.05,
            2.48,
            2.68,
            2.94
           ],
           "xaxis": "x",
           "y": [
            0.17,
            0.04,
            0.09,
            0.25,
            0.28,
            0.19,
            0.28,
            0.24
           ],
           "yaxis": "y"
          },
          {
           "customdata": [
            [
             "Alexis Mac Allister",
             "ARG"
            ],
            [
             "Cody Gakpo",
             "NED"
            ],
            [
             "Curtis Jones",
             "ENG"
            ],
            [
             "Darwin Núñez",
             "URU"
            ],
            [
             "Diogo Jota",
             "POR"
            ],
            [
             "Dominik Szoboszlai",
             "HUN"
            ],
            [
             "Harvey Elliott",
             "ENG"
            ],
            [
             "Luis Díaz",
             "COL"
            ],
            [
             "Mohamed Salah",
             "EGY"
            ],
            [
             "Ryan Gravenberch",
             "NED"
            ],
            [
             "Wataru Endo",
             "JPN"
            ]
           ],
           "hovertemplate": "Team=Liverpool<br>animation_frame=2324<br><b>SCA90</b>=%{x}<br><b>GCA90</b>=%{y}<br>text=%{text}<br>Player=%{customdata[0]}<br>Nation=%{customdata[1]}<extra></extra>",
           "ids": [
            "Alexis Mac Allister",
            "Cody Gakpo",
            "Curtis Jones",
            "Darwin Núñez",
            "Diogo Jota",
            "Dominik Szoboszlai",
            "Harvey Elliott",
            "Luis Díaz",
            "Mohamed Salah",
            "Ryan Gravenberch",
            "Wataru Endo"
           ],
           "legendgroup": "Liverpool",
           "marker": {
            "color": "#FECB52",
            "symbol": "circle"
           },
           "mode": "markers+text",
           "name": "Liverpool",
           "orientation": "v",
           "showlegend": true,
           "text": [
            "Alexis Mac Allister",
            "Cody Gakpo",
            "Curtis Jones",
            "Darwin Núñez",
            "Diogo Jota",
            "Dominik Szoboszlai",
            "Harvey Elliott",
            "Luis Díaz",
            "Mohamed Salah",
            "Ryan Gravenberch",
            "Wataru Endo"
           ],
           "type": "scatter",
           "x": [
            3.74,
            3.98,
            2.78,
            3.47,
            3.77,
            4.92,
            5.19,
            5.58,
            4.94,
            3.54,
            2.82
           ],
           "xaxis": "x",
           "y": [
            0.42,
            0.55,
            0.23,
            0.62,
            1.1,
            0.3,
            0.67,
            0.31,
            0.71,
            0,
            0.16
           ],
           "yaxis": "y"
          },
          {
           "customdata": [
            [
             "Bernardo Silva",
             "POR"
            ],
            [
             "Erling Haaland",
             "NOR"
            ],
            [
             "Jack Grealish",
             "ENG"
            ],
            [
             "Jeremy Doku",
             "BEL"
            ],
            [
             "Julián Álvarez",
             "ARG"
            ],
            [
             "Kevin De Bruyne",
             "BEL"
            ],
            [
             "Mateo Kovačić",
             "CRO"
            ],
            [
             "Phil Foden",
             "ENG"
            ],
            [
             "Rodri",
             "ESP"
            ]
           ],
           "hovertemplate": "Team=Manchester City<br>animation_frame=2324<br><b>SCA90</b>=%{x}<br><b>GCA90</b>=%{y}<br>text=%{text}<br>Player=%{customdata[0]}<br>Nation=%{customdata[1]}<extra></extra>",
           "ids": [
            "Bernardo Silva",
            "Erling Haaland",
            "Jack Grealish",
            "Jeremy Doku",
            "Julián Álvarez",
            "Kevin De Bruyne",
            "Mateo Kovačić",
            "Phil Foden",
            "Rodri"
           ],
           "legendgroup": "Manchester City",
           "marker": {
            "color": "#636efa",
            "symbol": "circle"
           },
           "mode": "markers+text",
           "name": "Manchester City",
           "orientation": "v",
           "showlegend": true,
           "text": [
            "Bernardo Silva",
            "Erling Haaland",
            "Jack Grealish",
            "Jeremy Doku",
            "Julián Álvarez",
            "Kevin De Bruyne",
            "Mateo Kovačić",
            "Phil Foden",
            "Rodri"
           ],
           "type": "scatter",
           "x": [
            4.54,
            2.08,
            4.82,
            6.26,
            4.01,
            7.36,
            3.14,
            4.54,
            4.82
           ],
           "xaxis": "x",
           "y": [
            0.45,
            0.39,
            0.36,
            0.85,
            0.51,
            1.18,
            0.35,
            0.66,
            0.71
           ],
           "yaxis": "y"
          },
          {
           "customdata": [
            [
             "Alejandro Garnacho",
             "ARG"
            ],
            [
             "Antony",
             "BRA"
            ],
            [
             "Bruno Fernandes",
             "POR"
            ],
            [
             "Christian Eriksen",
             "DEN"
            ],
            [
             "Kobbie Mainoo",
             "ENG"
            ],
            [
             "Marcus Rashford",
             "ENG"
            ],
            [
             "Rasmus Højlund",
             "DEN"
            ],
            [
             "Scott McTominay",
             "SCO"
            ]
           ],
           "hovertemplate": "Team=Manchester Utd<br>animation_frame=2324<br><b>SCA90</b>=%{x}<br><b>GCA90</b>=%{y}<br>text=%{text}<br>Player=%{customdata[0]}<br>Nation=%{customdata[1]}<extra></extra>",
           "ids": [
            "Alejandro Garnacho",
            "Antony",
            "Bruno Fernandes",
            "Christian Eriksen",
            "Kobbie Mainoo",
            "Marcus Rashford",
            "Rasmus Højlund",
            "Scott McTominay"
           ],
           "legendgroup": "Manchester Utd",
           "marker": {
            "color": "#EF553B",
            "symbol": "circle"
           },
           "mode": "markers+text",
           "name": "Manchester Utd",
           "orientation": "v",
           "showlegend": true,
           "text": [
            "Alejandro Garnacho",
            "Antony",
            "Bruno Fernandes",
            "Christian Eriksen",
            "Kobbie Mainoo",
            "Marcus Rashford",
            "Rasmus Højlund",
            "Scott McTominay"
           ],
           "type": "scatter",
           "x": [
            4.17,
            3.74,
            6.06,
            3.63,
            1.87,
            3.45,
            2.42,
            1.23
           ],
           "xaxis": "x",
           "y": [
            0.53,
            0.2,
            0.55,
            0.24,
            0.37,
            0.48,
            0.17,
            0.09
           ],
           "yaxis": "y"
          },
          {
           "customdata": [
            [
             "Alexander Isak",
             "SWE"
            ],
            [
             "Anthony Gordon",
             "ENG"
            ],
            [
             "Bruno Guimarães",
             "BRA"
            ],
            [
             "Callum Wilson",
             "ENG"
            ],
            [
             "Elliot Anderson",
             "ENG"
            ],
            [
             "Joelinton",
             "BRA"
            ],
            [
             "Lewis Miley",
             "ENG"
            ],
            [
             "Miguel Almirón",
             "PAR"
            ],
            [
             "Sean Longstaff",
             "ENG"
            ]
           ],
           "hovertemplate": "Team=Newcastle Utd<br>animation_frame=2324<br><b>SCA90</b>=%{x}<br><b>GCA90</b>=%{y}<br>text=%{text}<br>Player=%{customdata[0]}<br>Nation=%{customdata[1]}<extra></extra>",
           "ids": [
            "Alexander Isak",
            "Anthony Gordon",
            "Bruno Guimarães",
            "Callum Wilson",
            "Elliot Anderson",
            "Joelinton",
            "Lewis Miley",
            "Miguel Almirón",
            "Sean Longstaff"
           ],
           "legendgroup": "Newcastle Utd",
           "marker": {
            "color": "#00cc96",
            "symbol": "circle"
           },
           "mode": "markers+text",
           "name": "Newcastle Utd",
           "orientation": "v",
           "showlegend": true,
           "text": [
            "Alexander Isak",
            "Anthony Gordon",
            "Bruno Guimarães",
            "Callum Wilson",
            "Elliot Anderson",
            "Joelinton",
            "Lewis Miley",
            "Miguel Almirón",
            "Sean Longstaff"
           ],
           "type": "scatter",
           "x": [
            2.87,
            4.45,
            3.94,
            2,
            2.98,
            3.3,
            2.32,
            2.41,
            1.67
           ],
           "xaxis": "x",
           "y": [
            0.4,
            0.9,
            0.52,
            0.36,
            0.26,
            0.21,
            0.37,
            0.19,
            0.23
           ],
           "yaxis": "y"
          },
          {
           "customdata": [
            [
             "Ben Brereton",
             "CHI"
            ],
            [
             "Cameron Archer",
             "ENG"
            ],
            [
             "Gustavo Hamer",
             "NED"
            ],
            [
             "James Mcatee",
             "ENG"
            ],
            [
             "Oliver Arblaster",
             "ENG"
            ],
            [
             "Oliver McBurnie",
             "SCO"
            ],
            [
             "Oliver Norwood",
             "NIR"
            ],
            [
             "Vinicius Souza",
             "BRA"
            ]
           ],
           "hovertemplate": "Team=Sheffield Utd<br>animation_frame=2324<br><b>SCA90</b>=%{x}<br><b>GCA90</b>=%{y}<br>text=%{text}<br>Player=%{customdata[0]}<br>Nation=%{customdata[1]}<extra></extra>",
           "ids": [
            "Ben Brereton",
            "Cameron Archer",
            "Gustavo Hamer",
            "James Mcatee",
            "Oliver Arblaster",
            "Oliver McBurnie",
            "Oliver Norwood",
            "Vinicius Souza"
           ],
           "legendgroup": "Sheffield Utd",
           "marker": {
            "color": "#FFA15A",
            "symbol": "circle"
           },
           "mode": "markers+text",
           "name": "Sheffield Utd",
           "orientation": "v",
           "showlegend": true,
           "text": [
            "Ben Brereton",
            "Cameron Archer",
            "Gustavo Hamer",
            "James Mcatee",
            "Oliver Arblaster",
            "Oliver McBurnie",
            "Oliver Norwood",
            "Vinicius Souza"
           ],
           "type": "scatter",
           "x": [
            2.52,
            2.41,
            3.59,
            2.97,
            2.2,
            2.04,
            2,
            0.88
           ],
           "xaxis": "x",
           "y": [
            0.33,
            0.2,
            0.37,
            0.15,
            0.19,
            0.49,
            0.06,
            0.1
           ],
           "yaxis": "y"
          },
          {
           "customdata": [
            [
             "Brennan Johnson",
             "WAL"
            ],
            [
             "Dejan Kulusevski",
             "SWE"
            ],
            [
             "James Maddison",
             "ENG"
            ],
            [
             "Pape Matar Sarr",
             "SEN"
            ],
            [
             "Pierre Højbjerg",
             "DEN"
            ],
            [
             "Richarlison",
             "BRA"
            ],
            [
             "Rodrigo Bentancur",
             "URU"
            ],
            [
             "Son Heung-min",
             "KOR"
            ],
            [
             "Yves Bissouma",
             "MLI"
            ]
           ],
           "hovertemplate": "Team=Tottenham<br>animation_frame=2324<br><b>SCA90</b>=%{x}<br><b>GCA90</b>=%{y}<br>text=%{text}<br>Player=%{customdata[0]}<br>Nation=%{customdata[1]}<extra></extra>",
           "ids": [
            "Brennan Johnson",
            "Dejan Kulusevski",
            "James Maddison",
            "Pape Matar Sarr",
            "Pierre Højbjerg",
            "Richarlison",
            "Rodrigo Bentancur",
            "Son Heung-min",
            "Yves Bissouma"
           ],
           "legendgroup": "Tottenham",
           "marker": {
            "color": "#FF6692",
            "symbol": "circle"
           },
           "mode": "markers+text",
           "name": "Tottenham",
           "orientation": "v",
           "showlegend": true,
           "text": [
            "Brennan Johnson",
            "Dejan Kulusevski",
            "James Maddison",
            "Pape Matar Sarr",
            "Pierre Højbjerg",
            "Richarlison",
            "Rodrigo Bentancur",
            "Son Heung-min",
            "Yves Bissouma"
           ],
           "type": "scatter",
           "x": [
            3.02,
            4.14,
            6.79,
            2.26,
            2.68,
            2.05,
            2.78,
            3.96,
            1.91
           ],
           "xaxis": "x",
           "y": [
            0.56,
            0.26,
            0.8,
            0.3,
            0.14,
            0.3,
            0.36,
            0.52,
            0.13
           ],
           "yaxis": "y"
          },
          {
           "customdata": [
            [
             "Edson Álvarez",
             "MEX"
            ],
            [
             "James Ward-Prowse",
             "ENG"
            ],
            [
             "Jarrod Bowen",
             "ENG"
            ],
            [
             "Lucas Paquetá",
             "BRA"
            ],
            [
             "Michail Antonio",
             "JAM"
            ],
            [
             "Mohammed Kudus",
             "GHA"
            ],
            [
             "Tomáš Souček",
             "CZE"
            ]
           ],
           "hovertemplate": "Team=West Ham<br>animation_frame=2324<br><b>SCA90</b>=%{x}<br><b>GCA90</b>=%{y}<br>text=%{text}<br>Player=%{customdata[0]}<br>Nation=%{customdata[1]}<extra></extra>",
           "ids": [
            "Edson Álvarez",
            "James Ward-Prowse",
            "Jarrod Bowen",
            "Lucas Paquetá",
            "Michail Antonio",
            "Mohammed Kudus",
            "Tomáš Souček"
           ],
           "legendgroup": "West Ham",
           "marker": {
            "color": "#FF97FF",
            "symbol": "circle"
           },
           "mode": "markers+text",
           "name": "West Ham",
           "orientation": "v",
           "showlegend": true,
           "text": [
            "Edson Álvarez",
            "James Ward-Prowse",
            "Jarrod Bowen",
            "Lucas Paquetá",
            "Michail Antonio",
            "Mohammed Kudus",
            "Tomáš Souček"
           ],
           "type": "scatter",
           "x": [
            1.21,
            3.48,
            2.42,
            3.26,
            1.75,
            3.62,
            1.32
           ],
           "xaxis": "x",
           "y": [
            0.08,
            0.48,
            0.36,
            0.55,
            0.27,
            0.58,
            0.13
           ],
           "yaxis": "y"
          },
          {
           "customdata": [
            [
             "Hwang Hee-chan",
             "KOR"
            ],
            [
             "Jean-Ricner Bellegarde",
             "FRA"
            ],
            [
             "João Gomes",
             "BRA"
            ],
            [
             "Mario Lemina",
             "GAB"
            ],
            [
             "Matheus Cunha",
             "BRA"
            ],
            [
             "Pablo Sarabia",
             "ESP"
            ],
            [
             "Pedro Neto",
             "POR"
            ],
            [
             "Tommy Doyle",
             "ENG"
            ]
           ],
           "hovertemplate": "Team=Wolves<br>animation_frame=2324<br><b>SCA90</b>=%{x}<br><b>GCA90</b>=%{y}<br>text=%{text}<br>Player=%{customdata[0]}<br>Nation=%{customdata[1]}<extra></extra>",
           "ids": [
            "Hwang Hee-chan",
            "Jean-Ricner Bellegarde",
            "João Gomes",
            "Mario Lemina",
            "Matheus Cunha",
            "Pablo Sarabia",
            "Pedro Neto",
            "Tommy Doyle"
           ],
           "legendgroup": "Wolves",
           "marker": {
            "color": "#FECB52",
            "symbol": "circle"
           },
           "mode": "markers+text",
           "name": "Wolves",
           "orientation": "v",
           "showlegend": true,
           "text": [
            "Hwang Hee-chan",
            "Jean-Ricner Bellegarde",
            "João Gomes",
            "Mario Lemina",
            "Matheus Cunha",
            "Pablo Sarabia",
            "Pedro Neto",
            "Tommy Doyle"
           ],
           "type": "scatter",
           "x": [
            2.04,
            2.81,
            2.21,
            1.42,
            2.88,
            4.49,
            4.45,
            1.91
           ],
           "xaxis": "x",
           "y": [
            0.38,
            0.19,
            0.14,
            0.15,
            0.48,
            0.57,
            0.83,
            0.37
           ],
           "yaxis": "y"
          },
          {
           "customdata": [
            [
             "Alex Iwobi",
             "NGA"
            ],
            [
             "Andreas Pereira",
             "BRA"
            ],
            [
             "Bobby Reid",
             "JAM"
            ],
            [
             "Harrison Reed",
             "ENG"
            ],
            [
             "Harry Wilson",
             "WAL"
            ],
            [
             "João Palhinha",
             "POR"
            ],
            [
             "Raúl Jiménez",
             "MEX"
            ],
            [
             "Rodrigo Muniz",
             "BRA"
            ],
            [
             "Saša Lukić",
             "SRB"
            ],
            [
             "Tom Cairney",
             "SCO"
            ],
            [
             "Willian",
             "BRA"
            ]
           ],
           "hovertemplate": "Team=Fulham<br>animation_frame=2324<br><b>SCA90</b>=%{x}<br><b>GCA90</b>=%{y}<br>text=%{text}<br>Player=%{customdata[0]}<br>Nation=%{customdata[1]}<extra></extra>",
           "ids": [
            "Alex Iwobi",
            "Andreas Pereira",
            "Bobby Reid",
            "Harrison Reed",
            "Harry Wilson",
            "João Palhinha",
            "Raúl Jiménez",
            "Rodrigo Muniz",
            "Saša Lukić",
            "Tom Cairney",
            "Willian"
           ],
           "legendgroup": "Fulham",
           "marker": {
            "color": "#636efa",
            "symbol": "circle"
           },
           "mode": "markers+text",
           "name": "Fulham",
           "orientation": "v",
           "showlegend": true,
           "text": [
            "Alex Iwobi",
            "Andreas Pereira",
            "Bobby Reid",
            "Harrison Reed",
            "Harry Wilson",
            "João Palhinha",
            "Raúl Jiménez",
            "Rodrigo Muniz",
            "Saša Lukić",
            "Tom Cairney",
            "Willian"
           ],
           "type": "scatter",
           "x": [
            4.23,
            4.72,
            2.17,
            1.97,
            3.61,
            1.1,
            1.74,
            2.2,
            2.17,
            4.3,
            4.87
           ],
           "xaxis": "x",
           "y": [
            0.41,
            0.52,
            0.25,
            0.34,
            0.56,
            0.07,
            0.19,
            0.11,
            0,
            0.79,
            0.44
           ],
           "yaxis": "y"
          },
          {
           "customdata": [
            [
             "Bryan Mbeumo",
             "CMR"
            ],
            [
             "Christian Nørgaard",
             "DEN"
            ],
            [
             "Frank Onyeka",
             "NGA"
            ],
            [
             "Ivan Toney",
             "ENG"
            ],
            [
             "Mathias Jensen",
             "DEN"
            ],
            [
             "Neal Maupay",
             "FRA"
            ],
            [
             "Yoane Wissa",
             "COD"
            ]
           ],
           "hovertemplate": "Team=Brentford<br>animation_frame=2324<br><b>SCA90</b>=%{x}<br><b>GCA90</b>=%{y}<br>text=%{text}<br>Player=%{customdata[0]}<br>Nation=%{customdata[1]}<extra></extra>",
           "ids": [
            "Bryan Mbeumo",
            "Christian Nørgaard",
            "Frank Onyeka",
            "Ivan Toney",
            "Mathias Jensen",
            "Neal Maupay",
            "Yoane Wissa"
           ],
           "legendgroup": "Brentford",
           "marker": {
            "color": "#ab63fa",
            "symbol": "circle"
           },
           "mode": "markers+text",
           "name": "Brentford",
           "orientation": "v",
           "showlegend": true,
           "text": [
            "Bryan Mbeumo",
            "Christian Nørgaard",
            "Frank Onyeka",
            "Ivan Toney",
            "Mathias Jensen",
            "Neal Maupay",
            "Yoane Wissa"
           ],
           "type": "scatter",
           "x": [
            3.77,
            2.26,
            2.48,
            2.42,
            3.55,
            2.72,
            2.31
           ],
           "xaxis": "x",
           "y": [
            0.46,
            0.11,
            0.08,
            0.37,
            0.33,
            0.34,
            0.36
           ],
           "yaxis": "y"
          },
          {
           "customdata": [
            [
             "Anthony Elanga",
             "SWE"
            ],
            [
             "Callum Hudson-Odoi",
             "ENG"
            ],
            [
             "Chris Wood",
             "NZL"
            ],
            [
             "Danilo",
             "BRA"
            ],
            [
             "Ibrahim Sangaré",
             "CIV"
            ],
            [
             "Morgan Gibbs-White",
             "ENG"
            ],
            [
             "Nicolás Domínguez",
             "ARG"
            ],
            [
             "Orel Mangala",
             "BEL"
            ],
            [
             "Ryan Yates",
             "ENG"
            ],
            [
             "Taiwo Awoniyi",
             "NGA"
            ]
           ],
           "hovertemplate": "Team=Nott'ham Forest<br>animation_frame=2324<br><b>SCA90</b>=%{x}<br><b>GCA90</b>=%{y}<br>text=%{text}<br>Player=%{customdata[0]}<br>Nation=%{customdata[1]}<extra></extra>",
           "ids": [
            "Anthony Elanga",
            "Callum Hudson-Odoi",
            "Chris Wood",
            "Danilo",
            "Ibrahim Sangaré",
            "Morgan Gibbs-White",
            "Nicolás Domínguez",
            "Orel Mangala",
            "Ryan Yates",
            "Taiwo Awoniyi"
           ],
           "legendgroup": "Nott'ham Forest",
           "marker": {
            "color": "#FFA15A",
            "symbol": "circle"
           },
           "mode": "markers+text",
           "name": "Nott'ham Forest",
           "orientation": "v",
           "showlegend": true,
           "text": [
            "Anthony Elanga",
            "Callum Hudson-Odoi",
            "Chris Wood",
            "Danilo",
            "Ibrahim Sangaré",
            "Morgan Gibbs-White",
            "Nicolás Domínguez",
            "Orel Mangala",
            "Ryan Yates",
            "Taiwo Awoniyi"
           ],
           "type": "scatter",
           "x": [
            2.59,
            3.98,
            2.19,
            2.41,
            1.57,
            4.25,
            2.11,
            1.15,
            1.36,
            2.6
           ],
           "xaxis": "x",
           "y": [
            0.48,
            0.29,
            0.2,
            0.2,
            0.17,
            0.51,
            0.12,
            0.12,
            0.18,
            0.52
           ],
           "yaxis": "y"
          },
          {
           "customdata": [
            [
             "Albert Sambi Lokonga",
             "BEL"
            ],
            [
             "Andros Townsend",
             "ENG"
            ],
            [
             "Carlton Morris",
             "ENG"
            ],
            [
             "Elijah Adebayo",
             "ENG"
            ],
            [
             "Jacob Brown",
             "SCO"
            ],
            [
             "Jordan Clark",
             "ENG"
            ],
            [
             "Marvelous Nakamba",
             "ZIM"
            ],
            [
             "Pelly Ruddock Mpanzu",
             "COD"
            ],
            [
             "Ross Barkley",
             "ENG"
            ],
            [
             "Tahith Chong",
             "NED"
            ]
           ],
           "hovertemplate": "Team=Luton Town<br>animation_frame=2324<br><b>SCA90</b>=%{x}<br><b>GCA90</b>=%{y}<br>text=%{text}<br>Player=%{customdata[0]}<br>Nation=%{customdata[1]}<extra></extra>",
           "ids": [
            "Albert Sambi Lokonga",
            "Andros Townsend",
            "Carlton Morris",
            "Elijah Adebayo",
            "Jacob Brown",
            "Jordan Clark",
            "Marvelous Nakamba",
            "Pelly Ruddock Mpanzu",
            "Ross Barkley",
            "Tahith Chong"
           ],
           "legendgroup": "Luton Town",
           "marker": {
            "color": "#19d3f3",
            "symbol": "circle"
           },
           "mode": "markers+text",
           "name": "Luton Town",
           "orientation": "v",
           "showlegend": true,
           "text": [
            "Albert Sambi Lokonga",
            "Andros Townsend",
            "Carlton Morris",
            "Elijah Adebayo",
            "Jacob Brown",
            "Jordan Clark",
            "Marvelous Nakamba",
            "Pelly Ruddock Mpanzu",
            "Ross Barkley",
            "Tahith Chong"
           ],
           "type": "scatter",
           "x": [
            1.86,
            2.68,
            2.23,
            1.97,
            1.33,
            2,
            1.03,
            1.55,
            3.58,
            2.22
           ],
           "xaxis": "x",
           "y": [
            0.21,
            0.45,
            0.25,
            0.32,
            0,
            0.07,
            0,
            0,
            0.38,
            0.18
           ],
           "yaxis": "y"
          }
         ],
         "name": "2324"
        },
        {
         "data": [
          {
           "customdata": [
            [
             "Bukayo Saka",
             "ENG"
            ],
            [
             "Declan Rice",
             "ENG"
            ],
            [
             "Gabriel Martinelli",
             "BRA"
            ],
            [
             "Kai Havertz",
             "GER"
            ],
            [
             "Leandro Trossard",
             "BEL"
            ]
           ],
           "hovertemplate": "Team=Arsenal<br>animation_frame=2425<br><b>SCA90</b>=%{x}<br><b>GCA90</b>=%{y}<br>text=%{text}<br>Player=%{customdata[0]}<br>Nation=%{customdata[1]}<extra></extra>",
           "ids": [
            "Bukayo Saka",
            "Declan Rice",
            "Gabriel Martinelli",
            "Kai Havertz",
            "Leandro Trossard"
           ],
           "legendgroup": "Arsenal",
           "marker": {
            "color": "#636efa",
            "symbol": "circle"
           },
           "mode": "markers+text",
           "name": "Arsenal",
           "orientation": "v",
           "showlegend": true,
           "text": [
            "Bukayo Saka",
            "Declan Rice",
            "Gabriel Martinelli",
            "Kai Havertz",
            "Leandro Trossard"
           ],
           "type": "scatter",
           "x": [
            6.32,
            3.39,
            2.57,
            2.4,
            3.43
           ],
           "xaxis": "x",
           "y": [
            1.49,
            0.3,
            0.19,
            0.13,
            0.2
           ],
           "yaxis": "y"
          },
          {
           "customdata": [
            [
             "John McGinn",
             "SCO"
            ],
            [
             "Morgan Rogers",
             "ENG"
            ],
            [
             "Ollie Watkins",
             "ENG"
            ],
            [
             "Youri Tielemans",
             "BEL"
            ]
           ],
           "hovertemplate": "Team=Aston Villa<br>animation_frame=2425<br><b>SCA90</b>=%{x}<br><b>GCA90</b>=%{y}<br>text=%{text}<br>Player=%{customdata[0]}<br>Nation=%{customdata[1]}<extra></extra>",
           "ids": [
            "John McGinn",
            "Morgan Rogers",
            "Ollie Watkins",
            "Youri Tielemans"
           ],
           "legendgroup": "Aston Villa",
           "marker": {
            "color": "#EF553B",
            "symbol": "circle"
           },
           "mode": "markers+text",
           "name": "Aston Villa",
           "orientation": "v",
           "showlegend": true,
           "text": [
            "John McGinn",
            "Morgan Rogers",
            "Ollie Watkins",
            "Youri Tielemans"
           ],
           "type": "scatter",
           "x": [
            3.29,
            3.47,
            2.37,
            3.93
           ],
           "xaxis": "x",
           "y": [
            0.34,
            0.39,
            0.4,
            0.43
           ],
           "yaxis": "y"
          },
          {
           "customdata": [
            [
             "Antoine Semenyo",
             "GHA"
            ],
            [
             "Evanilson",
             "BRA"
            ],
            [
             "Justin Kluivert",
             "NED"
            ],
            [
             "Marcus Tavernier",
             "ENG"
            ],
            [
             "Ryan Christie",
             "SCO"
            ]
           ],
           "hovertemplate": "Team=Bournemouth<br>animation_frame=2425<br><b>SCA90</b>=%{x}<br><b>GCA90</b>=%{y}<br>text=%{text}<br>Player=%{customdata[0]}<br>Nation=%{customdata[1]}<extra></extra>",
           "ids": [
            "Antoine Semenyo",
            "Evanilson",
            "Justin Kluivert",
            "Marcus Tavernier",
            "Ryan Christie"
           ],
           "legendgroup": "Bournemouth",
           "marker": {
            "color": "#00cc96",
            "symbol": "circle"
           },
           "mode": "markers+text",
           "name": "Bournemouth",
           "orientation": "v",
           "showlegend": true,
           "text": [
            "Antoine Semenyo",
            "Evanilson",
            "Justin Kluivert",
            "Marcus Tavernier",
            "Ryan Christie"
           ],
           "type": "scatter",
           "x": [
            3.77,
            2.9,
            3.32,
            4.82,
            3.97
           ],
           "xaxis": "x",
           "y": [
            0.26,
            0.53,
            0.51,
            0.63,
            0.24
           ],
           "yaxis": "y"
          },
          {
           "customdata": [
            [
             "Carlos Baleba",
             "CMR"
            ],
            [
             "Danny Welbeck",
             "ENG"
            ],
            [
             "Georginio Rutter",
             "FRA"
            ],
            [
             "Kaoru Mitoma",
             "JPN"
            ]
           ],
           "hovertemplate": "Team=Brighton<br>animation_frame=2425<br><b>SCA90</b>=%{x}<br><b>GCA90</b>=%{y}<br>text=%{text}<br>Player=%{customdata[0]}<br>Nation=%{customdata[1]}<extra></extra>",
           "ids": [
            "Carlos Baleba",
            "Danny Welbeck",
            "Georginio Rutter",
            "Kaoru Mitoma"
           ],
           "legendgroup": "Brighton",
           "marker": {
            "color": "#ab63fa",
            "symbol": "circle"
           },
           "mode": "markers+text",
           "name": "Brighton",
           "orientation": "v",
           "showlegend": true,
           "text": [
            "Carlos Baleba",
            "Danny Welbeck",
            "Georginio Rutter",
            "Kaoru Mitoma"
           ],
           "type": "scatter",
           "x": [
            2.46,
            2.35,
            3.35,
            3.67
           ],
           "xaxis": "x",
           "y": [
            0.18,
            0.32,
            0.36,
            0.37
           ],
           "yaxis": "y"
          },
          {
           "customdata": [
            [
             "Cole Palmer",
             "ENG"
            ],
            [
             "Enzo Fernández",
             "ARG"
            ],
            [
             "Moisés Caicedo",
             "ECU"
            ],
            [
             "Nicolas Jackson",
             "SEN"
            ],
            [
             "Noni Madueke",
             "ENG"
            ]
           ],
           "hovertemplate": "Team=Chelsea<br>animation_frame=2425<br><b>SCA90</b>=%{x}<br><b>GCA90</b>=%{y}<br>text=%{text}<br>Player=%{customdata[0]}<br>Nation=%{customdata[1]}<extra></extra>",
           "ids": [
            "Cole Palmer",
            "Enzo Fernández",
            "Moisés Caicedo",
            "Nicolas Jackson",
            "Noni Madueke"
           ],
           "legendgroup": "Chelsea",
           "marker": {
            "color": "#19d3f3",
            "symbol": "circle"
           },
           "mode": "markers+text",
           "name": "Chelsea",
           "orientation": "v",
           "showlegend": true,
           "text": [
            "Cole Palmer",
            "Enzo Fernández",
            "Moisés Caicedo",
            "Nicolas Jackson",
            "Noni Madueke"
           ],
           "type": "scatter",
           "x": [
            5.55,
            4.14,
            2.81,
            2.87,
            3.46
           ],
           "xaxis": "x",
           "y": [
            0.61,
            0.86,
            0.36,
            0.5,
            0.61
           ],
           "yaxis": "y"
          },
          {
           "customdata": [
            [
             "Eberechi Eze",
             "ENG"
            ],
            [
             "Ismaila Sarr",
             "SEN"
            ],
            [
             "Jean-Philippe Mateta",
             "FRA"
            ],
            [
             "Will Hughes",
             "ENG"
            ]
           ],
           "hovertemplate": "Team=Crystal Palace<br>animation_frame=2425<br><b>SCA90</b>=%{x}<br><b>GCA90</b>=%{y}<br>text=%{text}<br>Player=%{customdata[0]}<br>Nation=%{customdata[1]}<extra></extra>",
           "ids": [
            "Eberechi Eze",
            "Ismaila Sarr",
            "Jean-Philippe Mateta",
            "Will Hughes"
           ],
           "legendgroup": "Crystal Palace",
           "marker": {
            "color": "#FF6692",
            "symbol": "circle"
           },
           "mode": "markers+text",
           "name": "Crystal Palace",
           "orientation": "v",
           "showlegend": true,
           "text": [
            "Eberechi Eze",
            "Ismaila Sarr",
            "Jean-Philippe Mateta",
            "Will Hughes"
           ],
           "type": "scatter",
           "x": [
            4.51,
            4.03,
            2.01,
            3.97
           ],
           "xaxis": "x",
           "y": [
            0.25,
            0.36,
            0.22,
            0.47
           ],
           "yaxis": "y"
          },
          {
           "customdata": [
            [
             "Abdoulaye Doucouré",
             "MLI"
            ],
            [
             "Dominic Calvert-Lewin",
             "ENG"
            ],
            [
             "Dwight McNeil",
             "ENG"
            ],
            [
             "Idrissa Gana Gueye",
             "SEN"
            ],
            [
             "Iliman Ndiaye",
             "SEN"
            ]
           ],
           "hovertemplate": "Team=Everton<br>animation_frame=2425<br><b>SCA90</b>=%{x}<br><b>GCA90</b>=%{y}<br>text=%{text}<br>Player=%{customdata[0]}<br>Nation=%{customdata[1]}<extra></extra>",
           "ids": [
            "Abdoulaye Doucouré",
            "Dominic Calvert-Lewin",
            "Dwight McNeil",
            "Idrissa Gana Gueye",
            "Iliman Ndiaye"
           ],
           "legendgroup": "Everton",
           "marker": {
            "color": "#B6E880",
            "symbol": "circle"
           },
           "mode": "markers+text",
           "name": "Everton",
           "orientation": "v",
           "showlegend": true,
           "text": [
            "Abdoulaye Doucouré",
            "Dominic Calvert-Lewin",
            "Dwight McNeil",
            "Idrissa Gana Gueye",
            "Iliman Ndiaye"
           ],
           "type": "scatter",
           "x": [
            2.18,
            1.24,
            4.74,
            2.02,
            2.58
           ],
           "xaxis": "x",
           "y": [
            0.08,
            0.15,
            0.47,
            0,
            0.22
           ],
           "yaxis": "y"
          },
          {
           "customdata": [
            [
             "Facundo Buonanotte",
             "ARG"
            ],
            [
             "Harry Winks",
             "ENG"
            ],
            [
             "Jamie Vardy",
             "ENG"
            ],
            [
             "Wilfred Ndidi",
             "NGA"
            ]
           ],
           "hovertemplate": "Team=Leicester City<br>animation_frame=2425<br><b>SCA90</b>=%{x}<br><b>GCA90</b>=%{y}<br>text=%{text}<br>Player=%{customdata[0]}<br>Nation=%{customdata[1]}<extra></extra>",
           "ids": [
            "Facundo Buonanotte",
            "Harry Winks",
            "Jamie Vardy",
            "Wilfred Ndidi"
           ],
           "legendgroup": "Leicester City",
           "marker": {
            "color": "#FF97FF",
            "symbol": "circle"
           },
           "mode": "markers+text",
           "name": "Leicester City",
           "orientation": "v",
           "showlegend": true,
           "text": [
            "Facundo Buonanotte",
            "Harry Winks",
            "Jamie Vardy",
            "Wilfred Ndidi"
           ],
           "type": "scatter",
           "x": [
            3.61,
            2.77,
            1.55,
            1.19
           ],
           "xaxis": "x",
           "y": [
            0.39,
            0.3,
            0.56,
            0.22
           ],
           "yaxis": "y"
          },
          {
           "customdata": [
            [
             "Alexis Mac Allister",
             "ARG"
            ],
            [
             "Dominik Szoboszlai",
             "HUN"
            ],
            [
             "Luis Díaz",
             "COL"
            ],
            [
             "Mohamed Salah",
             "EGY"
            ],
            [
             "Ryan Gravenberch",
             "NED"
            ]
           ],
           "hovertemplate": "Team=Liverpool<br>animation_frame=2425<br><b>SCA90</b>=%{x}<br><b>GCA90</b>=%{y}<br>text=%{text}<br>Player=%{customdata[0]}<br>Nation=%{customdata[1]}<extra></extra>",
           "ids": [
            "Alexis Mac Allister",
            "Dominik Szoboszlai",
            "Luis Díaz",
            "Mohamed Salah",
            "Ryan Gravenberch"
           ],
           "legendgroup": "Liverpool",
           "marker": {
            "color": "#FECB52",
            "symbol": "circle"
           },
           "mode": "markers+text",
           "name": "Liverpool",
           "orientation": "v",
           "showlegend": true,
           "text": [
            "Alexis Mac Allister",
            "Dominik Szoboszlai",
            "Luis Díaz",
            "Mohamed Salah",
            "Ryan Gravenberch"
           ],
           "type": "scatter",
           "x": [
            3.85,
            4.11,
            5.12,
            4.49,
            1.53
           ],
           "xaxis": "x",
           "y": [
            0.26,
            0.64,
            0.84,
            0.77,
            0.32
           ],
           "yaxis": "y"
          },
          {
           "customdata": [
            [
             "Bernardo Silva",
             "POR"
            ],
            [
             "Erling Haaland",
             "NOR"
            ],
            [
             "Mateo Kovačić",
             "CRO"
            ],
            [
             "İlkay Gündoğan",
             "GER"
            ]
           ],
           "hovertemplate": "Team=Manchester City<br>animation_frame=2425<br><b>SCA90</b>=%{x}<br><b>GCA90</b>=%{y}<br>text=%{text}<br>Player=%{customdata[0]}<br>Nation=%{customdata[1]}<extra></extra>",
           "ids": [
            "Bernardo Silva",
            "Erling Haaland",
            "Mateo Kovačić",
            "İlkay Gündoğan"
           ],
           "legendgroup": "Manchester City",
           "marker": {
            "color": "#636efa",
            "symbol": "circle"
           },
           "mode": "markers+text",
           "name": "Manchester City",
           "orientation": "v",
           "showlegend": true,
           "text": [
            "Bernardo Silva",
            "Erling Haaland",
            "Mateo Kovačić",
            "İlkay Gündoğan"
           ],
           "type": "scatter",
           "x": [
            3.86,
            1.88,
            3.11,
            3.23
           ],
           "xaxis": "x",
           "y": [
            0.46,
            0.29,
            0.37,
            0.24
           ],
           "yaxis": "y"
          },
          {
           "customdata": [
            [
             "Alejandro Garnacho",
             "ARG"
            ],
            [
             "Bruno Fernandes",
             "POR"
            ],
            [
             "Kobbie Mainoo",
             "ENG"
            ],
            [
             "Marcus Rashford",
             "ENG"
            ]
           ],
           "hovertemplate": "Team=Manchester Utd<br>animation_frame=2425<br><b>SCA90</b>=%{x}<br><b>GCA90</b>=%{y}<br>text=%{text}<br>Player=%{customdata[0]}<br>Nation=%{customdata[1]}<extra></extra>",
           "ids": [
            "Alejandro Garnacho",
            "Bruno Fernandes",
            "Kobbie Mainoo",
            "Marcus Rashford"
           ],
           "legendgroup": "Manchester Utd",
           "marker": {
            "color": "#EF553B",
            "symbol": "circle"
           },
           "mode": "markers+text",
           "name": "Manchester Utd",
           "orientation": "v",
           "showlegend": true,
           "text": [
            "Alejandro Garnacho",
            "Bruno Fernandes",
            "Kobbie Mainoo",
            "Marcus Rashford"
           ],
           "type": "scatter",
           "x": [
            2.86,
            4.85,
            1.69,
            2.67
           ],
           "xaxis": "x",
           "y": [
            0.18,
            0.38,
            0.1,
            0.09
           ],
           "yaxis": "y"
          },
          {
           "customdata": [
            [
             "Alexander Isak",
             "SWE"
            ],
            [
             "Anthony Gordon",
             "ENG"
            ],
            [
             "Bruno Guimarães",
             "BRA"
            ],
            [
             "Joelinton",
             "BRA"
            ]
           ],
           "hovertemplate": "Team=Newcastle Utd<br>animation_frame=2425<br><b>SCA90</b>=%{x}<br><b>GCA90</b>=%{y}<br>text=%{text}<br>Player=%{customdata[0]}<br>Nation=%{customdata[1]}<extra></extra>",
           "ids": [
            "Alexander Isak",
            "Anthony Gordon",
            "Bruno Guimarães",
            "Joelinton"
           ],
           "legendgroup": "Newcastle Utd",
           "marker": {
            "color": "#00cc96",
            "symbol": "circle"
           },
           "mode": "markers+text",
           "name": "Newcastle Utd",
           "orientation": "v",
           "showlegend": true,
           "text": [
            "Alexander Isak",
            "Anthony Gordon",
            "Bruno Guimarães",
            "Joelinton"
           ],
           "type": "scatter",
           "x": [
            3.6,
            4.81,
            3.05,
            2.45
           ],
           "xaxis": "x",
           "y": [
            0.45,
            0.64,
            0.37,
            0.2
           ],
           "yaxis": "y"
          },
          {
           "customdata": [
            [
             "Adam Armstrong",
             "ENG"
            ],
            [
             "Flynn Downes",
             "ENG"
            ],
            [
             "Joe Aribo",
             "NGA"
            ],
            [
             "Mateus Fernandes",
             "POR"
            ],
            [
             "Tyler Dibling",
             "ENG"
            ]
           ],
           "hovertemplate": "Team=Southampton<br>animation_frame=2425<br><b>SCA90</b>=%{x}<br><b>GCA90</b>=%{y}<br>text=%{text}<br>Player=%{customdata[0]}<br>Nation=%{customdata[1]}<extra></extra>",
           "ids": [
            "Adam Armstrong",
            "Flynn Downes",
            "Joe Aribo",
            "Mateus Fernandes",
            "Tyler Dibling"
           ],
           "legendgroup": "Southampton",
           "marker": {
            "color": "#19d3f3",
            "symbol": "circle"
           },
           "mode": "markers+text",
           "name": "Southampton",
           "orientation": "v",
           "showlegend": true,
           "text": [
            "Adam Armstrong",
            "Flynn Downes",
            "Joe Aribo",
            "Mateus Fernandes",
            "Tyler Dibling"
           ],
           "type": "scatter",
           "x": [
            1.34,
            1.58,
            1.69,
            1.97,
            3.32
           ],
           "xaxis": "x",
           "y": [
            0.29,
            0.07,
            0,
            0.22,
            0.28
           ],
           "yaxis": "y"
          },
          {
           "customdata": [
            [
             "Brennan Johnson",
             "WAL"
            ],
            [
             "Dejan Kulusevski",
             "SWE"
            ],
            [
             "Dominic Solanke",
             "ENG"
            ],
            [
             "James Maddison",
             "ENG"
            ],
            [
             "Pape Matar Sarr",
             "SEN"
            ],
            [
             "Son Heung-min",
             "KOR"
            ]
           ],
           "hovertemplate": "Team=Tottenham<br>animation_frame=2425<br><b>SCA90</b>=%{x}<br><b>GCA90</b>=%{y}<br>text=%{text}<br>Player=%{customdata[0]}<br>Nation=%{customdata[1]}<extra></extra>",
           "ids": [
            "Brennan Johnson",
            "Dejan Kulusevski",
            "Dominic Solanke",
            "James Maddison",
            "Pape Matar Sarr",
            "Son Heung-min"
           ],
           "legendgroup": "Tottenham",
           "marker": {
            "color": "#FF6692",
            "symbol": "circle"
           },
           "mode": "markers+text",
           "name": "Tottenham",
           "orientation": "v",
           "showlegend": true,
           "text": [
            "Brennan Johnson",
            "Dejan Kulusevski",
            "Dominic Solanke",
            "James Maddison",
            "Pape Matar Sarr",
            "Son Heung-min"
           ],
           "type": "scatter",
           "x": [
            1.94,
            5.45,
            1.89,
            5.08,
            2.27,
            5.49
           ],
           "xaxis": "x",
           "y": [
            0.3,
            0.41,
            0.51,
            1.08,
            0.49,
            0.76
           ],
           "yaxis": "y"
          },
          {
           "customdata": [
            [
             "Jarrod Bowen",
             "ENG"
            ],
            [
             "Lucas Paquetá",
             "BRA"
            ],
            [
             "Mohammed Kudus",
             "GHA"
            ],
            [
             "Tomáš Souček",
             "CZE"
            ]
           ],
           "hovertemplate": "Team=West Ham<br>animation_frame=2425<br><b>SCA90</b>=%{x}<br><b>GCA90</b>=%{y}<br>text=%{text}<br>Player=%{customdata[0]}<br>Nation=%{customdata[1]}<extra></extra>",
           "ids": [
            "Jarrod Bowen",
            "Lucas Paquetá",
            "Mohammed Kudus",
            "Tomáš Souček"
           ],
           "legendgroup": "West Ham",
           "marker": {
            "color": "#FF97FF",
            "symbol": "circle"
           },
           "mode": "markers+text",
           "name": "West Ham",
           "orientation": "v",
           "showlegend": true,
           "text": [
            "Jarrod Bowen",
            "Lucas Paquetá",
            "Mohammed Kudus",
            "Tomáš Souček"
           ],
           "type": "scatter",
           "x": [
            4.36,
            3.47,
            4.27,
            2.24
           ],
           "xaxis": "x",
           "y": [
            0.54,
            0.38,
            0.09,
            0.15
           ],
           "yaxis": "y"
          },
          {
           "customdata": [
            [
             "João Gomes",
             "BRA"
            ],
            [
             "Jørgen Strand Larsen",
             "NOR"
            ],
            [
             "Matheus Cunha",
             "BRA"
            ]
           ],
           "hovertemplate": "Team=Wolves<br>animation_frame=2425<br><b>SCA90</b>=%{x}<br><b>GCA90</b>=%{y}<br>text=%{text}<br>Player=%{customdata[0]}<br>Nation=%{customdata[1]}<extra></extra>",
           "ids": [
            "João Gomes",
            "Jørgen Strand Larsen",
            "Matheus Cunha"
           ],
           "legendgroup": "Wolves",
           "marker": {
            "color": "#FECB52",
            "symbol": "circle"
           },
           "mode": "markers+text",
           "name": "Wolves",
           "orientation": "v",
           "showlegend": true,
           "text": [
            "João Gomes",
            "Jørgen Strand Larsen",
            "Matheus Cunha"
           ],
           "type": "scatter",
           "x": [
            1.66,
            1.35,
            3.92
           ],
           "xaxis": "x",
           "y": [
            0.13,
            0.19,
            0.44
           ],
           "yaxis": "y"
          },
          {
           "customdata": [
            [
             "Alex Iwobi",
             "NGA"
            ],
            [
             "Andreas Pereira",
             "BRA"
            ],
            [
             "Emile Smith Rowe",
             "ENG"
            ],
            [
             "Raúl Jiménez",
             "MEX"
            ],
            [
             "Sander Berge",
             "NOR"
            ]
           ],
           "hovertemplate": "Team=Fulham<br>animation_frame=2425<br><b>SCA90</b>=%{x}<br><b>GCA90</b>=%{y}<br>text=%{text}<br>Player=%{customdata[0]}<br>Nation=%{customdata[1]}<extra></extra>",
           "ids": [
            "Alex Iwobi",
            "Andreas Pereira",
            "Emile Smith Rowe",
            "Raúl Jiménez",
            "Sander Berge"
           ],
           "legendgroup": "Fulham",
           "marker": {
            "color": "#636efa",
            "symbol": "circle"
           },
           "mode": "markers+text",
           "name": "Fulham",
           "orientation": "v",
           "showlegend": true,
           "text": [
            "Alex Iwobi",
            "Andreas Pereira",
            "Emile Smith Rowe",
            "Raúl Jiménez",
            "Sander Berge"
           ],
           "type": "scatter",
           "x": [
            3.96,
            5.52,
            3.3,
            2.08,
            1.6
           ],
           "xaxis": "x",
           "y": [
            0.61,
            0.18,
            0.66,
            0.36,
            0.09
           ],
           "yaxis": "y"
          },
          {
           "customdata": [
            [
             "Bryan Mbeumo",
             "CMR"
            ],
            [
             "Christian Nørgaard",
             "DEN"
            ],
            [
             "Mikkel Damsgaard",
             "DEN"
            ],
            [
             "Vitaly Janelt",
             "GER"
            ],
            [
             "Yoane Wissa",
             "COD"
            ]
           ],
           "hovertemplate": "Team=Brentford<br>animation_frame=2425<br><b>SCA90</b>=%{x}<br><b>GCA90</b>=%{y}<br>text=%{text}<br>Player=%{customdata[0]}<br>Nation=%{customdata[1]}<extra></extra>",
           "ids": [
            "Bryan Mbeumo",
            "Christian Nørgaard",
            "Mikkel Damsgaard",
            "Vitaly Janelt",
            "Yoane Wissa"
           ],
           "legendgroup": "Brentford",
           "marker": {
            "color": "#ab63fa",
            "symbol": "circle"
           },
           "mode": "markers+text",
           "name": "Brentford",
           "orientation": "v",
           "showlegend": true,
           "text": [
            "Bryan Mbeumo",
            "Christian Nørgaard",
            "Mikkel Damsgaard",
            "Vitaly Janelt",
            "Yoane Wissa"
           ],
           "type": "scatter",
           "x": [
            3.6,
            1.64,
            3.41,
            1.33,
            2.23
           ],
           "xaxis": "x",
           "y": [
            0.47,
            0.55,
            0.76,
            0.22,
            0.43
           ],
           "yaxis": "y"
          },
          {
           "customdata": [
            [
             "Callum Hudson-Odoi",
             "ENG"
            ],
            [
             "Chris Wood",
             "NZL"
            ],
            [
             "Elliot Anderson",
             "ENG"
            ],
            [
             "Morgan Gibbs-White",
             "ENG"
            ],
            [
             "Ryan Yates",
             "ENG"
            ]
           ],
           "hovertemplate": "Team=Nott'ham Forest<br>animation_frame=2425<br><b>SCA90</b>=%{x}<br><b>GCA90</b>=%{y}<br>text=%{text}<br>Player=%{customdata[0]}<br>Nation=%{customdata[1]}<extra></extra>",
           "ids": [
            "Callum Hudson-Odoi",
            "Chris Wood",
            "Elliot Anderson",
            "Morgan Gibbs-White",
            "Ryan Yates"
           ],
           "legendgroup": "Nott'ham Forest",
           "marker": {
            "color": "#FFA15A",
            "symbol": "circle"
           },
           "mode": "markers+text",
           "name": "Nott'ham Forest",
           "orientation": "v",
           "showlegend": true,
           "text": [
            "Callum Hudson-Odoi",
            "Chris Wood",
            "Elliot Anderson",
            "Morgan Gibbs-White",
            "Ryan Yates"
           ],
           "type": "scatter",
           "x": [
            4.61,
            1.02,
            4.73,
            4.11,
            1.92
           ],
           "xaxis": "x",
           "y": [
            0.37,
            0,
            0.84,
            0.54,
            0.07
           ],
           "yaxis": "y"
          },
          {
           "customdata": [
            [
             "Liam Delap",
             "ENG"
            ],
            [
             "Omari Hutchinson",
             "ENG"
            ],
            [
             "Sam Morsy",
             "EGY"
            ]
           ],
           "hovertemplate": "Team=Ipswich Town<br>animation_frame=2425<br><b>SCA90</b>=%{x}<br><b>GCA90</b>=%{y}<br>text=%{text}<br>Player=%{customdata[0]}<br>Nation=%{customdata[1]}<extra></extra>",
           "ids": [
            "Liam Delap",
            "Omari Hutchinson",
            "Sam Morsy"
           ],
           "legendgroup": "Ipswich Town",
           "marker": {
            "color": "#FF6692",
            "symbol": "circle"
           },
           "mode": "markers+text",
           "name": "Ipswich Town",
           "orientation": "v",
           "showlegend": true,
           "text": [
            "Liam Delap",
            "Omari Hutchinson",
            "Sam Morsy"
           ],
           "type": "scatter",
           "x": [
            2.43,
            2.59,
            1.7
           ],
           "xaxis": "x",
           "y": [
            0.15,
            0.27,
            0.06
           ],
           "yaxis": "y"
          }
         ],
         "name": "2425"
        }
       ],
       "layout": {
        "height": 720,
        "images": [
         {
          "sizex": 0.2,
          "sizey": 0.2,
          "source": "data:image/png;base64,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",
          "x": 1,
          "xanchor": "right",
          "xref": "paper",
          "y": 1.03,
          "yanchor": "bottom",
          "yref": "paper"
         }
        ],
        "legend": {
         "title": {
          "text": "Team"
         },
         "tracegroupgap": 0
        },
        "margin": {
         "b": 20,
         "l": 20,
         "r": 20,
         "t": 120
        },
        "paper_bgcolor": "lavender",
        "showlegend": true,
        "sliders": [
         {
          "active": 0,
          "currentvalue": {
           "prefix": "animation_frame="
          },
          "len": 0.9,
          "pad": {
           "b": 10,
           "t": 60
          },
          "steps": [
           {
            "args": [
             [
              "1920"
             ],
             {
              "frame": {
               "duration": 0,
               "redraw": false
              },
              "fromcurrent": true,
              "mode": "immediate",
              "transition": {
               "duration": 0,
               "easing": "linear"
              }
             }
            ],
            "label": "1920",
            "method": "animate"
           },
           {
            "args": [
             [
              "2021"
             ],
             {
              "frame": {
               "duration": 0,
               "redraw": false
              },
              "fromcurrent": true,
              "mode": "immediate",
              "transition": {
               "duration": 0,
               "easing": "linear"
              }
             }
            ],
            "label": "2021",
            "method": "animate"
           },
           {
            "args": [
             [
              "2122"
             ],
             {
              "frame": {
               "duration": 0,
               "redraw": false
              },
              "fromcurrent": true,
              "mode": "immediate",
              "transition": {
               "duration": 0,
               "easing": "linear"
              }
             }
            ],
            "label": "2122",
            "method": "animate"
           },
           {
            "args": [
             [
              "2223"
             ],
             {
              "frame": {
               "duration": 0,
               "redraw": false
              },
              "fromcurrent": true,
              "mode": "immediate",
              "transition": {
               "duration": 0,
               "easing": "linear"
              }
             }
            ],
            "label": "2223",
            "method": "animate"
           },
           {
            "args": [
             [
              "2324"
             ],
             {
              "frame": {
               "duration": 0,
               "redraw": false
              },
              "fromcurrent": true,
              "mode": "immediate",
              "transition": {
               "duration": 0,
               "easing": "linear"
              }
             }
            ],
            "label": "2324",
            "method": "animate"
           },
           {
            "args": [
             [
              "2425"
             ],
             {
              "frame": {
               "duration": 0,
               "redraw": false
              },
              "fromcurrent": true,
              "mode": "immediate",
              "transition": {
               "duration": 0,
               "easing": "linear"
              }
             }
            ],
            "label": "2425",
            "method": "animate"
           }
          ],
          "x": 0.1,
          "xanchor": "left",
          "y": 0,
          "yanchor": "top"
         }
        ],
        "template": {
         "data": {
          "bar": [
           {
            "error_x": {
             "color": "#2a3f5f"
            },
            "error_y": {
             "color": "#2a3f5f"
            },
            "marker": {
             "line": {
              "color": "#E5ECF6",
              "width": 0.5
             },
             "pattern": {
              "fillmode": "overlay",
              "size": 10,
              "solidity": 0.2
             }
            },
            "type": "bar"
           }
          ],
          "barpolar": [
           {
            "marker": {
             "line": {
              "color": "#E5ECF6",
              "width": 0.5
             },
             "pattern": {
              "fillmode": "overlay",
              "size": 10,
              "solidity": 0.2
             }
            },
            "type": "barpolar"
           }
          ],
          "carpet": [
           {
            "aaxis": {
             "endlinecolor": "#2a3f5f",
             "gridcolor": "white",
             "linecolor": "white",
             "minorgridcolor": "white",
             "startlinecolor": "#2a3f5f"
            },
            "baxis": {
             "endlinecolor": "#2a3f5f",
             "gridcolor": "white",
             "linecolor": "white",
             "minorgridcolor": "white",
             "startlinecolor": "#2a3f5f"
            },
            "type": "carpet"
           }
          ],
          "choropleth": [
           {
            "colorbar": {
             "outlinewidth": 0,
             "ticks": ""
            },
            "type": "choropleth"
           }
          ],
          "contour": [
           {
            "colorbar": {
             "outlinewidth": 0,
             "ticks": ""
            },
            "colorscale": [
             [
              0,
              "#0d0887"
             ],
             [
              0.1111111111111111,
              "#46039f"
             ],
             [
              0.2222222222222222,
              "#7201a8"
             ],
             [
              0.3333333333333333,
              "#9c179e"
             ],
             [
              0.4444444444444444,
              "#bd3786"
             ],
             [
              0.5555555555555556,
              "#d8576b"
             ],
             [
              0.6666666666666666,
              "#ed7953"
             ],
             [
              0.7777777777777778,
              "#fb9f3a"
             ],
             [
              0.8888888888888888,
              "#fdca26"
             ],
             [
              1,
              "#f0f921"
             ]
            ],
            "type": "contour"
           }
          ],
          "contourcarpet": [
           {
            "colorbar": {
             "outlinewidth": 0,
             "ticks": ""
            },
            "type": "contourcarpet"
           }
          ],
          "heatmap": [
           {
            "colorbar": {
             "outlinewidth": 0,
             "ticks": ""
            },
            "colorscale": [
             [
              0,
              "#0d0887"
             ],
             [
              0.1111111111111111,
              "#46039f"
             ],
             [
              0.2222222222222222,
              "#7201a8"
             ],
             [
              0.3333333333333333,
              "#9c179e"
             ],
             [
              0.4444444444444444,
              "#bd3786"
             ],
             [
              0.5555555555555556,
              "#d8576b"
             ],
             [
              0.6666666666666666,
              "#ed7953"
             ],
             [
              0.7777777777777778,
              "#fb9f3a"
             ],
             [
              0.8888888888888888,
              "#fdca26"
             ],
             [
              1,
              "#f0f921"
             ]
            ],
            "type": "heatmap"
           }
          ],
          "heatmapgl": [
           {
            "colorbar": {
             "outlinewidth": 0,
             "ticks": ""
            },
            "colorscale": [
             [
              0,
              "#0d0887"
             ],
             [
              0.1111111111111111,
              "#46039f"
             ],
             [
              0.2222222222222222,
              "#7201a8"
             ],
             [
              0.3333333333333333,
              "#9c179e"
             ],
             [
              0.4444444444444444,
              "#bd3786"
             ],
             [
              0.5555555555555556,
              "#d8576b"
             ],
             [
              0.6666666666666666,
              "#ed7953"
             ],
             [
              0.7777777777777778,
              "#fb9f3a"
             ],
             [
              0.8888888888888888,
              "#fdca26"
             ],
             [
              1,
              "#f0f921"
             ]
            ],
            "type": "heatmapgl"
           }
          ],
          "histogram": [
           {
            "marker": {
             "pattern": {
              "fillmode": "overlay",
              "size": 10,
              "solidity": 0.2
             }
            },
            "type": "histogram"
           }
          ],
          "histogram2d": [
           {
            "colorbar": {
             "outlinewidth": 0,
             "ticks": ""
            },
            "colorscale": [
             [
              0,
              "#0d0887"
             ],
             [
              0.1111111111111111,
              "#46039f"
             ],
             [
              0.2222222222222222,
              "#7201a8"
             ],
             [
              0.3333333333333333,
              "#9c179e"
             ],
             [
              0.4444444444444444,
              "#bd3786"
             ],
             [
              0.5555555555555556,
              "#d8576b"
             ],
             [
              0.6666666666666666,
              "#ed7953"
             ],
             [
              0.7777777777777778,
              "#fb9f3a"
             ],
             [
              0.8888888888888888,
              "#fdca26"
             ],
             [
              1,
              "#f0f921"
             ]
            ],
            "type": "histogram2d"
           }
          ],
          "histogram2dcontour": [
           {
            "colorbar": {
             "outlinewidth": 0,
             "ticks": ""
            },
            "colorscale": [
             [
              0,
              "#0d0887"
             ],
             [
              0.1111111111111111,
              "#46039f"
             ],
             [
              0.2222222222222222,
              "#7201a8"
             ],
             [
              0.3333333333333333,
              "#9c179e"
             ],
             [
              0.4444444444444444,
              "#bd3786"
             ],
             [
              0.5555555555555556,
              "#d8576b"
             ],
             [
              0.6666666666666666,
              "#ed7953"
             ],
             [
              0.7777777777777778,
              "#fb9f3a"
             ],
             [
              0.8888888888888888,
              "#fdca26"
             ],
             [
              1,
              "#f0f921"
             ]
            ],
            "type": "histogram2dcontour"
           }
          ],
          "mesh3d": [
           {
            "colorbar": {
             "outlinewidth": 0,
             "ticks": ""
            },
            "type": "mesh3d"
           }
          ],
          "parcoords": [
           {
            "line": {
             "colorbar": {
              "outlinewidth": 0,
              "ticks": ""
             }
            },
            "type": "parcoords"
           }
          ],
          "pie": [
           {
            "automargin": true,
            "type": "pie"
           }
          ],
          "scatter": [
           {
            "fillpattern": {
             "fillmode": "overlay",
             "size": 10,
             "solidity": 0.2
            },
            "type": "scatter"
           }
          ],
          "scatter3d": [
           {
            "line": {
             "colorbar": {
              "outlinewidth": 0,
              "ticks": ""
             }
            },
            "marker": {
             "colorbar": {
              "outlinewidth": 0,
              "ticks": ""
             }
            },
            "type": "scatter3d"
           }
          ],
          "scattercarpet": [
           {
            "marker": {
             "colorbar": {
              "outlinewidth": 0,
              "ticks": ""
             }
            },
            "type": "scattercarpet"
           }
          ],
          "scattergeo": [
           {
            "marker": {
             "colorbar": {
              "outlinewidth": 0,
              "ticks": ""
             }
            },
            "type": "scattergeo"
           }
          ],
          "scattergl": [
           {
            "marker": {
             "colorbar": {
              "outlinewidth": 0,
              "ticks": ""
             }
            },
            "type": "scattergl"
           }
          ],
          "scattermapbox": [
           {
            "marker": {
             "colorbar": {
              "outlinewidth": 0,
              "ticks": ""
             }
            },
            "type": "scattermapbox"
           }
          ],
          "scatterpolar": [
           {
            "marker": {
             "colorbar": {
              "outlinewidth": 0,
              "ticks": ""
             }
            },
            "type": "scatterpolar"
           }
          ],
          "scatterpolargl": [
           {
            "marker": {
             "colorbar": {
              "outlinewidth": 0,
              "ticks": ""
             }
            },
            "type": "scatterpolargl"
           }
          ],
          "scatterternary": [
           {
            "marker": {
             "colorbar": {
              "outlinewidth": 0,
              "ticks": ""
             }
            },
            "type": "scatterternary"
           }
          ],
          "surface": [
           {
            "colorbar": {
             "outlinewidth": 0,
             "ticks": ""
            },
            "colorscale": [
             [
              0,
              "#0d0887"
             ],
             [
              0.1111111111111111,
              "#46039f"
             ],
             [
              0.2222222222222222,
              "#7201a8"
             ],
             [
              0.3333333333333333,
              "#9c179e"
             ],
             [
              0.4444444444444444,
              "#bd3786"
             ],
             [
              0.5555555555555556,
              "#d8576b"
             ],
             [
              0.6666666666666666,
              "#ed7953"
             ],
             [
              0.7777777777777778,
              "#fb9f3a"
             ],
             [
              0.8888888888888888,
              "#fdca26"
             ],
             [
              1,
              "#f0f921"
             ]
            ],
            "type": "surface"
           }
          ],
          "table": [
           {
            "cells": {
             "fill": {
              "color": "#EBF0F8"
             },
             "line": {
              "color": "white"
             }
            },
            "header": {
             "fill": {
              "color": "#C8D4E3"
             },
             "line": {
              "color": "white"
             }
            },
            "type": "table"
           }
          ]
         },
         "layout": {
          "annotationdefaults": {
           "arrowcolor": "#2a3f5f",
           "arrowhead": 0,
           "arrowwidth": 1
          },
          "autotypenumbers": "strict",
          "coloraxis": {
           "colorbar": {
            "outlinewidth": 0,
            "ticks": ""
           }
          },
          "colorscale": {
           "diverging": [
            [
             0,
             "#8e0152"
            ],
            [
             0.1,
             "#c51b7d"
            ],
            [
             0.2,
             "#de77ae"
            ],
            [
             0.3,
             "#f1b6da"
            ],
            [
             0.4,
             "#fde0ef"
            ],
            [
             0.5,
             "#f7f7f7"
            ],
            [
             0.6,
             "#e6f5d0"
            ],
            [
             0.7,
             "#b8e186"
            ],
            [
             0.8,
             "#7fbc41"
            ],
            [
             0.9,
             "#4d9221"
            ],
            [
             1,
             "#276419"
            ]
           ],
           "sequential": [
            [
             0,
             "#0d0887"
            ],
            [
             0.1111111111111111,
             "#46039f"
            ],
            [
             0.2222222222222222,
             "#7201a8"
            ],
            [
             0.3333333333333333,
             "#9c179e"
            ],
            [
             0.4444444444444444,
             "#bd3786"
            ],
            [
             0.5555555555555556,
             "#d8576b"
            ],
            [
             0.6666666666666666,
             "#ed7953"
            ],
            [
             0.7777777777777778,
             "#fb9f3a"
            ],
            [
             0.8888888888888888,
             "#fdca26"
            ],
            [
             1,
             "#f0f921"
            ]
           ],
           "sequentialminus": [
            [
             0,
             "#0d0887"
            ],
            [
             0.1111111111111111,
             "#46039f"
            ],
            [
             0.2222222222222222,
             "#7201a8"
            ],
            [
             0.3333333333333333,
             "#9c179e"
            ],
            [
             0.4444444444444444,
             "#bd3786"
            ],
            [
             0.5555555555555556,
             "#d8576b"
            ],
            [
             0.6666666666666666,
             "#ed7953"
            ],
            [
             0.7777777777777778,
             "#fb9f3a"
            ],
            [
             0.8888888888888888,
             "#fdca26"
            ],
            [
             1,
             "#f0f921"
            ]
           ]
          },
          "colorway": [
           "#636efa",
           "#EF553B",
           "#00cc96",
           "#ab63fa",
           "#FFA15A",
           "#19d3f3",
           "#FF6692",
           "#B6E880",
           "#FF97FF",
           "#FECB52"
          ],
          "font": {
           "color": "#2a3f5f"
          },
          "geo": {
           "bgcolor": "white",
           "lakecolor": "white",
           "landcolor": "#E5ECF6",
           "showlakes": true,
           "showland": true,
           "subunitcolor": "white"
          },
          "hoverlabel": {
           "align": "left"
          },
          "hovermode": "closest",
          "mapbox": {
           "style": "light"
          },
          "paper_bgcolor": "white",
          "plot_bgcolor": "#E5ECF6",
          "polar": {
           "angularaxis": {
            "gridcolor": "white",
            "linecolor": "white",
            "ticks": ""
           },
           "bgcolor": "#E5ECF6",
           "radialaxis": {
            "gridcolor": "white",
            "linecolor": "white",
            "ticks": ""
           }
          },
          "scene": {
           "xaxis": {
            "backgroundcolor": "#E5ECF6",
            "gridcolor": "white",
            "gridwidth": 2,
            "linecolor": "white",
            "showbackground": true,
            "ticks": "",
            "zerolinecolor": "white"
           },
           "yaxis": {
            "backgroundcolor": "#E5ECF6",
            "gridcolor": "white",
            "gridwidth": 2,
            "linecolor": "white",
            "showbackground": true,
            "ticks": "",
            "zerolinecolor": "white"
           },
           "zaxis": {
            "backgroundcolor": "#E5ECF6",
            "gridcolor": "white",
            "gridwidth": 2,
            "linecolor": "white",
            "showbackground": true,
            "ticks": "",
            "zerolinecolor": "white"
           }
          },
          "shapedefaults": {
           "line": {
            "color": "#2a3f5f"
           }
          },
          "ternary": {
           "aaxis": {
            "gridcolor": "white",
            "linecolor": "white",
            "ticks": ""
           },
           "baxis": {
            "gridcolor": "white",
            "linecolor": "white",
            "ticks": ""
           },
           "bgcolor": "#E5ECF6",
           "caxis": {
            "gridcolor": "white",
            "linecolor": "white",
            "ticks": ""
           }
          },
          "title": {
           "x": 0.05
          },
          "xaxis": {
           "automargin": true,
           "gridcolor": "white",
           "linecolor": "white",
           "ticks": "",
           "title": {
            "standoff": 15
           },
           "zerolinecolor": "white",
           "zerolinewidth": 2
          },
          "yaxis": {
           "automargin": true,
           "gridcolor": "white",
           "linecolor": "white",
           "ticks": "",
           "title": {
            "standoff": 15
           },
           "zerolinecolor": "white",
           "zerolinewidth": 2
          }
         }
        },
        "title": {
         "font": {
          "color": "#1C2C5b",
          "family": "Arial",
          "size": 25
         },
         "text": "SCA & GCA - Attacking Efficiency (90s > 10)"
        },
        "updatemenus": [
         {
          "buttons": [
           {
            "args": [
             null,
             {
              "frame": {
               "duration": 500,
               "redraw": false
              },
              "fromcurrent": true,
              "mode": "immediate",
              "transition": {
               "duration": 500,
               "easing": "linear"
              }
             }
            ],
            "label": "&#9654;",
            "method": "animate"
           },
           {
            "args": [
             [
              null
             ],
             {
              "frame": {
               "duration": 0,
               "redraw": false
              },
              "fromcurrent": true,
              "mode": "immediate",
              "transition": {
               "duration": 0,
               "easing": "linear"
              }
             }
            ],
            "label": "&#9724;",
            "method": "animate"
           }
          ],
          "direction": "left",
          "pad": {
           "r": 10,
           "t": 70
          },
          "showactive": false,
          "type": "buttons",
          "x": 0.1,
          "xanchor": "right",
          "y": 0,
          "yanchor": "top"
         }
        ],
        "width": 1280,
        "xaxis": {
         "anchor": "y",
         "domain": [
          0,
          1
         ],
         "range": [
          -0.2,
          10
         ],
         "showgrid": true,
         "tickfont": {
          "color": "#1C2C5b",
          "family": "Arial Black",
          "size": 15
         },
         "title": {
          "font": {
           "color": "#1C2C5b",
           "size": 20
          },
          "text": "<b>SCA90</b>"
         }
        },
        "yaxis": {
         "anchor": "x",
         "domain": [
          0,
          1
         ],
         "range": [
          -0.2,
          2
         ],
         "showgrid": true,
         "tickfont": {
          "color": "#1C2C5b",
          "family": "Arial Black",
          "size": 15
         },
         "title": {
          "font": {
           "color": "#1C2C5b",
           "size": 20
          },
          "text": "<b>GCA90</b>"
         }
        }
       }
      }
     },
     "metadata": {},
     "output_type": "display_data"
    }
   ],
   "source": [
    "fig = px.scatter(\n",
    "    x = df['SCA']['SCA90']\n",
    "    ,y=df['GCA']['GCA90']\n",
    "    ,color=df['team']\n",
    "    ,text=df['player']\n",
    "    ,hover_data=[df['player'],df['nation']]\n",
    "    ,animation_frame = df['season']\n",
    "    ,animation_group = df['player']\n",
    "    ,height=720\n",
    "    ,width=1280\n",
    "    ,title = f\"SCA & GCA - Attacking Efficiency (90s > 10)\"\n",
    "    ,labels={\n",
    "        \"x\":\"<b>SCA90</b>\",\n",
    "        \"y\":\"<b>GCA90</b>\",\n",
    "        \"color\":\"Team\",\n",
    "        \"hover_data_0\":\"Player\",\n",
    "        \"hover_data_1\":\"Nation\"\n",
    "    },\n",
    "    range_x=[-0.2,10],\n",
    "    range_y=[-0.2,2]\n",
    "    )\n",
    "\n",
    "fig.update_layout(\n",
    "    showlegend=True,\n",
    "    images=[dict(\n",
    "        source=Image.open(rf\"{dir}coreyrastello\\data\\premier-league\\logos\\EPL.png\"),\n",
    "        xref=\"paper\", yref=\"paper\",\n",
    "        x=1, y=1.03,\n",
    "        sizex=0.2, sizey=0.2,\n",
    "        xanchor=\"right\", yanchor=\"bottom\"\n",
    "      )],\n",
    "    margin=dict(l=20, r=20, t=120, b=20),\n",
    "    paper_bgcolor='lavender',\n",
    "    title={\n",
    "        'font':{\n",
    "            'family':'Arial',\n",
    "            'size' :25,\n",
    "            'color':'#1C2C5b'\n",
    "        }}\n",
    ")\n",
    "\n",
    "fig.update_traces(textposition='bottom center')\n",
    "\n",
    "fig.update_yaxes(showgrid=True, tickfont_family='Arial Black', tickfont_size=15, titlefont_size=20, titlefont_color='#1C2C5b', tickfont_color='#1C2C5b')\n",
    "fig.update_xaxes(showgrid=True, tickfont_family='Arial Black', tickfont_size=15, titlefont_size=20, titlefont_color='#1C2C5b', tickfont_color='#1C2C5b')\n",
    "\n",
    "fig.write_html(rf\"{dir}coreyrastello\\visualization\\python\\premierleague_SCA_GCA_animated.html\")\n",
    "fig.write_html(rf\"{doc_dir}premierleague_SCA_GCA_animated.html\")\n",
    "fig.show()"
   ]
  },
  {
   "cell_type": "code",
   "execution_count": null,
   "metadata": {},
   "outputs": [],
   "source": []
  }
 ],
 "metadata": {
  "kernelspec": {
   "display_name": "penv_3_11",
   "language": "python",
   "name": "python3"
  },
  "language_info": {
   "codemirror_mode": {
    "name": "ipython",
    "version": 3
   },
   "file_extension": ".py",
   "mimetype": "text/x-python",
   "name": "python",
   "nbconvert_exporter": "python",
   "pygments_lexer": "ipython3",
   "version": "3.11.10"
  },
  "orig_nbformat": 4
 },
 "nbformat": 4,
 "nbformat_minor": 2
}
