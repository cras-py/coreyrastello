{
 "cells": [
  {
   "cell_type": "code",
   "execution_count": 1,
   "metadata": {},
   "outputs": [],
   "source": [
    "from simple_salesforce import Salesforce\n",
    "import requests\n",
    "import pandas as pd\n",
    "from io import StringIO\n",
    "import os\n",
    "\n",
    "sf = Salesforce(\n",
    "    username=os.getenv('SFDC_USER')\n",
    "    , password=os.getenv('SFDC_PASS')\n",
    "    , security_token=os.getenv('SFDC_TOKEN')\n",
    ")"
   ]
  },
  {
   "cell_type": "code",
   "execution_count": 4,
   "metadata": {},
   "outputs": [],
   "source": [
    "sf_instance = 'https://crastellopy-dev-ed.develop.my.salesforce.com/' #Your Salesforce Instance URL\n",
    "reportId = '00Oa5000006XDz7EAG'\n",
    "export = '?isdtp=p1&export=1&enc=UTF-8&xf=csv'\n",
    "sfUrl = sf_instance + reportId + export\n",
    "response = requests.get(sfUrl, headers=sf.headers, cookies={'sid': sf.session_id})\n",
    "download_report = response.content.decode('utf-8')\n",
    "separator = \"\\n\\n\\n\"\n",
    "try:\n",
    "    separator_index = download_report.rfind(separator)  # Use rfind to find the *last* occurrence\n",
    "\n",
    "    if separator_index != -1: #check if the separator was found\n",
    "        data_part = download_report[:separator_index]\n",
    "        df1 = pd.read_csv(StringIO(data_part))\n",
    "    else:\n",
    "        raise ValueError(\"Separator not found\") # Or handle as you see fit\n",
    "\n",
    "except ValueError as e:  # Separator not found\n",
    "    print(f\"Error: {e}\")  # Print the error message\n",
    "    df1 = pd.DataFrame()"
   ]
  },
  {
   "cell_type": "code",
   "execution_count": 7,
   "metadata": {},
   "outputs": [
    {
     "name": "stdout",
     "output_type": "stream",
     "text": [
      "|    |   Owner Role | Opportunity Owner   | Account Name    | Opportunity Name             | Stage             | Fiscal Period   |    Amount |   Expected Revenue |   Probability (%) |   Age | Close Date   | Created Date   |   Next Step | Lead Source       | Type                  | Industry   | Forecast Category   |\n",
      "|---:|-------------:|:--------------------|:----------------|:-----------------------------|:------------------|:----------------|----------:|-------------------:|------------------:|------:|:-------------|:---------------|------------:|:------------------|:----------------------|:-----------|:--------------------|\n",
      "|  0 |          nan | Irene McCoy         | Morton128 Inc   | Opportunity for Lewis1718    | Closed Won        | Q4-2023         | 1415700.0 |          1415700.0 |               100 |   0.0 | 10/2/2023    | 2/10/2024      |         nan | Employee Referral | New Business          | Energy     | Closed              |\n",
      "|  1 |          nan | Evelyn Williamson   | Cobb132 Inc     | Opportunity for Freeman746   | Closed Won        | Q4-2023         | 1411200.0 |          1411200.0 |               100 |   0.0 | 11/8/2023    | 2/10/2024      |         nan | Word of mouth     | New Business          | Energy     | Closed              |\n",
      "|  2 |          nan | Kelly Frazier       | Nichols134 Inc  | Opportunity for Klein1486    | Qualification     | Q3-2024         |  431073.0 |            43107.3 |                10 | 366.0 | 7/31/2024    | 2/10/2024      |         nan | Employee Referral | New Business          | Energy     | Pipeline            |\n",
      "|  3 |          nan | Eric Sanchez        | Thompson136 Inc | Opportunity for Duncan1725   | Qualification     | Q3-2024         |  847450.0 |            84745.0 |                10 | 366.0 | 7/28/2024    | 2/10/2024      |         nan | Public Relations  | Existing Business     | Energy     | Pipeline            |\n",
      "|  4 |          nan | Doroth Gardner      | Ramirez137 Inc  | Opportunity for Reynolds1553 | Value Proposition | Q2-2024         | 3464115.0 |          1732057.5 |                50 | 366.0 | 5/25/2024    | 2/10/2024      |         nan | Advertisement     | New Business / Add-on | Energy     | Pipeline            |\n"
     ]
    }
   ],
   "source": [
    "print(df1.head().to_markdown(floatfmt=''))"
   ]
  },
  {
   "cell_type": "code",
   "execution_count": 6,
   "metadata": {},
   "outputs": [
    {
     "data": {
      "text/html": [
       "<div>\n",
       "<style scoped>\n",
       "    .dataframe tbody tr th:only-of-type {\n",
       "        vertical-align: middle;\n",
       "    }\n",
       "\n",
       "    .dataframe tbody tr th {\n",
       "        vertical-align: top;\n",
       "    }\n",
       "\n",
       "    .dataframe thead th {\n",
       "        text-align: right;\n",
       "    }\n",
       "</style>\n",
       "<table border=\"1\" class=\"dataframe\">\n",
       "  <thead>\n",
       "    <tr style=\"text-align: right;\">\n",
       "      <th></th>\n",
       "      <th>Owner Role</th>\n",
       "      <th>Opportunity Owner</th>\n",
       "      <th>Account Name</th>\n",
       "      <th>Opportunity Name</th>\n",
       "      <th>Stage</th>\n",
       "      <th>Fiscal Period</th>\n",
       "      <th>Amount</th>\n",
       "      <th>Expected Revenue</th>\n",
       "      <th>Probability (%)</th>\n",
       "      <th>Age</th>\n",
       "      <th>Close Date</th>\n",
       "      <th>Created Date</th>\n",
       "      <th>Next Step</th>\n",
       "      <th>Lead Source</th>\n",
       "      <th>Type</th>\n",
       "      <th>Industry</th>\n",
       "      <th>Forecast Category</th>\n",
       "    </tr>\n",
       "  </thead>\n",
       "  <tbody>\n",
       "    <tr>\n",
       "      <th>0</th>\n",
       "      <td>NaN</td>\n",
       "      <td>Irene McCoy</td>\n",
       "      <td>Morton128 Inc</td>\n",
       "      <td>Opportunity for Lewis1718</td>\n",
       "      <td>Closed Won</td>\n",
       "      <td>Q4-2023</td>\n",
       "      <td>1415700.0</td>\n",
       "      <td>1415700.0</td>\n",
       "      <td>100</td>\n",
       "      <td>0.0</td>\n",
       "      <td>10/2/2023</td>\n",
       "      <td>2/10/2024</td>\n",
       "      <td>NaN</td>\n",
       "      <td>Employee Referral</td>\n",
       "      <td>New Business</td>\n",
       "      <td>Energy</td>\n",
       "      <td>Closed</td>\n",
       "    </tr>\n",
       "    <tr>\n",
       "      <th>1</th>\n",
       "      <td>NaN</td>\n",
       "      <td>Evelyn Williamson</td>\n",
       "      <td>Cobb132 Inc</td>\n",
       "      <td>Opportunity for Freeman746</td>\n",
       "      <td>Closed Won</td>\n",
       "      <td>Q4-2023</td>\n",
       "      <td>1411200.0</td>\n",
       "      <td>1411200.0</td>\n",
       "      <td>100</td>\n",
       "      <td>0.0</td>\n",
       "      <td>11/8/2023</td>\n",
       "      <td>2/10/2024</td>\n",
       "      <td>NaN</td>\n",
       "      <td>Word of mouth</td>\n",
       "      <td>New Business</td>\n",
       "      <td>Energy</td>\n",
       "      <td>Closed</td>\n",
       "    </tr>\n",
       "    <tr>\n",
       "      <th>2</th>\n",
       "      <td>NaN</td>\n",
       "      <td>Kelly Frazier</td>\n",
       "      <td>Nichols134 Inc</td>\n",
       "      <td>Opportunity for Klein1486</td>\n",
       "      <td>Qualification</td>\n",
       "      <td>Q3-2024</td>\n",
       "      <td>431073.0</td>\n",
       "      <td>43107.3</td>\n",
       "      <td>10</td>\n",
       "      <td>366.0</td>\n",
       "      <td>7/31/2024</td>\n",
       "      <td>2/10/2024</td>\n",
       "      <td>NaN</td>\n",
       "      <td>Employee Referral</td>\n",
       "      <td>New Business</td>\n",
       "      <td>Energy</td>\n",
       "      <td>Pipeline</td>\n",
       "    </tr>\n",
       "    <tr>\n",
       "      <th>3</th>\n",
       "      <td>NaN</td>\n",
       "      <td>Eric Sanchez</td>\n",
       "      <td>Thompson136 Inc</td>\n",
       "      <td>Opportunity for Duncan1725</td>\n",
       "      <td>Qualification</td>\n",
       "      <td>Q3-2024</td>\n",
       "      <td>847450.0</td>\n",
       "      <td>84745.0</td>\n",
       "      <td>10</td>\n",
       "      <td>366.0</td>\n",
       "      <td>7/28/2024</td>\n",
       "      <td>2/10/2024</td>\n",
       "      <td>NaN</td>\n",
       "      <td>Public Relations</td>\n",
       "      <td>Existing Business</td>\n",
       "      <td>Energy</td>\n",
       "      <td>Pipeline</td>\n",
       "    </tr>\n",
       "    <tr>\n",
       "      <th>4</th>\n",
       "      <td>NaN</td>\n",
       "      <td>Doroth Gardner</td>\n",
       "      <td>Ramirez137 Inc</td>\n",
       "      <td>Opportunity for Reynolds1553</td>\n",
       "      <td>Value Proposition</td>\n",
       "      <td>Q2-2024</td>\n",
       "      <td>3464115.0</td>\n",
       "      <td>1732057.5</td>\n",
       "      <td>50</td>\n",
       "      <td>366.0</td>\n",
       "      <td>5/25/2024</td>\n",
       "      <td>2/10/2024</td>\n",
       "      <td>NaN</td>\n",
       "      <td>Advertisement</td>\n",
       "      <td>New Business / Add-on</td>\n",
       "      <td>Energy</td>\n",
       "      <td>Pipeline</td>\n",
       "    </tr>\n",
       "  </tbody>\n",
       "</table>\n",
       "</div>"
      ],
      "text/plain": [
       "  Owner Role  Opportunity Owner     Account Name  \\\n",
       "0        NaN        Irene McCoy    Morton128 Inc   \n",
       "1        NaN  Evelyn Williamson      Cobb132 Inc   \n",
       "2        NaN      Kelly Frazier   Nichols134 Inc   \n",
       "3        NaN       Eric Sanchez  Thompson136 Inc   \n",
       "4        NaN     Doroth Gardner   Ramirez137 Inc   \n",
       "\n",
       "               Opportunity Name              Stage Fiscal Period     Amount  \\\n",
       "0     Opportunity for Lewis1718         Closed Won       Q4-2023  1415700.0   \n",
       "1    Opportunity for Freeman746         Closed Won       Q4-2023  1411200.0   \n",
       "2     Opportunity for Klein1486      Qualification       Q3-2024   431073.0   \n",
       "3    Opportunity for Duncan1725      Qualification       Q3-2024   847450.0   \n",
       "4  Opportunity for Reynolds1553  Value Proposition       Q2-2024  3464115.0   \n",
       "\n",
       "   Expected Revenue  Probability (%)    Age Close Date Created Date  \\\n",
       "0         1415700.0              100    0.0  10/2/2023    2/10/2024   \n",
       "1         1411200.0              100    0.0  11/8/2023    2/10/2024   \n",
       "2           43107.3               10  366.0  7/31/2024    2/10/2024   \n",
       "3           84745.0               10  366.0  7/28/2024    2/10/2024   \n",
       "4         1732057.5               50  366.0  5/25/2024    2/10/2024   \n",
       "\n",
       "   Next Step        Lead Source                   Type Industry  \\\n",
       "0        NaN  Employee Referral           New Business   Energy   \n",
       "1        NaN      Word of mouth           New Business   Energy   \n",
       "2        NaN  Employee Referral           New Business   Energy   \n",
       "3        NaN   Public Relations      Existing Business   Energy   \n",
       "4        NaN      Advertisement  New Business / Add-on   Energy   \n",
       "\n",
       "  Forecast Category  \n",
       "0            Closed  \n",
       "1            Closed  \n",
       "2          Pipeline  \n",
       "3          Pipeline  \n",
       "4          Pipeline  "
      ]
     },
     "execution_count": 6,
     "metadata": {},
     "output_type": "execute_result"
    }
   ],
   "source": [
    "df1.head()"
   ]
  },
  {
   "cell_type": "code",
   "execution_count": 1,
   "metadata": {},
   "outputs": [
    {
     "name": "stdout",
     "output_type": "stream",
     "text": [
      "|    | Id                 | Name                       | CloseDate           | CreatedDate         | Account.Name    |\n",
      "|---:|:-------------------|:---------------------------|:--------------------|:--------------------|:----------------|\n",
      "|  0 | 006a50000004MCnAAM | Opportunity for Higgins293 | 2024-03-07 00:00:00 | 2024-02-10 02:26:48 | Stone555 Inc    |\n",
      "|  1 | 006a50000004MowAAE | Opportunity for Parker1715 | 2024-03-08 00:00:00 | 2024-02-10 02:26:48 | Aguilar870 Inc  |\n",
      "|  2 | 006a50000004MEjAAM | Opportunity for Malone696  | 2024-03-10 00:00:00 | 2024-02-10 02:26:48 | Fletcher429 Inc |\n",
      "|  3 | 006a50000004MZTAA2 | Opportunity for Murphy1963 | 2024-03-12 00:00:00 | 2024-02-10 02:26:48 | Rivera969 Inc   |\n",
      "|  4 | 006a50000004MmwAAE | Opportunity for Newton532  | 2024-03-13 00:00:00 | 2024-02-10 02:26:48 | Fletcher234 Inc |\n"
     ]
    }
   ],
   "source": [
    "from simple_salesforce import Salesforce\n",
    "import requests\n",
    "import pandas as pd\n",
    "from io import StringIO\n",
    "import os\n",
    "import numpy as np\n",
    "import tabulate\n",
    "\n",
    "sf = Salesforce(\n",
    "    username=os.getenv('SFDC_USER_DEV')\n",
    "    , password=os.getenv('SFDC_PASS_DEV')\n",
    "    , security_token=os.getenv('SFDC_TOKEN_DEV')\n",
    ")\n",
    "\n",
    "def sf_api_query(soql, dateList=None, tz=None):\n",
    "    data = sf.query_all(soql)\n",
    "    try:\n",
    "        df = pd.DataFrame(data[\"records\"]).drop(\"attributes\", axis=1)\n",
    "        listColumns = list(df.columns)\n",
    "        for col in listColumns:\n",
    "            if any(\n",
    "                isinstance(df[col].values[i], dict)\n",
    "                for i in range(0, len(df[col].values))\n",
    "            ):\n",
    "                df = pd.concat(\n",
    "                    [\n",
    "                        df.drop(columns=[col]),\n",
    "                        df[col]\n",
    "                        .apply(pd.Series)\n",
    "                        .drop(\"attributes\", axis=1)\n",
    "                        .add_prefix(col + \".\"),\n",
    "                    ],\n",
    "                    axis=1,\n",
    "                )\n",
    "                new_columns = np.setdiff1d(df.columns, listColumns)\n",
    "                for i in new_columns:\n",
    "                    listColumns.append(i)\n",
    "        try:\n",
    "            for date in dateList:\n",
    "                if max(df[date].str.len()) > 10:\n",
    "                    try:\n",
    "                        df[date] = (\n",
    "                            pd.to_datetime(df[date])\n",
    "                            .dt.tz_convert(tz)\n",
    "                            .dt.tz_localize(None)\n",
    "                        )\n",
    "                    except:\n",
    "                        pass\n",
    "                else:\n",
    "                    try:\n",
    "                        df[date] = pd.to_datetime(df[date])\n",
    "                    except:\n",
    "                        pass\n",
    "        except:\n",
    "            pass\n",
    "        return df\n",
    "    except:\n",
    "        print(\"The Query returned 0 rows\")\n",
    "\n",
    "\n",
    "soql = '''\n",
    "    SELECT \n",
    "    Id\n",
    "    ,Name\n",
    "    ,CloseDate\n",
    "    ,CreatedDate\n",
    "    ,Account.Name \n",
    "    FROM Opportunity \n",
    "    WHERE IsClosed = false \n",
    "    LIMIT 20\n",
    "'''\n",
    "\n",
    "df = sf_api_query(soql,dateList=['CloseDate','CreatedDate'],tz='America/Chicago')\n",
    "print(df.head().to_markdown(index=True))"
   ]
  },
  {
   "cell_type": "code",
   "execution_count": 6,
   "metadata": {},
   "outputs": [
    {
     "name": "stdout",
     "output_type": "stream",
     "text": [
      "|    | Product Name                                            | Product Code                      | Litera Product Family   | Litera Product Group   | Product Line of Business   |   Product Persona |   Product Category |   Is Services Product |   Active (Product) |   One-time |   EOL Date | Case Safe ID       |   NetSuite Id |   NetSuite Id (IO) |\n",
      "|---:|:--------------------------------------------------------|:----------------------------------|:------------------------|:-----------------------|:---------------------------|------------------:|-------------------:|----------------------:|-------------------:|-----------:|-----------:|:-------------------|--------------:|-------------------:|\n",
      "|  0 | FileTrail Language Support - French - Hosted            | SW-FT-French-ST-List              | Governance              | FileTrail              | Firm Performance           |               nan |                nan |                     0 |                  1 |          0 |        nan | 01t4X000009STPeQAO |          6087 |                nan |\n",
      "|  1 | FileTrail - Services - Known Integration - NetDocuments | SRV-FT-THIRDPARTY-NETDOCS-BILL-TM | Governance              | FileTrail              | Firm Performance           |               nan |                nan |                     1 |                  1 |          1 |        nan | 01t4X000009STPfQAO |          6140 |                nan |\n",
      "|  2 | FileTrail - Services - Known Integration - Restore      | SRV-FT-THIRDPARTY-RESTORE-BILL-TM | Governance              | FileTrail              | Firm Performance           |               nan |                nan |                     1 |                  1 |          1 |        nan | 01t4X000009STU5QAO |          6155 |                nan |\n",
      "|  3 | FileTrail Digital - Hosted - Legal                      | SW-FT-GOV-5-ST-Block              | Governance              | FileTrail              | Firm Performance           |               nan |                nan |                     0 |                  1 |          0 |        nan | 01t4X000009STOWQA4 |          6073 |                nan |\n",
      "|  4 | FileShare Connector - On Premise                        | SW-FT-FILESHARE-OP-EACH           | Governance              | FileTrail              | Firm Performance           |               nan |                nan |                     0 |                  1 |          0 |        nan | 01t4X000009STOXQA4 |          6040 |                nan |\n"
     ]
    }
   ],
   "source": [
    "print(df1.head().to_markdown())"
   ]
  },
  {
   "cell_type": "code",
   "execution_count": 7,
   "metadata": {},
   "outputs": [],
   "source": [
    "df1.head().to_clipboard()"
   ]
  },
  {
   "cell_type": "code",
   "execution_count": 9,
   "metadata": {},
   "outputs": [],
   "source": [
    "df = pd.read_clipboard()"
   ]
  },
  {
   "cell_type": "code",
   "execution_count": 10,
   "metadata": {},
   "outputs": [
    {
     "name": "stdout",
     "output_type": "stream",
     "text": [
      "|    | Product Name   | Product Code   | Product Category   | Product Group   | Line of Business   | Case Safe ID       |\n",
      "|---:|:---------------|:---------------|:-------------------|:----------------|:-------------------|:-------------------|\n",
      "|  0 | Core Software  | SW-C           | Software           | Core            | Core               | 01t4X0000012345678 |\n",
      "|  1 | Pro Software   | SW-P           | Software           | Pro             | Pro                | 01t4X0000012345679 |\n",
      "|  2 | Implementation | IMP            | Services           | Services        | Services           | 01t4X0000012345680 |\n",
      "|  3 | Hardware A     | HW-A           | Hardware           | Terminals       | Hardware           | 01t4X0000012345681 |\n",
      "|  4 | Hardware B     | HW-B           | Hardware           | Printers        | Hardware           | 01t4X0000012345682 |\n"
     ]
    }
   ],
   "source": [
    "print(df.head().to_markdown())"
   ]
  },
  {
   "cell_type": "code",
   "execution_count": 2,
   "metadata": {},
   "outputs": [
    {
     "data": {
      "text/plain": [
       "'crastellopy-dev-ed.develop.my.salesforce.com'"
      ]
     },
     "execution_count": 2,
     "metadata": {},
     "output_type": "execute_result"
    }
   ],
   "source": [
    "sf.sf_instance"
   ]
  },
  {
   "cell_type": "code",
   "execution_count": null,
   "metadata": {},
   "outputs": [],
   "source": []
  }
 ],
 "metadata": {
  "kernelspec": {
   "display_name": "penv3_11",
   "language": "python",
   "name": "python3"
  },
  "language_info": {
   "codemirror_mode": {
    "name": "ipython",
    "version": 3
   },
   "file_extension": ".py",
   "mimetype": "text/x-python",
   "name": "python",
   "nbconvert_exporter": "python",
   "pygments_lexer": "ipython3",
   "version": "3.11.7"
  }
 },
 "nbformat": 4,
 "nbformat_minor": 2
}
